{
 "cells": [
  {
   "cell_type": "markdown",
   "id": "6eeb8699",
   "metadata": {
    "papermill": {
     "duration": 0.011015,
     "end_time": "2025-06-29T14:55:33.840721",
     "exception": false,
     "start_time": "2025-06-29T14:55:33.829706",
     "status": "completed"
    },
    "tags": []
   },
   "source": [
    "Download genes from: https://www.oncokb.org/cancer-genes (read the .tsv)  \n",
    "Then filter via the Vogelstein et al. (2013). column   \n",
    "Then create a parquet with similar columns to kaggle/input/oncokb-cancer-gene-list/mutations_3.parquet"
   ]
  },
  {
   "cell_type": "markdown",
   "id": "91ae9ab4",
   "metadata": {
    "papermill": {
     "duration": 0.009892,
     "end_time": "2025-06-29T14:55:33.860384",
     "exception": false,
     "start_time": "2025-06-29T14:55:33.850492",
     "status": "completed"
    },
    "tags": []
   },
   "source": [
    "From BiolSys - zajęcia:"
   ]
  },
  {
   "cell_type": "markdown",
   "id": "1c38009f",
   "metadata": {
    "papermill": {
     "duration": 0.00925,
     "end_time": "2025-06-29T14:55:33.879069",
     "exception": false,
     "start_time": "2025-06-29T14:55:33.869819",
     "status": "completed"
    },
    "tags": []
   },
   "source": [
    "## 1. Przygotowanie danych:"
   ]
  },
  {
   "cell_type": "markdown",
   "id": "8c70ef62",
   "metadata": {
    "papermill": {
     "duration": 0.009395,
     "end_time": "2025-06-29T14:55:33.897890",
     "exception": false,
     "start_time": "2025-06-29T14:55:33.888495",
     "status": "completed"
    },
    "tags": []
   },
   "source": [
    "## OncoKB database:"
   ]
  },
  {
   "cell_type": "code",
   "execution_count": 1,
   "id": "d278aeeb",
   "metadata": {
    "execution": {
     "iopub.execute_input": "2025-06-29T14:55:33.917755Z",
     "iopub.status.busy": "2025-06-29T14:55:33.917504Z",
     "iopub.status.idle": "2025-06-29T14:55:35.344714Z",
     "shell.execute_reply": "2025-06-29T14:55:35.344101Z"
    },
    "papermill": {
     "duration": 1.438665,
     "end_time": "2025-06-29T14:55:35.346039",
     "exception": false,
     "start_time": "2025-06-29T14:55:33.907374",
     "status": "completed"
    },
    "tags": []
   },
   "outputs": [],
   "source": [
    "import pandas as pd\n",
    "\n",
    "oncokb_df = pd.read_csv('/kaggle/input/oncokb-cancer-gene-list/cancerGeneList.tsv', sep=\"\\t\")\n",
    "oncokb_df = oncokb_df[oncokb_df['Vogelstein']=='Yes'] \n",
    "genes_list = oncokb_df['Hugo Symbol']"
   ]
  },
  {
   "cell_type": "code",
   "execution_count": 2,
   "id": "8e9c1306",
   "metadata": {
    "execution": {
     "iopub.execute_input": "2025-06-29T14:55:35.366738Z",
     "iopub.status.busy": "2025-06-29T14:55:35.366495Z",
     "iopub.status.idle": "2025-06-29T14:55:35.371226Z",
     "shell.execute_reply": "2025-06-29T14:55:35.370708Z"
    },
    "papermill": {
     "duration": 0.01615,
     "end_time": "2025-06-29T14:55:35.372280",
     "exception": false,
     "start_time": "2025-06-29T14:55:35.356130",
     "status": "completed"
    },
    "tags": []
   },
   "outputs": [
    {
     "data": {
      "text/plain": [
       "(125,)"
      ]
     },
     "execution_count": 2,
     "metadata": {},
     "output_type": "execute_result"
    }
   ],
   "source": [
    "genes_list.shape"
   ]
  },
  {
   "cell_type": "markdown",
   "id": "0df65d67",
   "metadata": {
    "papermill": {
     "duration": 0.009481,
     "end_time": "2025-06-29T14:55:35.391614",
     "exception": false,
     "start_time": "2025-06-29T14:55:35.382133",
     "status": "completed"
    },
    "tags": []
   },
   "source": [
    "## TCGA database:"
   ]
  },
  {
   "cell_type": "code",
   "execution_count": 3,
   "id": "1fd8c54c",
   "metadata": {
    "execution": {
     "iopub.execute_input": "2025-06-29T14:55:35.411894Z",
     "iopub.status.busy": "2025-06-29T14:55:35.411644Z",
     "iopub.status.idle": "2025-06-29T14:55:35.415180Z",
     "shell.execute_reply": "2025-06-29T14:55:35.414713Z"
    },
    "papermill": {
     "duration": 0.014922,
     "end_time": "2025-06-29T14:55:35.416168",
     "exception": false,
     "start_time": "2025-06-29T14:55:35.401246",
     "status": "completed"
    },
    "tags": []
   },
   "outputs": [],
   "source": [
    "# tutaj można zamiast tego zrobić list.join() albo coś takiego\n",
    "list(genes_list)\n",
    "genes_list_str = \"(\"\n",
    "for gene in genes_list:\n",
    "    genes_list_str += f\"'{gene}', \"\n",
    "genes_list_str = genes_list_str.strip(\", \")\n",
    "genes_list_str += \")\"\n"
   ]
  },
  {
   "cell_type": "code",
   "execution_count": 4,
   "id": "4cb8ecbf",
   "metadata": {
    "execution": {
     "iopub.execute_input": "2025-06-29T14:55:35.481197Z",
     "iopub.status.busy": "2025-06-29T14:55:35.480950Z",
     "iopub.status.idle": "2025-06-29T14:57:13.332640Z",
     "shell.execute_reply": "2025-06-29T14:57:13.332051Z"
    },
    "papermill": {
     "duration": 97.863941,
     "end_time": "2025-06-29T14:57:13.334458",
     "exception": false,
     "start_time": "2025-06-29T14:55:35.470517",
     "status": "completed"
    },
    "tags": []
   },
   "outputs": [
    {
     "name": "stdout",
     "output_type": "stream",
     "text": [
      "Using Kaggle's public dataset BigQuery integration.\n"
     ]
    },
    {
     "name": "stderr",
     "output_type": "stream",
     "text": [
      "/usr/local/lib/python3.11/dist-packages/google/cloud/bigquery/table.py:1727: UserWarning: BigQuery Storage module not found, fetch data with the REST endpoint instead.\n",
      "  warnings.warn(\n"
     ]
    }
   ],
   "source": [
    "from google.cloud import bigquery\n",
    "import pandas as pd\n",
    "# Tworzenie klienta BigQuery\n",
    "client = bigquery.Client()\n",
    "\n",
    "# Zapytanie SQL\n",
    "query = \"\"\"SELECT *\n",
    "FROM `isb-cgc-bq.TCGA.masked_somatic_mutation_hg38_gdc_current`\n",
    "WHERE Variant_Type IN ('SNP', 'DEL', 'INS') AND \n",
    "Hugo_Symbol IN \n",
    "\"\"\"\n",
    "query = query + genes_list_str + \";\"\n",
    "query_job = client.query(query)\n",
    "df_mut = query_job.to_dataframe()\n"
   ]
  },
  {
   "cell_type": "code",
   "execution_count": 5,
   "id": "aedff2ce",
   "metadata": {
    "execution": {
     "iopub.execute_input": "2025-06-29T14:57:13.356735Z",
     "iopub.status.busy": "2025-06-29T14:57:13.356289Z",
     "iopub.status.idle": "2025-06-29T14:57:13.362187Z",
     "shell.execute_reply": "2025-06-29T14:57:13.361614Z"
    },
    "papermill": {
     "duration": 0.017658,
     "end_time": "2025-06-29T14:57:13.363258",
     "exception": false,
     "start_time": "2025-06-29T14:57:13.345600",
     "status": "completed"
    },
    "tags": []
   },
   "outputs": [
    {
     "data": {
      "text/plain": [
       "Index(['project_short_name', 'case_barcode', 'primary_site', 'Hugo_Symbol',\n",
       "       'Entrez_Gene_Id', 'Center', 'NCBI_Build', 'Chromosome',\n",
       "       'Start_Position', 'End_Position',\n",
       "       ...\n",
       "       'callers', 'file_gdc_id', 'muse', 'mutect2', 'pindel', 'varscan2',\n",
       "       'sample_barcode_tumor', 'sample_barcode_normal',\n",
       "       'aliquot_barcode_tumor', 'aliquot_barcode_normal'],\n",
       "      dtype='object', length=152)"
      ]
     },
     "execution_count": 5,
     "metadata": {},
     "output_type": "execute_result"
    }
   ],
   "source": [
    "df_mut.columns"
   ]
  },
  {
   "cell_type": "code",
   "execution_count": 6,
   "id": "3f623b09",
   "metadata": {
    "execution": {
     "iopub.execute_input": "2025-06-29T14:57:13.384037Z",
     "iopub.status.busy": "2025-06-29T14:57:13.383826Z",
     "iopub.status.idle": "2025-06-29T14:57:13.411629Z",
     "shell.execute_reply": "2025-06-29T14:57:13.411027Z"
    },
    "papermill": {
     "duration": 0.039294,
     "end_time": "2025-06-29T14:57:13.412740",
     "exception": false,
     "start_time": "2025-06-29T14:57:13.373446",
     "status": "completed"
    },
    "tags": []
   },
   "outputs": [
    {
     "data": {
      "text/plain": [
       "<bound method NDFrame.head of       project_short_name  case_barcode       primary_site Hugo_Symbol  \\\n",
       "0              TCGA-LUAD  TCGA-17-Z017  Bronchus and lung         CBL   \n",
       "1              TCGA-COAD  TCGA-AA-3811              Colon        IDH2   \n",
       "2              TCGA-COAD  TCGA-AD-5900              Colon       GATA1   \n",
       "3              TCGA-UCEC  TCGA-AJ-A3BH       Corpus uteri       AXIN1   \n",
       "4              TCGA-UCEC  TCGA-B5-A1MR       Corpus uteri        JAK3   \n",
       "...                  ...           ...                ...         ...   \n",
       "48907           TCGA-LGG  TCGA-VM-A8CA              Brain        NRAS   \n",
       "48908          TCGA-UCEC  TCGA-EO-A22U       Corpus uteri        NRAS   \n",
       "48909          TCGA-SKCM  TCGA-FR-A7U8               Skin        NRAS   \n",
       "48910           TCGA-UCS  TCGA-ND-A4WC        Uterus, NOS        NRAS   \n",
       "48911          TCGA-SKCM  TCGA-RP-A695               Skin        NRAS   \n",
       "\n",
       "       Entrez_Gene_Id Center NCBI_Build Chromosome  Start_Position  \\\n",
       "0                 867     BI     GRCh38      chr11       119274922   \n",
       "1                3418    BCM     GRCh38      chr15        90088686   \n",
       "2                2623    BCM     GRCh38       chrX        48791282   \n",
       "3                8312  WUGSC     GRCh38      chr16          289531   \n",
       "4                3718  WUGSC     GRCh38      chr19        17835938   \n",
       "...               ...    ...        ...        ...             ...   \n",
       "48907            4893     BI     GRCh38       chr1       114713908   \n",
       "48908            4893  WUGSC     GRCh38       chr1       114708573   \n",
       "48909            4893     BI     GRCh38       chr1       114713908   \n",
       "48910            4893     BI     GRCh38       chr1       114713893   \n",
       "48911            4893     BI     GRCh38       chr1       114713908   \n",
       "\n",
       "       End_Position  ...                callers  \\\n",
       "0         119274922  ...       mutect2;varscan2   \n",
       "1          90088686  ...         mutect2;pindel   \n",
       "2          48791282  ...  muse;mutect2;varscan2   \n",
       "3            289531  ...  muse;mutect2;varscan2   \n",
       "4          17835938  ...       mutect2;varscan2   \n",
       "...             ...  ...                    ...   \n",
       "48907     114713908  ...  muse;mutect2;varscan2   \n",
       "48908     114708573  ...  muse;mutect2;varscan2   \n",
       "48909     114713908  ...  muse;mutect2;varscan2   \n",
       "48910     114713893  ...  muse;mutect2;varscan2   \n",
       "48911     114713908  ...  muse;mutect2;varscan2   \n",
       "\n",
       "                                file_gdc_id muse mutect2 pindel varscan2  \\\n",
       "0      0e9ceaa9-c20f-45a1-a55e-7ef515c0b15d   No     Yes     No      Yes   \n",
       "1      d300d561-9fc9-46da-bf33-c8987df2e2f0   No     Yes    Yes       No   \n",
       "2      2376d52e-18c5-4078-ae37-554bee0fe700  Yes     Yes     No      Yes   \n",
       "3      a57188b9-42fa-4db6-8e32-bb0bf1c23756  Yes     Yes     No      Yes   \n",
       "4      1394cf11-3b2a-4047-b332-4f760d9972ba   No     Yes     No      Yes   \n",
       "...                                     ...  ...     ...    ...      ...   \n",
       "48907  9cf7c55f-aad6-4aec-aae4-cbcdb7159144  Yes     Yes     No      Yes   \n",
       "48908  c676f7e1-de13-4c16-b106-a611228881b3  Yes     Yes     No      Yes   \n",
       "48909  80cfe927-35c3-4619-b7eb-4d98a6ecdb52  Yes     Yes     No      Yes   \n",
       "48910  48a4e0a8-d3cc-4b95-bd23-014a50c757e3  Yes     Yes     No      Yes   \n",
       "48911  226c42e6-ecdf-4177-b820-a456d75860ce  Yes     Yes     No      Yes   \n",
       "\n",
       "      sample_barcode_tumor sample_barcode_normal  \\\n",
       "0         TCGA-17-Z017-01A      TCGA-17-Z017-11A   \n",
       "1         TCGA-AA-3811-01A      TCGA-AA-3811-10A   \n",
       "2         TCGA-AD-5900-01A      TCGA-AD-5900-10A   \n",
       "3         TCGA-AJ-A3BH-01A      TCGA-AJ-A3BH-10A   \n",
       "4         TCGA-B5-A1MR-01A      TCGA-B5-A1MR-10A   \n",
       "...                    ...                   ...   \n",
       "48907     TCGA-VM-A8CA-01A      TCGA-VM-A8CA-10A   \n",
       "48908     TCGA-EO-A22U-01A      TCGA-EO-A22U-10B   \n",
       "48909     TCGA-FR-A7U8-06A      TCGA-FR-A7U8-10A   \n",
       "48910     TCGA-ND-A4WC-01A      TCGA-ND-A4WC-10A   \n",
       "48911     TCGA-RP-A695-06A      TCGA-RP-A695-10A   \n",
       "\n",
       "              aliquot_barcode_tumor        aliquot_barcode_normal  \n",
       "0      TCGA-17-Z017-01A-01W-0746-08  TCGA-17-Z017-11A-01W-0746-08  \n",
       "1      TCGA-AA-3811-01A-01D-1981-10  TCGA-AA-3811-10A-01W-0995-10  \n",
       "2      TCGA-AD-5900-01A-11D-1650-10  TCGA-AD-5900-10A-01D-1650-10  \n",
       "3      TCGA-AJ-A3BH-01A-11D-A19Y-09  TCGA-AJ-A3BH-10A-01D-A19Y-09  \n",
       "4      TCGA-B5-A1MR-01A-31D-A14G-09  TCGA-B5-A1MR-10A-01D-A14G-09  \n",
       "...                             ...                           ...  \n",
       "48907  TCGA-VM-A8CA-01A-11D-A36O-08  TCGA-VM-A8CA-10A-01D-A367-08  \n",
       "48908  TCGA-EO-A22U-01A-11D-A17W-09  TCGA-EO-A22U-10B-01D-A17W-09  \n",
       "48909  TCGA-FR-A7U8-06A-21D-A34U-08  TCGA-FR-A7U8-10A-01D-A34X-08  \n",
       "48910  TCGA-ND-A4WC-01A-21D-A28R-08  TCGA-ND-A4WC-10A-01D-A28U-08  \n",
       "48911  TCGA-RP-A695-06A-11D-A30X-08  TCGA-RP-A695-10A-01D-A30X-08  \n",
       "\n",
       "[48912 rows x 152 columns]>"
      ]
     },
     "execution_count": 6,
     "metadata": {},
     "output_type": "execute_result"
    }
   ],
   "source": [
    "df_mut.head"
   ]
  },
  {
   "cell_type": "code",
   "execution_count": 7,
   "id": "63be3370",
   "metadata": {
    "execution": {
     "iopub.execute_input": "2025-06-29T14:57:13.434661Z",
     "iopub.status.busy": "2025-06-29T14:57:13.434046Z",
     "iopub.status.idle": "2025-06-29T14:57:13.971586Z",
     "shell.execute_reply": "2025-06-29T14:57:13.970851Z"
    },
    "papermill": {
     "duration": 0.549478,
     "end_time": "2025-06-29T14:57:13.972831",
     "exception": false,
     "start_time": "2025-06-29T14:57:13.423353",
     "status": "completed"
    },
    "tags": []
   },
   "outputs": [
    {
     "data": {
      "text/plain": [
       "(48912, 152)"
      ]
     },
     "execution_count": 7,
     "metadata": {},
     "output_type": "execute_result"
    }
   ],
   "source": [
    "df_mut.drop_duplicates(inplace=True)\n",
    "df_mut.shape"
   ]
  },
  {
   "cell_type": "code",
   "execution_count": 8,
   "id": "4527f652",
   "metadata": {
    "execution": {
     "iopub.execute_input": "2025-06-29T14:57:13.994625Z",
     "iopub.status.busy": "2025-06-29T14:57:13.994066Z",
     "iopub.status.idle": "2025-06-29T14:57:14.079601Z",
     "shell.execute_reply": "2025-06-29T14:57:14.078913Z"
    },
    "papermill": {
     "duration": 0.097359,
     "end_time": "2025-06-29T14:57:14.080799",
     "exception": false,
     "start_time": "2025-06-29T14:57:13.983440",
     "status": "completed"
    },
    "tags": []
   },
   "outputs": [
    {
     "data": {
      "text/plain": [
       "(48912, 152)"
      ]
     },
     "execution_count": 8,
     "metadata": {},
     "output_type": "execute_result"
    }
   ],
   "source": [
    "df_mut.dropna(subset=[\"Hugo_Symbol\", \"case_barcode\", \"primary_site\"], inplace=True)\n",
    "df_mut.shape"
   ]
  },
  {
   "cell_type": "markdown",
   "id": "0db088df",
   "metadata": {
    "papermill": {
     "duration": 0.010063,
     "end_time": "2025-06-29T14:57:14.101949",
     "exception": false,
     "start_time": "2025-06-29T14:57:14.091886",
     "status": "completed"
    },
    "tags": []
   },
   "source": [
    "## Odczyt z formatu parquet i integracja danych w pandas dataframe"
   ]
  },
  {
   "cell_type": "code",
   "execution_count": 9,
   "id": "a4a58602",
   "metadata": {
    "execution": {
     "iopub.execute_input": "2025-06-29T14:57:14.122953Z",
     "iopub.status.busy": "2025-06-29T14:57:14.122728Z",
     "iopub.status.idle": "2025-06-29T14:57:15.106185Z",
     "shell.execute_reply": "2025-06-29T14:57:15.105367Z"
    },
    "papermill": {
     "duration": 0.995515,
     "end_time": "2025-06-29T14:57:15.107557",
     "exception": false,
     "start_time": "2025-06-29T14:57:14.112042",
     "status": "completed"
    },
    "tags": []
   },
   "outputs": [],
   "source": [
    "df_mut.to_parquet('mutations.parquet', index=False)"
   ]
  },
  {
   "cell_type": "markdown",
   "id": "f0851d2d",
   "metadata": {
    "papermill": {
     "duration": 0.010032,
     "end_time": "2025-06-29T14:57:15.128209",
     "exception": false,
     "start_time": "2025-06-29T14:57:15.118177",
     "status": "completed"
    },
    "tags": []
   },
   "source": [
    "3. Format Parquet  \n",
    "• Zapisz oczyszczone dane mutacji w formacie Parquet.  \n",
    "• Pobierz profil ekspresji RNA (TCGA RNA-seq), usuń duplikaty i zapisz w\n",
    "Parquet.  \n",
    "5. Charakterystyka etykiet  \n",
    "• Zbiór etykiet primary site jest niezbalansowany – różne klasy maja różna\n",
    "liczebność. Zbadaj jaką liczebność mają różne klasy, np. tabelka liczności primary site."
   ]
  },
  {
   "cell_type": "code",
   "execution_count": 10,
   "id": "9ba8efae",
   "metadata": {
    "execution": {
     "iopub.execute_input": "2025-06-29T14:57:15.149748Z",
     "iopub.status.busy": "2025-06-29T14:57:15.149087Z",
     "iopub.status.idle": "2025-06-29T14:58:10.343104Z",
     "shell.execute_reply": "2025-06-29T14:58:10.342504Z"
    },
    "papermill": {
     "duration": 55.206094,
     "end_time": "2025-06-29T14:58:10.344515",
     "exception": false,
     "start_time": "2025-06-29T14:57:15.138421",
     "status": "completed"
    },
    "tags": []
   },
   "outputs": [
    {
     "name": "stderr",
     "output_type": "stream",
     "text": [
      "/usr/local/lib/python3.11/dist-packages/google/cloud/bigquery/table.py:1727: UserWarning: BigQuery Storage module not found, fetch data with the REST endpoint instead.\n",
      "  warnings.warn(\n"
     ]
    }
   ],
   "source": [
    "# Zapytanie SQL\n",
    "query = \"\"\"SELECT case_barcode, gene_name, tpm_unstranded\n",
    "FROM `isb-cgc-bq.TCGA.RNAseq_hg38_gdc_current`\n",
    "WHERE gene_name IN \n",
    "\"\"\"\n",
    "query = query + genes_list_str + \";\"\n",
    "query_job = client.query(query)\n",
    "df_expr = query_job.to_dataframe()"
   ]
  },
  {
   "cell_type": "code",
   "execution_count": 11,
   "id": "e2bae743",
   "metadata": {
    "execution": {
     "iopub.execute_input": "2025-06-29T14:58:10.366846Z",
     "iopub.status.busy": "2025-06-29T14:58:10.366604Z",
     "iopub.status.idle": "2025-06-29T14:58:10.371140Z",
     "shell.execute_reply": "2025-06-29T14:58:10.370454Z"
    },
    "papermill": {
     "duration": 0.016709,
     "end_time": "2025-06-29T14:58:10.372236",
     "exception": false,
     "start_time": "2025-06-29T14:58:10.355527",
     "status": "completed"
    },
    "tags": []
   },
   "outputs": [
    {
     "data": {
      "text/plain": [
       "Index(['case_barcode', 'gene_name', 'tpm_unstranded'], dtype='object')"
      ]
     },
     "execution_count": 11,
     "metadata": {},
     "output_type": "execute_result"
    }
   ],
   "source": [
    "df_expr.columns"
   ]
  },
  {
   "cell_type": "code",
   "execution_count": 12,
   "id": "1900e255",
   "metadata": {
    "execution": {
     "iopub.execute_input": "2025-06-29T14:58:10.393452Z",
     "iopub.status.busy": "2025-06-29T14:58:10.393256Z",
     "iopub.status.idle": "2025-06-29T14:58:11.455280Z",
     "shell.execute_reply": "2025-06-29T14:58:11.454578Z"
    },
    "papermill": {
     "duration": 1.073935,
     "end_time": "2025-06-29T14:58:11.456429",
     "exception": false,
     "start_time": "2025-06-29T14:58:10.382494",
     "status": "completed"
    },
    "tags": []
   },
   "outputs": [
    {
     "data": {
      "text/plain": [
       "<bound method NDFrame.head of          case_barcode gene_name  tpm_unstranded\n",
       "53177    TCGA-02-0003      BAP1         51.6799\n",
       "535980   TCGA-02-0003      TSHR          0.3837\n",
       "1230678  TCGA-02-0003      KRAS         12.6362\n",
       "535979   TCGA-02-0003      ABL1         36.0164\n",
       "535978   TCGA-02-0003     FUBP1         38.9255\n",
       "...               ...       ...             ...\n",
       "70128    TCGA-ZX-AA5X    ACVR1B         30.2560\n",
       "553124   TCGA-ZX-AA5X      ABL1         42.7654\n",
       "1000515  TCGA-ZX-AA5X     ARID2          6.8879\n",
       "70131    TCGA-ZX-AA5X     ERBB2         73.7343\n",
       "1323003  TCGA-ZX-AA5X    PIK3R1         11.7142\n",
       "\n",
       "[1448874 rows x 3 columns]>"
      ]
     },
     "execution_count": 12,
     "metadata": {},
     "output_type": "execute_result"
    }
   ],
   "source": [
    "df_expr.sort_values('case_barcode').head"
   ]
  },
  {
   "cell_type": "code",
   "execution_count": 13,
   "id": "6e58e115",
   "metadata": {
    "execution": {
     "iopub.execute_input": "2025-06-29T14:58:11.479267Z",
     "iopub.status.busy": "2025-06-29T14:58:11.478734Z",
     "iopub.status.idle": "2025-06-29T14:58:11.850841Z",
     "shell.execute_reply": "2025-06-29T14:58:11.850085Z"
    },
    "papermill": {
     "duration": 0.384765,
     "end_time": "2025-06-29T14:58:11.851995",
     "exception": false,
     "start_time": "2025-06-29T14:58:11.467230",
     "status": "completed"
    },
    "tags": []
   },
   "outputs": [
    {
     "name": "stdout",
     "output_type": "stream",
     "text": [
      "Number of duplicate rows: 2943\n"
     ]
    }
   ],
   "source": [
    "# Check duplicates based on rows (entire row duplicates)\n",
    "duplicates = df_expr.duplicated()\n",
    "print(f\"Number of duplicate rows: {duplicates.sum()}\")"
   ]
  },
  {
   "cell_type": "markdown",
   "id": "9b0b112a",
   "metadata": {
    "papermill": {
     "duration": 0.010259,
     "end_time": "2025-06-29T14:58:11.873242",
     "exception": false,
     "start_time": "2025-06-29T14:58:11.862983",
     "status": "completed"
    },
    "tags": []
   },
   "source": [
    "### Usunięcie duplikatów ekspresji"
   ]
  },
  {
   "cell_type": "code",
   "execution_count": 14,
   "id": "97fb8dcf",
   "metadata": {
    "execution": {
     "iopub.execute_input": "2025-06-29T14:58:11.894968Z",
     "iopub.status.busy": "2025-06-29T14:58:11.894487Z",
     "iopub.status.idle": "2025-06-29T14:58:12.432624Z",
     "shell.execute_reply": "2025-06-29T14:58:12.431972Z"
    },
    "papermill": {
     "duration": 0.550378,
     "end_time": "2025-06-29T14:58:12.433825",
     "exception": false,
     "start_time": "2025-06-29T14:58:11.883447",
     "status": "completed"
    },
    "tags": []
   },
   "outputs": [
    {
     "data": {
      "text/plain": [
       "(1445931, 3)"
      ]
     },
     "execution_count": 14,
     "metadata": {},
     "output_type": "execute_result"
    }
   ],
   "source": [
    "# Remove duplicates and NAs\n",
    "df_expr.drop_duplicates(inplace=True)\n",
    "df_expr.dropna(inplace=True)\n",
    "df_expr.shape"
   ]
  },
  {
   "cell_type": "code",
   "execution_count": 15,
   "id": "87d5b272",
   "metadata": {
    "execution": {
     "iopub.execute_input": "2025-06-29T14:58:12.456364Z",
     "iopub.status.busy": "2025-06-29T14:58:12.455987Z",
     "iopub.status.idle": "2025-06-29T14:58:12.850266Z",
     "shell.execute_reply": "2025-06-29T14:58:12.849461Z"
    },
    "papermill": {
     "duration": 0.406942,
     "end_time": "2025-06-29T14:58:12.851755",
     "exception": false,
     "start_time": "2025-06-29T14:58:12.444813",
     "status": "completed"
    },
    "tags": []
   },
   "outputs": [],
   "source": [
    "df_expr.to_parquet('expressions.parquet', index=False)"
   ]
  },
  {
   "cell_type": "code",
   "execution_count": null,
   "id": "ddfb441b",
   "metadata": {
    "papermill": {
     "duration": 0.010283,
     "end_time": "2025-06-29T14:58:12.872942",
     "exception": false,
     "start_time": "2025-06-29T14:58:12.862659",
     "status": "completed"
    },
    "tags": []
   },
   "outputs": [],
   "source": []
  },
  {
   "cell_type": "code",
   "execution_count": 16,
   "id": "e9534753",
   "metadata": {
    "execution": {
     "iopub.execute_input": "2025-06-29T14:58:12.894370Z",
     "iopub.status.busy": "2025-06-29T14:58:12.894155Z",
     "iopub.status.idle": "2025-06-29T14:58:12.897294Z",
     "shell.execute_reply": "2025-06-29T14:58:12.896627Z"
    },
    "papermill": {
     "duration": 0.015256,
     "end_time": "2025-06-29T14:58:12.898472",
     "exception": false,
     "start_time": "2025-06-29T14:58:12.883216",
     "status": "completed"
    },
    "tags": []
   },
   "outputs": [],
   "source": [
    "# df_expr = df_expr.groupby('case_barcode').agg({\n",
    "#    'gene_name': list,\n",
    "#    'tpm_unstranded': list,\n",
    "#}).reset_index()"
   ]
  },
  {
   "cell_type": "markdown",
   "id": "97d81dff",
   "metadata": {
    "papermill": {
     "duration": 0.010247,
     "end_time": "2025-06-29T14:58:12.919214",
     "exception": false,
     "start_time": "2025-06-29T14:58:12.908967",
     "status": "completed"
    },
    "tags": []
   },
   "source": [
    "### 4. Charakterystyka etykiet"
   ]
  },
  {
   "cell_type": "code",
   "execution_count": 17,
   "id": "ebf69768",
   "metadata": {
    "execution": {
     "iopub.execute_input": "2025-06-29T14:58:12.940707Z",
     "iopub.status.busy": "2025-06-29T14:58:12.940483Z",
     "iopub.status.idle": "2025-06-29T14:58:15.022730Z",
     "shell.execute_reply": "2025-06-29T14:58:15.021994Z"
    },
    "papermill": {
     "duration": 2.096158,
     "end_time": "2025-06-29T14:58:15.025767",
     "exception": false,
     "start_time": "2025-06-29T14:58:12.929609",
     "status": "completed"
    },
    "tags": []
   },
   "outputs": [
    {
     "data": {
      "image/png": "[encoded data removed]",
      "text/plain": [
       "<Figure size 1000x1470 with 1 Axes>"
      ]
     },
     "metadata": {},
     "output_type": "display_data"
    }
   ],
   "source": [
    "import pandas as pd\n",
    "import seaborn as sns\n",
    "import matplotlib.pyplot as plt\n",
    "\n",
    "# Count occurrences\n",
    "counts = df_mut[\"primary_site\"].value_counts()\n",
    "\n",
    "# Convert counts Series to DataFrame\n",
    "df_counts = counts.reset_index()\n",
    "df_counts.columns = [\"primary_site\", \"mutations\"]\n",
    "\n",
    "# Set figure size (scale with number of entries)\n",
    "plt.figure(figsize=(10, len(df_counts) * 0.3))\n",
    "\n",
    "# Create horizontal bar plot\n",
    "sns.barplot(\n",
    "    data=df_counts,\n",
    "    x=\"mutations\",\n",
    "    y=\"primary_site\",\n",
    "    palette=\"viridis\"\n",
    ")\n",
    "\n",
    "# Set x-axis to log scale\n",
    "plt.xscale(\"log\")\n",
    "\n",
    "# Labels and layout\n",
    "plt.title(\"Mutation Counts per Primary Site (Log Scale)\")\n",
    "plt.xlabel(\"Number of Mutations (log scale)\")\n",
    "plt.ylabel(\"Primary Site\")\n",
    "plt.tight_layout()\n",
    "plt.show()\n"
   ]
  },
  {
   "cell_type": "markdown",
   "id": "a4002b78",
   "metadata": {
    "papermill": {
     "duration": 0.013003,
     "end_time": "2025-06-29T14:58:15.052059",
     "exception": false,
     "start_time": "2025-06-29T14:58:15.039056",
     "status": "completed"
    },
    "tags": []
   },
   "source": [
    "## 2. Inżynieria cech"
   ]
  },
  {
   "cell_type": "code",
   "execution_count": 18,
   "id": "2c48fcc9",
   "metadata": {
    "execution": {
     "iopub.execute_input": "2025-06-29T14:58:15.078755Z",
     "iopub.status.busy": "2025-06-29T14:58:15.078347Z",
     "iopub.status.idle": "2025-06-29T14:58:21.126685Z",
     "shell.execute_reply": "2025-06-29T14:58:21.125947Z"
    },
    "papermill": {
     "duration": 6.063088,
     "end_time": "2025-06-29T14:58:21.128068",
     "exception": false,
     "start_time": "2025-06-29T14:58:15.064980",
     "status": "completed"
    },
    "tags": []
   },
   "outputs": [
    {
     "name": "stdout",
     "output_type": "stream",
     "text": [
      "Collecting biopython\r\n",
      "  Downloading biopython-1.85-cp311-cp311-manylinux_2_17_x86_64.manylinux2014_x86_64.whl.metadata (13 kB)\r\n",
      "Collecting pyranges\r\n",
      "  Downloading pyranges-0.1.4-py3-none-any.whl.metadata (3.7 kB)\r\n",
      "Requirement already satisfied: numpy in /usr/local/lib/python3.11/dist-packages (from biopython) (1.26.4)\r\n",
      "Requirement already satisfied: pandas in /usr/local/lib/python3.11/dist-packages (from pyranges) (2.2.3)\r\n",
      "Collecting ncls>=0.0.63 (from pyranges)\r\n",
      "  Downloading ncls-0.0.68-cp311-cp311-manylinux_2_17_x86_64.manylinux2014_x86_64.whl.metadata (4.6 kB)\r\n",
      "Requirement already satisfied: tabulate in /usr/local/lib/python3.11/dist-packages (from pyranges) (0.9.0)\r\n",
      "Collecting sorted_nearest>=0.0.33 (from pyranges)\r\n",
      "  Downloading sorted_nearest-0.0.39-cp311-cp311-manylinux_2_17_x86_64.manylinux2014_x86_64.whl.metadata (964 bytes)\r\n",
      "Requirement already satisfied: natsort in /usr/local/lib/python3.11/dist-packages (from pyranges) (8.4.0)\r\n",
      "Requirement already satisfied: mkl_fft in /usr/local/lib/python3.11/dist-packages (from numpy->biopython) (1.3.8)\r\n",
      "Requirement already satisfied: mkl_random in /usr/local/lib/python3.11/dist-packages (from numpy->biopython) (1.2.4)\r\n",
      "Requirement already satisfied: mkl_umath in /usr/local/lib/python3.11/dist-packages (from numpy->biopython) (0.1.1)\r\n",
      "Requirement already satisfied: mkl in /usr/local/lib/python3.11/dist-packages (from numpy->biopython) (2025.1.0)\r\n",
      "Requirement already satisfied: tbb4py in /usr/local/lib/python3.11/dist-packages (from numpy->biopython) (2022.1.0)\r\n",
      "Requirement already satisfied: mkl-service in /usr/local/lib/python3.11/dist-packages (from numpy->biopython) (2.4.1)\r\n",
      "Requirement already satisfied: python-dateutil>=2.8.2 in /usr/local/lib/python3.11/dist-packages (from pandas->pyranges) (2.9.0.post0)\r\n",
      "Requirement already satisfied: pytz>=2020.1 in /usr/local/lib/python3.11/dist-packages (from pandas->pyranges) (2025.2)\r\n",
      "Requirement already satisfied: tzdata>=2022.7 in /usr/local/lib/python3.11/dist-packages (from pandas->pyranges) (2025.2)\r\n",
      "Requirement already satisfied: six>=1.5 in /usr/local/lib/python3.11/dist-packages (from python-dateutil>=2.8.2->pandas->pyranges) (1.17.0)\r\n",
      "Requirement already satisfied: intel-openmp<2026,>=2024 in /usr/local/lib/python3.11/dist-packages (from mkl->numpy->biopython) (2024.2.0)\r\n",
      "Requirement already satisfied: tbb==2022.* in /usr/local/lib/python3.11/dist-packages (from mkl->numpy->biopython) (2022.1.0)\r\n",
      "Requirement already satisfied: tcmlib==1.* in /usr/local/lib/python3.11/dist-packages (from tbb==2022.*->mkl->numpy->biopython) (1.3.0)\r\n",
      "Requirement already satisfied: intel-cmplr-lib-rt in /usr/local/lib/python3.11/dist-packages (from mkl_umath->numpy->biopython) (2024.2.0)\r\n",
      "Requirement already satisfied: intel-cmplr-lib-ur==2024.2.0 in /usr/local/lib/python3.11/dist-packages (from intel-openmp<2026,>=2024->mkl->numpy->biopython) (2024.2.0)\r\n",
      "Downloading biopython-1.85-cp311-cp311-manylinux_2_17_x86_64.manylinux2014_x86_64.whl (3.3 MB)\r\n",
      "\u001b[2K   \u001b[90m━━━━━━━━━━━━━━━━━━━━━━━━━━━━━━━━━━━━━━━━\u001b[0m \u001b[32m3.3/3.3 MB\u001b[0m \u001b[31m48.5 MB/s\u001b[0m eta \u001b[36m0:00:00\u001b[0m\r\n",
      "\u001b[?25hDownloading pyranges-0.1.4-py3-none-any.whl (1.5 MB)\r\n",
      "\u001b[2K   \u001b[90m━━━━━━━━━━━━━━━━━━━━━━━━━━━━━━━━━━━━━━━━\u001b[0m \u001b[32m1.5/1.5 MB\u001b[0m \u001b[31m62.2 MB/s\u001b[0m eta \u001b[36m0:00:00\u001b[0m\r\n",
      "\u001b[?25hDownloading ncls-0.0.68-cp311-cp311-manylinux_2_17_x86_64.manylinux2014_x86_64.whl (2.5 MB)\r\n",
      "\u001b[2K   \u001b[90m━━━━━━━━━━━━━━━━━━━━━━━━━━━━━━━━━━━━━━━━\u001b[0m \u001b[32m2.5/2.5 MB\u001b[0m \u001b[31m79.0 MB/s\u001b[0m eta \u001b[36m0:00:00\u001b[0m\r\n",
      "\u001b[?25hDownloading sorted_nearest-0.0.39-cp311-cp311-manylinux_2_17_x86_64.manylinux2014_x86_64.whl (6.2 MB)\r\n",
      "\u001b[2K   \u001b[90m━━━━━━━━━━━━━━━━━━━━━━━━━━━━━━━━━━━━━━━━\u001b[0m \u001b[32m6.2/6.2 MB\u001b[0m \u001b[31m104.2 MB/s\u001b[0m eta \u001b[36m0:00:00\u001b[0m\r\n",
      "\u001b[?25hInstalling collected packages: sorted_nearest, ncls, pyranges, biopython\r\n",
      "Successfully installed biopython-1.85 ncls-0.0.68 pyranges-0.1.4 sorted_nearest-0.0.39\r\n"
     ]
    }
   ],
   "source": [
    "!pip install biopython pyranges"
   ]
  },
  {
   "cell_type": "code",
   "execution_count": 19,
   "id": "22c5eafe",
   "metadata": {
    "execution": {
     "iopub.execute_input": "2025-06-29T14:58:21.156805Z",
     "iopub.status.busy": "2025-06-29T14:58:21.156534Z",
     "iopub.status.idle": "2025-06-29T14:58:21.311876Z",
     "shell.execute_reply": "2025-06-29T14:58:21.311221Z"
    },
    "papermill": {
     "duration": 0.171014,
     "end_time": "2025-06-29T14:58:21.313291",
     "exception": false,
     "start_time": "2025-06-29T14:58:21.142277",
     "status": "completed"
    },
    "tags": []
   },
   "outputs": [],
   "source": [
    "import re \n",
    "df = df_mut.rename(columns={'Start_Position': 'Start'})\n",
    "df = df.rename(columns={'End_Position': 'End'})"
   ]
  },
  {
   "cell_type": "code",
   "execution_count": 20,
   "id": "004cd7d2",
   "metadata": {
    "execution": {
     "iopub.execute_input": "2025-06-29T14:58:21.343162Z",
     "iopub.status.busy": "2025-06-29T14:58:21.342897Z",
     "iopub.status.idle": "2025-06-29T14:58:21.348304Z",
     "shell.execute_reply": "2025-06-29T14:58:21.347724Z"
    },
    "papermill": {
     "duration": 0.021935,
     "end_time": "2025-06-29T14:58:21.349518",
     "exception": false,
     "start_time": "2025-06-29T14:58:21.327583",
     "status": "completed"
    },
    "tags": []
   },
   "outputs": [
    {
     "data": {
      "text/plain": [
       "Index(['project_short_name', 'case_barcode', 'primary_site', 'Hugo_Symbol',\n",
       "       'Entrez_Gene_Id', 'Center', 'NCBI_Build', 'Chromosome', 'Start', 'End',\n",
       "       ...\n",
       "       'callers', 'file_gdc_id', 'muse', 'mutect2', 'pindel', 'varscan2',\n",
       "       'sample_barcode_tumor', 'sample_barcode_normal',\n",
       "       'aliquot_barcode_tumor', 'aliquot_barcode_normal'],\n",
       "      dtype='object', length=152)"
      ]
     },
     "execution_count": 20,
     "metadata": {},
     "output_type": "execute_result"
    }
   ],
   "source": [
    "df.columns"
   ]
  },
  {
   "cell_type": "code",
   "execution_count": 21,
   "id": "11704f3c",
   "metadata": {
    "execution": {
     "iopub.execute_input": "2025-06-29T14:58:21.382000Z",
     "iopub.status.busy": "2025-06-29T14:58:21.381789Z",
     "iopub.status.idle": "2025-06-29T14:58:53.088340Z",
     "shell.execute_reply": "2025-06-29T14:58:53.087280Z"
    },
    "papermill": {
     "duration": 31.725201,
     "end_time": "2025-06-29T14:58:53.090019",
     "exception": false,
     "start_time": "2025-06-29T14:58:21.364818",
     "status": "completed"
    },
    "tags": []
   },
   "outputs": [
    {
     "name": "stdout",
     "output_type": "stream",
     "text": [
      "--2025-06-29 14:58:21--  http://hgdownload.soe.ucsc.edu/goldenPath/hg38/bigZips/hg38.fa.gz\r\n",
      "Resolving hgdownload.soe.ucsc.edu (hgdownload.soe.ucsc.edu)... 128.114.119.163\r\n",
      "Connecting to hgdownload.soe.ucsc.edu (hgdownload.soe.ucsc.edu)|128.114.119.163|:80... connected.\r\n",
      "HTTP request sent, awaiting response... 200 OK\r\n",
      "Length: 983659424 (938M) [application/x-gzip]\r\n",
      "Saving to: ‘hg38.fa.gz’\r\n",
      "\r\n",
      "hg38.fa.gz          100%[===================>] 938.09M   123MB/s    in 7.8s    \r\n",
      "\r\n",
      "2025-06-29 14:58:29 (121 MB/s) - ‘hg38.fa.gz’ saved [983659424/983659424]\r\n",
      "\r\n"
     ]
    }
   ],
   "source": [
    "!wget http://hgdownload.soe.ucsc.edu/goldenPath/hg38/bigZips/hg38.fa.gz\n",
    "!gunzip hg38.fa.gz"
   ]
  },
  {
   "cell_type": "code",
   "execution_count": 22,
   "id": "01d6ae3c",
   "metadata": {
    "execution": {
     "iopub.execute_input": "2025-06-29T14:58:53.122044Z",
     "iopub.status.busy": "2025-06-29T14:58:53.121816Z",
     "iopub.status.idle": "2025-06-29T14:59:19.588349Z",
     "shell.execute_reply": "2025-06-29T14:59:19.587710Z"
    },
    "papermill": {
     "duration": 26.483675,
     "end_time": "2025-06-29T14:59:19.589652",
     "exception": false,
     "start_time": "2025-06-29T14:58:53.105977",
     "status": "completed"
    },
    "tags": []
   },
   "outputs": [],
   "source": [
    "import pyranges as pr\n",
    "import pandas as pd\n",
    "from Bio import SeqIO\n",
    "\n",
    "gr = pr.PyRanges(df)\n",
    "fasta_sequences = SeqIO.to_dict(SeqIO.parse(\"/kaggle/working/hg38.fa\", \"fasta\"))"
   ]
  },
  {
   "cell_type": "markdown",
   "id": "f0db1872",
   "metadata": {
    "papermill": {
     "duration": 0.014968,
     "end_time": "2025-06-29T14:59:19.620572",
     "exception": false,
     "start_time": "2025-06-29T14:59:19.605604",
     "status": "completed"
    },
    "tags": []
   },
   "source": [
    "## Ekstrakcja motywów mutacyjnych:"
   ]
  },
  {
   "cell_type": "code",
   "execution_count": 23,
   "id": "726509ad",
   "metadata": {
    "execution": {
     "iopub.execute_input": "2025-06-29T14:59:19.652125Z",
     "iopub.status.busy": "2025-06-29T14:59:19.651893Z",
     "iopub.status.idle": "2025-06-29T14:59:19.657847Z",
     "shell.execute_reply": "2025-06-29T14:59:19.657278Z"
    },
    "papermill": {
     "duration": 0.023229,
     "end_time": "2025-06-29T14:59:19.658861",
     "exception": false,
     "start_time": "2025-06-29T14:59:19.635632",
     "status": "completed"
    },
    "tags": []
   },
   "outputs": [],
   "source": [
    "def get_cosmic_notation(row, fasta_dict):\n",
    "    chrom = row.Chromosome  # upewniamy się, że chromosom nie ma prefiksu \"chr\"\n",
    "    start = int(row.Start)\n",
    "    end = int(row.End)\n",
    "    alt = str(row.Tumor_Seq_Allele2) if pd.notnull(row.Tumor_Seq_Allele2) else None\n",
    "    variant_type = row.Variant_Type\n",
    "    cosmic_notation = None\n",
    "\n",
    "    try:\n",
    "        seq = fasta_dict[chrom].seq\n",
    "        context_seq = seq[start-2:end+1].upper()  # np. G[C>T]A -> 1 baza przed i po\n",
    "        ref_base = seq[start-1:end].upper()  \n",
    "\n",
    "        # COSMIC-style notacja\n",
    "        if variant_type == 'SNP':\n",
    "            # np. G[C>T]A\n",
    "            cosmic_notation = f\"{context_seq[0]}[{ref_base}>{alt}]{context_seq[-1]}\"\n",
    "\n",
    "        elif variant_type == 'DEL':\n",
    "            if end > start:\n",
    "                deleted_seq = seq[start-1:end].upper()\n",
    "            else:\n",
    "                deleted_seq = ref_base\n",
    "            cosmic_notation = f\"{context_seq[0]}[del{len(deleted_seq)}]{context_seq[-1]}\"\n",
    "\n",
    "        elif variant_type == 'INS':\n",
    "            inserted_seq = alt\n",
    "            cosmic_notation = f\"{context_seq[0]}[ins{len(inserted_seq)}]{context_seq[-1]}\"\n",
    "\n",
    "        else:\n",
    "            cosmic_notation = f\"UnknownVariantType:{variant_type}\"\n",
    "\n",
    "    except Exception as e:\n",
    "        cosmic_notation = f\"ERROR: {e}\"\n",
    "\n",
    "    return cosmic_notation\n"
   ]
  },
  {
   "cell_type": "code",
   "execution_count": 24,
   "id": "36c213ce",
   "metadata": {
    "execution": {
     "iopub.execute_input": "2025-06-29T14:59:19.689959Z",
     "iopub.status.busy": "2025-06-29T14:59:19.689731Z",
     "iopub.status.idle": "2025-06-29T14:59:21.416091Z",
     "shell.execute_reply": "2025-06-29T14:59:21.415480Z"
    },
    "papermill": {
     "duration": 1.743399,
     "end_time": "2025-06-29T14:59:21.417462",
     "exception": false,
     "start_time": "2025-06-29T14:59:19.674063",
     "status": "completed"
    },
    "tags": []
   },
   "outputs": [],
   "source": [
    "df['Mutational_Motif'] = df.apply(lambda row: get_cosmic_notation(row, fasta_sequences), axis=1)"
   ]
  },
  {
   "cell_type": "markdown",
   "id": "5c9aa236",
   "metadata": {
    "papermill": {
     "duration": 0.014949,
     "end_time": "2025-06-29T14:59:21.448157",
     "exception": false,
     "start_time": "2025-06-29T14:59:21.433208",
     "status": "completed"
    },
    "tags": []
   },
   "source": [
    "## Genomiczne binowanie:"
   ]
  },
  {
   "cell_type": "code",
   "execution_count": 25,
   "id": "ebf847c2",
   "metadata": {
    "execution": {
     "iopub.execute_input": "2025-06-29T14:59:21.479168Z",
     "iopub.status.busy": "2025-06-29T14:59:21.478907Z",
     "iopub.status.idle": "2025-06-29T14:59:21.501531Z",
     "shell.execute_reply": "2025-06-29T14:59:21.501022Z"
    },
    "papermill": {
     "duration": 0.03948,
     "end_time": "2025-06-29T14:59:21.502596",
     "exception": false,
     "start_time": "2025-06-29T14:59:21.463116",
     "status": "completed"
    },
    "tags": []
   },
   "outputs": [],
   "source": [
    "df['Genomic_Bin'] = df['Chromosome'].astype(str) + '_' + (\n",
    "    ((df['Start'] - 1) // 1_000_000) * 1_000_000\n",
    ").astype(str)"
   ]
  },
  {
   "cell_type": "markdown",
   "id": "b62a7328",
   "metadata": {
    "papermill": {
     "duration": 0.014758,
     "end_time": "2025-06-29T14:59:21.532856",
     "exception": false,
     "start_time": "2025-06-29T14:59:21.518098",
     "status": "completed"
    },
    "tags": []
   },
   "source": [
    "## Normalizacja mutacji do pitymidyn, komplementacja:"
   ]
  },
  {
   "cell_type": "code",
   "execution_count": 26,
   "id": "803a5af9",
   "metadata": {
    "execution": {
     "iopub.execute_input": "2025-06-29T14:59:21.563933Z",
     "iopub.status.busy": "2025-06-29T14:59:21.563659Z",
     "iopub.status.idle": "2025-06-29T14:59:21.568247Z",
     "shell.execute_reply": "2025-06-29T14:59:21.567568Z"
    },
    "papermill": {
     "duration": 0.021625,
     "end_time": "2025-06-29T14:59:21.569354",
     "exception": false,
     "start_time": "2025-06-29T14:59:21.547729",
     "status": "completed"
    },
    "tags": []
   },
   "outputs": [],
   "source": [
    "complement = {'A': 'T', 'T': 'A', 'C': 'G', 'G': 'C'}\n",
    "\n",
    "def normalize_mutation(mutation):\n",
    "    match = re.match(r\"([ATGC])([ATGC]>[ATGC])([ATGC]>[ATGC])([ATGC])\", mutation)\n",
    "    if match:\n",
    "        ref, change, alt = match.groups()\n",
    "        ref_from, ref_to = change.split('>')\n",
    "\n",
    "        if ref_from not in ['C', 'T']:\n",
    "            ref_from = complement[ref_from]\n",
    "            ref_to = complement[ref_to]\n",
    "            ref = complement[alt]\n",
    "            alt = complement[ref]\n",
    "\n",
    "        return f\"{ref}[{ref_from}>{ref_to}]{alt}\"\n",
    "\n",
    "    return mutation"
   ]
  },
  {
   "cell_type": "code",
   "execution_count": 27,
   "id": "d1ede883",
   "metadata": {
    "execution": {
     "iopub.execute_input": "2025-06-29T14:59:21.600219Z",
     "iopub.status.busy": "2025-06-29T14:59:21.600025Z",
     "iopub.status.idle": "2025-06-29T14:59:33.873219Z",
     "shell.execute_reply": "2025-06-29T14:59:33.872603Z"
    },
    "papermill": {
     "duration": 12.290151,
     "end_time": "2025-06-29T14:59:33.874539",
     "exception": false,
     "start_time": "2025-06-29T14:59:21.584388",
     "status": "completed"
    },
    "tags": []
   },
   "outputs": [
    {
     "name": "stderr",
     "output_type": "stream",
     "text": [
      "2025-06-29 14:59:22.931589: E external/local_xla/xla/stream_executor/cuda/cuda_fft.cc:477] Unable to register cuFFT factory: Attempting to register factory for plugin cuFFT when one has already been registered\n",
      "WARNING: All log messages before absl::InitializeLog() is called are written to STDERR\n",
      "E0000 00:00:1751209163.116257      19 cuda_dnn.cc:8310] Unable to register cuDNN factory: Attempting to register factory for plugin cuDNN when one has already been registered\n",
      "E0000 00:00:1751209163.166960      19 cuda_blas.cc:1418] Unable to register cuBLAS factory: Attempting to register factory for plugin cuBLAS when one has already been registered\n",
      "/tmp/ipykernel_19/1731204343.py:11: SettingWithCopyWarning: \n",
      "A value is trying to be set on a copy of a slice from a DataFrame.\n",
      "Try using .loc[row_indexer,col_indexer] = value instead\n",
      "\n",
      "See the caveats in the documentation: https://pandas.pydata.org/pandas-docs/stable/user_guide/indexing.html#returning-a-view-versus-a-copy\n",
      "  filtered_df['primary_site_cat'] = filtered_df['primary_site'].astype('category').cat.codes\n"
     ]
    }
   ],
   "source": [
    "from tensorflow.keras.preprocessing.text import Tokenizer\n",
    "\n",
    "mutations = ['A[A>C]A', 'G[G>A]T', 'C[C>T]G', 'T[T>G]T']\n",
    "\n",
    "df['MutationType'] = df['Mutational_Motif'].apply(normalize_mutation)\n",
    "\n",
    "top_sites = df['primary_site'].value_counts().nlargest(24).index\n",
    "\n",
    "filtered_df = df[df['primary_site'].isin(top_sites)]\n",
    "\n",
    "filtered_df['primary_site_cat'] = filtered_df['primary_site'].astype('category').cat.codes\n",
    "\n",
    "\n",
    "grouped_mutations_df = filtered_df.groupby('case_barcode').agg({\n",
    "    'Mutational_Motif': list,\n",
    "    'Genomic_Bin': list,\n",
    "    'Hugo_Symbol': list,\n",
    "    'primary_site': 'first',\n",
    "    'primary_site_cat': 'first',\n",
    "}).reset_index()\n",
    "\n"
   ]
  },
  {
   "cell_type": "markdown",
   "id": "2f1ff318",
   "metadata": {
    "papermill": {
     "duration": 0.015386,
     "end_time": "2025-06-29T14:59:33.906449",
     "exception": false,
     "start_time": "2025-06-29T14:59:33.891063",
     "status": "completed"
    },
    "tags": []
   },
   "source": [
    "### Normalizacja ekspresji RNA przez logarytmowanie "
   ]
  },
  {
   "cell_type": "code",
   "execution_count": 28,
   "id": "c9aacf19",
   "metadata": {
    "execution": {
     "iopub.execute_input": "2025-06-29T14:59:33.938249Z",
     "iopub.status.busy": "2025-06-29T14:59:33.937766Z",
     "iopub.status.idle": "2025-06-29T14:59:35.533697Z",
     "shell.execute_reply": "2025-06-29T14:59:35.533082Z"
    },
    "papermill": {
     "duration": 1.613678,
     "end_time": "2025-06-29T14:59:35.535149",
     "exception": false,
     "start_time": "2025-06-29T14:59:33.921471",
     "status": "completed"
    },
    "tags": []
   },
   "outputs": [],
   "source": [
    "import numpy as np\n",
    "\n",
    "df_expr['tpm_unstranded'] = df_expr['tpm_unstranded'].apply(lambda x: np.log1p(x))"
   ]
  },
  {
   "cell_type": "code",
   "execution_count": 29,
   "id": "53b3a033",
   "metadata": {
    "execution": {
     "iopub.execute_input": "2025-06-29T14:59:35.567443Z",
     "iopub.status.busy": "2025-06-29T14:59:35.567218Z",
     "iopub.status.idle": "2025-06-29T14:59:35.571573Z",
     "shell.execute_reply": "2025-06-29T14:59:35.571008Z"
    },
    "papermill": {
     "duration": 0.021398,
     "end_time": "2025-06-29T14:59:35.572620",
     "exception": false,
     "start_time": "2025-06-29T14:59:35.551222",
     "status": "completed"
    },
    "tags": []
   },
   "outputs": [
    {
     "data": {
      "text/plain": [
       "(1445931, 3)"
      ]
     },
     "execution_count": 29,
     "metadata": {},
     "output_type": "execute_result"
    }
   ],
   "source": [
    "df_expr.shape"
   ]
  },
  {
   "cell_type": "markdown",
   "id": "7e598ada",
   "metadata": {
    "papermill": {
     "duration": 0.015019,
     "end_time": "2025-06-29T14:59:35.602834",
     "exception": false,
     "start_time": "2025-06-29T14:59:35.587815",
     "status": "completed"
    },
    "tags": []
   },
   "source": [
    "### Duplicate deletion  \n",
    "Some case_barcode entries may have multiple tpm_unstranded values for the same gene_name. The objective is to achieve a data frame grouped by case_barcode where the tpm_unstranded vector keeps its values in a list, where each list index corresponds to a specific gene and the gene order is the same for all rows."
   ]
  },
  {
   "cell_type": "code",
   "execution_count": 30,
   "id": "bad7ec31",
   "metadata": {
    "execution": {
     "iopub.execute_input": "2025-06-29T14:59:35.633718Z",
     "iopub.status.busy": "2025-06-29T14:59:35.633485Z",
     "iopub.status.idle": "2025-06-29T14:59:36.828399Z",
     "shell.execute_reply": "2025-06-29T14:59:36.827712Z"
    },
    "papermill": {
     "duration": 1.211587,
     "end_time": "2025-06-29T14:59:36.829524",
     "exception": false,
     "start_time": "2025-06-29T14:59:35.617937",
     "status": "completed"
    },
    "tags": []
   },
   "outputs": [
    {
     "data": {
      "text/plain": [
       "<bound method NDFrame.head of        case_barcode                                     tpm_unstranded  \\\n",
       "0      TCGA-02-0003  [2.559024145705895, 2.0067902004317144, 3.4190...   \n",
       "1      TCGA-02-0016  [7.623641213373473, 6.179794889934382, 2.93729...   \n",
       "2      TCGA-02-0026  [3.252213884478711, 2.8253649789948887, 3.3315...   \n",
       "3      TCGA-02-0033  [2.465604897033222, 3.8236834741046226, 2.4913...   \n",
       "4      TCGA-02-0038  [3.187240668494587, 3.1939640882719176, 3.6423...   \n",
       "...             ...                                                ...   \n",
       "10506  TCGA-ZS-A9CF  [1.8214800706771364, 0.4665602074679753, 2.306...   \n",
       "10507  TCGA-ZS-A9CG  [1.2586314296297347, 2.068898660303277, 0.7082...   \n",
       "10508  TCGA-ZT-A8OM  [0.5943760184599247, 1.1593937609279688, 3.248...   \n",
       "10509  TCGA-ZU-A8S4  [2.8861908076695646, 1.2845938062935514, 2.134...   \n",
       "10510  TCGA-ZX-AA5X  [2.58435975098136, 1.5527829012775214, 2.43793...   \n",
       "\n",
       "                                               gene_name  \n",
       "0      [TSC1, BCL2, KDM5C, TET2, PIK3CA, BRCA2, AXIN1...  \n",
       "1      [EGFR, B2M, KMT2D, H3C2, SETBP1, AKT1, ALK, JA...  \n",
       "2      [TSC1, JAK2, MSH2, NCOR1, CIC, JAK1, GNA11, MA...  \n",
       "3      [MYD88, BAP1, PTEN, ERBB2, PTCH1, NPM1, PBRM1,...  \n",
       "4      [NFE2L2, KDM5C, NPM1, AKT1, SMAD4, MED12, H3-3...  \n",
       "...                                                  ...  \n",
       "10506  [ATRX, KIT, CYLD, GNA11, H3C2, BRCA1, SRSF2, C...  \n",
       "10507  [ARID2, NCOR1, BRCA1, VHL, TNFAIP3, MAP2K1, CD...  \n",
       "10508  [TET2, KMT2C, CSF1R, CEBPA, NFE2L2, SOCS1, TP5...  \n",
       "10509  [EP300, KDM6A, KMT2D, MAP2K1, VHL, ALK, JAK2, ...  \n",
       "10510  [SMO, ATM, SOCS1, IDH2, EZH2, U2AF1, ACVR1B, A...  \n",
       "\n",
       "[10511 rows x 3 columns]>"
      ]
     },
     "execution_count": 30,
     "metadata": {},
     "output_type": "execute_result"
    }
   ],
   "source": [
    "badly_grouped = df_expr.groupby('case_barcode').agg({\n",
    "    'tpm_unstranded': list,\n",
    "    'gene_name': list\n",
    "}).reset_index()\n",
    "badly_grouped.head"
   ]
  },
  {
   "cell_type": "markdown",
   "id": "13da89ff",
   "metadata": {
    "papermill": {
     "duration": 0.015183,
     "end_time": "2025-06-29T14:59:36.860603",
     "exception": false,
     "start_time": "2025-06-29T14:59:36.845420",
     "status": "completed"
    },
    "tags": []
   },
   "source": [
    "To achieve the effect mentioned above, I'm using a median of all duplicate values for case_barcode + gene_name pairs"
   ]
  },
  {
   "cell_type": "code",
   "execution_count": 31,
   "id": "0fc4c19e",
   "metadata": {
    "execution": {
     "iopub.execute_input": "2025-06-29T14:59:36.891922Z",
     "iopub.status.busy": "2025-06-29T14:59:36.891445Z",
     "iopub.status.idle": "2025-06-29T14:59:37.542826Z",
     "shell.execute_reply": "2025-06-29T14:59:37.541890Z"
    },
    "papermill": {
     "duration": 0.668533,
     "end_time": "2025-06-29T14:59:37.544247",
     "exception": false,
     "start_time": "2025-06-29T14:59:36.875714",
     "status": "completed"
    },
    "tags": []
   },
   "outputs": [
    {
     "name": "stdout",
     "output_type": "stream",
     "text": [
      "              gene_name  median\n",
      "case_barcode                   \n",
      "TCGA-02-0003        125     125\n",
      "TCGA-02-0016        125     125\n",
      "TCGA-02-0026        125     125\n",
      "TCGA-02-0033        125     125\n",
      "TCGA-02-0038        125     125\n",
      "...                 ...     ...\n",
      "TCGA-ZS-A9CF        125     125\n",
      "TCGA-ZS-A9CG        125     125\n",
      "TCGA-ZT-A8OM        125     125\n",
      "TCGA-ZU-A8S4        125     125\n",
      "TCGA-ZX-AA5X        125     125\n",
      "\n",
      "[10511 rows x 2 columns]\n",
      "         case_barcode gene_name    median\n",
      "0        TCGA-02-0003      ABL1  3.611361\n",
      "1        TCGA-02-0003    ACVR1B  3.060860\n",
      "2        TCGA-02-0003      AKT1  3.204809\n",
      "3        TCGA-02-0003       ALK  1.604908\n",
      "4        TCGA-02-0003     AMER1  1.580442\n",
      "...               ...       ...       ...\n",
      "1313870  TCGA-ZX-AA5X      TSC1  2.251881\n",
      "1313871  TCGA-ZX-AA5X      TSHR  0.051263\n",
      "1313872  TCGA-ZX-AA5X     U2AF1  0.539180\n",
      "1313873  TCGA-ZX-AA5X       VHL  3.609474\n",
      "1313874  TCGA-ZX-AA5X       WT1  0.869325\n",
      "\n",
      "[1313875 rows x 3 columns]\n"
     ]
    }
   ],
   "source": [
    "temp = df_expr.groupby(['case_barcode', 'gene_name'])['tpm_unstranded'].agg(['median'])#.sort_values(0, ascending=False)\n",
    "print(temp.reset_index().groupby(['case_barcode']).agg('count'))\n",
    "temp = temp.reset_index()\n",
    "print(temp)\n",
    "#X_rna_df = temp.pivot(index='case_barcode', columns='gene_name', values='median')\n",
    "#X_rna_df.fillna(0, inplace=True)\n",
    "#print(X_rna_df)"
   ]
  },
  {
   "cell_type": "code",
   "execution_count": 32,
   "id": "ec039351",
   "metadata": {
    "execution": {
     "iopub.execute_input": "2025-06-29T14:59:37.577499Z",
     "iopub.status.busy": "2025-06-29T14:59:37.577009Z",
     "iopub.status.idle": "2025-06-29T14:59:38.137496Z",
     "shell.execute_reply": "2025-06-29T14:59:38.136906Z"
    },
    "papermill": {
     "duration": 0.578331,
     "end_time": "2025-06-29T14:59:38.138875",
     "exception": false,
     "start_time": "2025-06-29T14:59:37.560544",
     "status": "completed"
    },
    "tags": []
   },
   "outputs": [],
   "source": [
    "grouped_expression_df = temp.groupby('case_barcode').agg({\n",
    "    'gene_name': list,\n",
    "    'median': list,\n",
    "}).reset_index()"
   ]
  },
  {
   "cell_type": "code",
   "execution_count": 33,
   "id": "071ba1cf",
   "metadata": {
    "execution": {
     "iopub.execute_input": "2025-06-29T14:59:38.172094Z",
     "iopub.status.busy": "2025-06-29T14:59:38.171587Z",
     "iopub.status.idle": "2025-06-29T14:59:38.191766Z",
     "shell.execute_reply": "2025-06-29T14:59:38.190976Z"
    },
    "papermill": {
     "duration": 0.037574,
     "end_time": "2025-06-29T14:59:38.192829",
     "exception": false,
     "start_time": "2025-06-29T14:59:38.155255",
     "status": "completed"
    },
    "tags": []
   },
   "outputs": [
    {
     "name": "stderr",
     "output_type": "stream",
     "text": [
      "/tmp/ipykernel_19/1779779152.py:1: FutureWarning: using <built-in function len> in Series.agg cannot aggregate and has been deprecated. Use Series.transform to keep behavior unchanged.\n",
      "  grouped_expression_df['median'].agg([len])\n"
     ]
    },
    {
     "data": {
      "text/html": [
       "<div>\n",
       "<style scoped>\n",
       "    .dataframe tbody tr th:only-of-type {\n",
       "        vertical-align: middle;\n",
       "    }\n",
       "\n",
       "    .dataframe tbody tr th {\n",
       "        vertical-align: top;\n",
       "    }\n",
       "\n",
       "    .dataframe thead th {\n",
       "        text-align: right;\n",
       "    }\n",
       "</style>\n",
       "<table border=\"1\" class=\"dataframe\">\n",
       "  <thead>\n",
       "    <tr style=\"text-align: right;\">\n",
       "      <th></th>\n",
       "      <th>len</th>\n",
       "    </tr>\n",
       "  </thead>\n",
       "  <tbody>\n",
       "    <tr>\n",
       "      <th>0</th>\n",
       "      <td>125</td>\n",
       "    </tr>\n",
       "    <tr>\n",
       "      <th>1</th>\n",
       "      <td>125</td>\n",
       "    </tr>\n",
       "    <tr>\n",
       "      <th>2</th>\n",
       "      <td>125</td>\n",
       "    </tr>\n",
       "    <tr>\n",
       "      <th>3</th>\n",
       "      <td>125</td>\n",
       "    </tr>\n",
       "    <tr>\n",
       "      <th>4</th>\n",
       "      <td>125</td>\n",
       "    </tr>\n",
       "    <tr>\n",
       "      <th>...</th>\n",
       "      <td>...</td>\n",
       "    </tr>\n",
       "    <tr>\n",
       "      <th>10506</th>\n",
       "      <td>125</td>\n",
       "    </tr>\n",
       "    <tr>\n",
       "      <th>10507</th>\n",
       "      <td>125</td>\n",
       "    </tr>\n",
       "    <tr>\n",
       "      <th>10508</th>\n",
       "      <td>125</td>\n",
       "    </tr>\n",
       "    <tr>\n",
       "      <th>10509</th>\n",
       "      <td>125</td>\n",
       "    </tr>\n",
       "    <tr>\n",
       "      <th>10510</th>\n",
       "      <td>125</td>\n",
       "    </tr>\n",
       "  </tbody>\n",
       "</table>\n",
       "<p>10511 rows × 1 columns</p>\n",
       "</div>"
      ],
      "text/plain": [
       "       len\n",
       "0      125\n",
       "1      125\n",
       "2      125\n",
       "3      125\n",
       "4      125\n",
       "...    ...\n",
       "10506  125\n",
       "10507  125\n",
       "10508  125\n",
       "10509  125\n",
       "10510  125\n",
       "\n",
       "[10511 rows x 1 columns]"
      ]
     },
     "execution_count": 33,
     "metadata": {},
     "output_type": "execute_result"
    }
   ],
   "source": [
    "grouped_expression_df['median'].agg([len])"
   ]
  },
  {
   "cell_type": "code",
   "execution_count": 34,
   "id": "be9d9c22",
   "metadata": {
    "execution": {
     "iopub.execute_input": "2025-06-29T14:59:38.226074Z",
     "iopub.status.busy": "2025-06-29T14:59:38.225844Z",
     "iopub.status.idle": "2025-06-29T14:59:38.228907Z",
     "shell.execute_reply": "2025-06-29T14:59:38.228356Z"
    },
    "papermill": {
     "duration": 0.020208,
     "end_time": "2025-06-29T14:59:38.229951",
     "exception": false,
     "start_time": "2025-06-29T14:59:38.209743",
     "status": "completed"
    },
    "tags": []
   },
   "outputs": [],
   "source": [
    "# Step 1: Flatten the index\n",
    "#temp_flat = temp.reset_index()\n",
    "\n",
    "# Step 2: Pivot to get genes as columns\n",
    "#pivot_df = temp_flat.pivot(index='case_barcode', columns='gene_name', values=('tpm_unstranded', 'median'))\n",
    "\n",
    "# Step 3: Ensure consistent gene order (optional but recommended)\n",
    "#pivot_df = pivot_df.sort_index(axis=1)\n",
    "\n",
    "# Step 4: Create the desired dataframe\n",
    "#df_rna = pivot_df.apply(lambda row: row.tolist(), axis=1).reset_index()\n",
    "#df_rna.columns = ['case_barcode', 'rna_expression']\n"
   ]
  },
  {
   "cell_type": "code",
   "execution_count": 35,
   "id": "d416f8a4",
   "metadata": {
    "execution": {
     "iopub.execute_input": "2025-06-29T14:59:38.261645Z",
     "iopub.status.busy": "2025-06-29T14:59:38.261234Z",
     "iopub.status.idle": "2025-06-29T14:59:38.263998Z",
     "shell.execute_reply": "2025-06-29T14:59:38.263465Z"
    },
    "papermill": {
     "duration": 0.019702,
     "end_time": "2025-06-29T14:59:38.264982",
     "exception": false,
     "start_time": "2025-06-29T14:59:38.245280",
     "status": "completed"
    },
    "tags": []
   },
   "outputs": [],
   "source": [
    "#from sklearn.preprocessing import StandardScaler\n",
    "\n",
    "#scaler = StandardScaler()\n",
    "#X_rna_scaled = scaler.fit_transform(X_rna)  # X_rna shape: (samples, genes)"
   ]
  },
  {
   "cell_type": "markdown",
   "id": "d1ac74d5",
   "metadata": {
    "papermill": {
     "duration": 0.015244,
     "end_time": "2025-06-29T14:59:38.295722",
     "exception": false,
     "start_time": "2025-06-29T14:59:38.280478",
     "status": "completed"
    },
    "tags": []
   },
   "source": [
    "### Multiomic data frame: "
   ]
  },
  {
   "cell_type": "code",
   "execution_count": 36,
   "id": "c5584930",
   "metadata": {
    "execution": {
     "iopub.execute_input": "2025-06-29T14:59:38.327038Z",
     "iopub.status.busy": "2025-06-29T14:59:38.326824Z",
     "iopub.status.idle": "2025-06-29T14:59:38.330886Z",
     "shell.execute_reply": "2025-06-29T14:59:38.330367Z"
    },
    "papermill": {
     "duration": 0.020803,
     "end_time": "2025-06-29T14:59:38.331867",
     "exception": false,
     "start_time": "2025-06-29T14:59:38.311064",
     "status": "completed"
    },
    "tags": []
   },
   "outputs": [
    {
     "data": {
      "text/plain": [
       "(8073, 6)"
      ]
     },
     "execution_count": 36,
     "metadata": {},
     "output_type": "execute_result"
    }
   ],
   "source": [
    "grouped_mutations_df.shape"
   ]
  },
  {
   "cell_type": "code",
   "execution_count": 37,
   "id": "af71226f",
   "metadata": {
    "execution": {
     "iopub.execute_input": "2025-06-29T14:59:38.363367Z",
     "iopub.status.busy": "2025-06-29T14:59:38.363191Z",
     "iopub.status.idle": "2025-06-29T14:59:38.379328Z",
     "shell.execute_reply": "2025-06-29T14:59:38.378633Z"
    },
    "papermill": {
     "duration": 0.033171,
     "end_time": "2025-06-29T14:59:38.380480",
     "exception": false,
     "start_time": "2025-06-29T14:59:38.347309",
     "status": "completed"
    },
    "tags": []
   },
   "outputs": [],
   "source": [
    "grouped_df = pd.merge(grouped_mutations_df, grouped_expression_df, on=\"case_barcode\", suffixes=('_mutation', '_expression'))"
   ]
  },
  {
   "cell_type": "code",
   "execution_count": 38,
   "id": "4dbfe3ea",
   "metadata": {
    "execution": {
     "iopub.execute_input": "2025-06-29T14:59:38.412362Z",
     "iopub.status.busy": "2025-06-29T14:59:38.412153Z",
     "iopub.status.idle": "2025-06-29T14:59:38.436507Z",
     "shell.execute_reply": "2025-06-29T14:59:38.435905Z"
    },
    "papermill": {
     "duration": 0.04161,
     "end_time": "2025-06-29T14:59:38.437625",
     "exception": false,
     "start_time": "2025-06-29T14:59:38.396015",
     "status": "completed"
    },
    "tags": []
   },
   "outputs": [
    {
     "data": {
      "text/html": [
       "<div>\n",
       "<style scoped>\n",
       "    .dataframe tbody tr th:only-of-type {\n",
       "        vertical-align: middle;\n",
       "    }\n",
       "\n",
       "    .dataframe tbody tr th {\n",
       "        vertical-align: top;\n",
       "    }\n",
       "\n",
       "    .dataframe thead th {\n",
       "        text-align: right;\n",
       "    }\n",
       "</style>\n",
       "<table border=\"1\" class=\"dataframe\">\n",
       "  <thead>\n",
       "    <tr style=\"text-align: right;\">\n",
       "      <th></th>\n",
       "      <th>case_barcode</th>\n",
       "      <th>Mutational_Motif</th>\n",
       "      <th>Genomic_Bin</th>\n",
       "      <th>Hugo_Symbol</th>\n",
       "      <th>primary_site</th>\n",
       "      <th>primary_site_cat</th>\n",
       "      <th>gene_name</th>\n",
       "      <th>median</th>\n",
       "    </tr>\n",
       "  </thead>\n",
       "  <tbody>\n",
       "    <tr>\n",
       "      <th>0</th>\n",
       "      <td>TCGA-02-0003</td>\n",
       "      <td>[G[G&gt;T]T, C[G&gt;A]G, G[G&gt;A]G, T[G&gt;A]C]</td>\n",
       "      <td>[chr17_7000000, chr17_7000000, chr5_68000000, ...</td>\n",
       "      <td>[TP53, TP53, PIK3R1, EGFR]</td>\n",
       "      <td>Brain</td>\n",
       "      <td>1</td>\n",
       "      <td>[ABL1, ACVR1B, AKT1, ALK, AMER1, APC, AR, ARID...</td>\n",
       "      <td>[3.611361057684199, 3.0608596837623514, 3.2048...</td>\n",
       "    </tr>\n",
       "    <tr>\n",
       "      <th>1</th>\n",
       "      <td>TCGA-02-0033</td>\n",
       "      <td>[T[G&gt;T]G, T[G&gt;A]A, C[C&gt;T]A, C[C&gt;T]G]</td>\n",
       "      <td>[chr10_121000000, chr3_179000000, chr13_480000...</td>\n",
       "      <td>[FGFR2, PIK3CA, RB1, TP53]</td>\n",
       "      <td>Brain</td>\n",
       "      <td>1</td>\n",
       "      <td>[ABL1, ACVR1B, AKT1, ALK, AMER1, APC, AR, ARID...</td>\n",
       "      <td>[3.345050221039154, 3.040112729234723, 3.23313...</td>\n",
       "    </tr>\n",
       "    <tr>\n",
       "      <th>2</th>\n",
       "      <td>TCGA-02-0047</td>\n",
       "      <td>[A[T&gt;A]G]</td>\n",
       "      <td>[chr3_179000000]</td>\n",
       "      <td>[PIK3CA]</td>\n",
       "      <td>Brain</td>\n",
       "      <td>1</td>\n",
       "      <td>[ABL1, ACVR1B, AKT1, ALK, AMER1, APC, AR, ARID...</td>\n",
       "      <td>[3.995714579070823, 3.4241460494155675, 3.4238...</td>\n",
       "    </tr>\n",
       "    <tr>\n",
       "      <th>3</th>\n",
       "      <td>TCGA-02-0055</td>\n",
       "      <td>[C[del38]A, A[C&gt;T]A, G[C&gt;T]G, A[A&gt;G]C]</td>\n",
       "      <td>[chr13_48000000, chr17_7000000, chr20_32000000...</td>\n",
       "      <td>[RB1, TP53, ASXL1, PTEN]</td>\n",
       "      <td>Brain</td>\n",
       "      <td>1</td>\n",
       "      <td>[ABL1, ACVR1B, AKT1, ALK, AMER1, APC, AR, ARID...</td>\n",
       "      <td>[3.613908816960211, 2.5802467492090617, 3.0212...</td>\n",
       "    </tr>\n",
       "    <tr>\n",
       "      <th>4</th>\n",
       "      <td>TCGA-02-2466</td>\n",
       "      <td>[T[G&gt;A]A, C[T&gt;G]C, C[G&gt;A]A, G[C&gt;T]C]</td>\n",
       "      <td>[chr6_33000000, chr16_3000000, chr19_11000000,...</td>\n",
       "      <td>[DAXX, CREBBP, SMARCA4, EGFR]</td>\n",
       "      <td>Brain</td>\n",
       "      <td>1</td>\n",
       "      <td>[ABL1, ACVR1B, AKT1, ALK, AMER1, APC, AR, ARID...</td>\n",
       "      <td>[3.41197575243391, 2.6808708324286687, 2.68120...</td>\n",
       "    </tr>\n",
       "    <tr>\n",
       "      <th>...</th>\n",
       "      <td>...</td>\n",
       "      <td>...</td>\n",
       "      <td>...</td>\n",
       "      <td>...</td>\n",
       "      <td>...</td>\n",
       "      <td>...</td>\n",
       "      <td>...</td>\n",
       "      <td>...</td>\n",
       "    </tr>\n",
       "    <tr>\n",
       "      <th>7722</th>\n",
       "      <td>TCGA-ZS-A9CE</td>\n",
       "      <td>[T[C&gt;A]C, A[del1]G, G[C&gt;T]C, G[A&gt;C]G]</td>\n",
       "      <td>[chr1_77000000, chr1_77000000, chr4_152000000,...</td>\n",
       "      <td>[FUBP1, FUBP1, FBXW7, PIK3CA]</td>\n",
       "      <td>Liver and intrahepatic bile ducts</td>\n",
       "      <td>11</td>\n",
       "      <td>[ABL1, ACVR1B, AKT1, ALK, AMER1, APC, AR, ARID...</td>\n",
       "      <td>[2.548640159490796, 3.4134519863291546, 3.0836...</td>\n",
       "    </tr>\n",
       "    <tr>\n",
       "      <th>7723</th>\n",
       "      <td>TCGA-ZS-A9CF</td>\n",
       "      <td>[C[C&gt;T]C, C[C&gt;T]C, T[T&gt;C]T, T[T&gt;C]T]</td>\n",
       "      <td>[chr5_150000000, chr5_150000000, chr20_3200000...</td>\n",
       "      <td>[CSF1R, CSF1R, ASXL1, ASXL1]</td>\n",
       "      <td>Liver and intrahepatic bile ducts</td>\n",
       "      <td>11</td>\n",
       "      <td>[ABL1, ACVR1B, AKT1, ALK, AMER1, APC, AR, ARID...</td>\n",
       "      <td>[3.088381368353286, 3.8010003458022124, 2.7798...</td>\n",
       "    </tr>\n",
       "    <tr>\n",
       "      <th>7724</th>\n",
       "      <td>TCGA-ZS-A9CG</td>\n",
       "      <td>[G[ins7]A, A[T&gt;A]G, T[C&gt;T]C, C[A&gt;T]G, T[G&gt;A]G]</td>\n",
       "      <td>[chr11_119000000, chr7_129000000, chr6_1060000...</td>\n",
       "      <td>[CBL, SMO, PRDM1, BAP1, CTNNB1]</td>\n",
       "      <td>Liver and intrahepatic bile ducts</td>\n",
       "      <td>11</td>\n",
       "      <td>[ABL1, ACVR1B, AKT1, ALK, AMER1, APC, AR, ARID...</td>\n",
       "      <td>[2.8677170673313586, 3.2608350924482234, 2.589...</td>\n",
       "    </tr>\n",
       "    <tr>\n",
       "      <th>7725</th>\n",
       "      <td>TCGA-ZU-A8S4</td>\n",
       "      <td>[C[C&gt;A]A, A[del5]C, C[A&gt;T]C]</td>\n",
       "      <td>[chr7_152000000, chr1_26000000, chr7_140000000]</td>\n",
       "      <td>[KMT2C, ARID1A, BRAF]</td>\n",
       "      <td>Liver and intrahepatic bile ducts</td>\n",
       "      <td>11</td>\n",
       "      <td>[ABL1, ACVR1B, AKT1, ALK, AMER1, APC, AR, ARID...</td>\n",
       "      <td>[2.9667274697173696, 2.7056751675720454, 3.104...</td>\n",
       "    </tr>\n",
       "    <tr>\n",
       "      <th>7726</th>\n",
       "      <td>TCGA-ZX-AA5X</td>\n",
       "      <td>[T[T&gt;A]G]</td>\n",
       "      <td>[chr22_41000000]</td>\n",
       "      <td>[EP300]</td>\n",
       "      <td>Cervix uteri</td>\n",
       "      <td>4</td>\n",
       "      <td>[ABL1, ACVR1B, AKT1, ALK, AMER1, APC, AR, ARID...</td>\n",
       "      <td>[3.7788435508661578, 3.4422113577527695, 3.436...</td>\n",
       "    </tr>\n",
       "  </tbody>\n",
       "</table>\n",
       "<p>7727 rows × 8 columns</p>\n",
       "</div>"
      ],
      "text/plain": [
       "      case_barcode                                Mutational_Motif  \\\n",
       "0     TCGA-02-0003            [G[G>T]T, C[G>A]G, G[G>A]G, T[G>A]C]   \n",
       "1     TCGA-02-0033            [T[G>T]G, T[G>A]A, C[C>T]A, C[C>T]G]   \n",
       "2     TCGA-02-0047                                       [A[T>A]G]   \n",
       "3     TCGA-02-0055          [C[del38]A, A[C>T]A, G[C>T]G, A[A>G]C]   \n",
       "4     TCGA-02-2466            [T[G>A]A, C[T>G]C, C[G>A]A, G[C>T]C]   \n",
       "...            ...                                             ...   \n",
       "7722  TCGA-ZS-A9CE           [T[C>A]C, A[del1]G, G[C>T]C, G[A>C]G]   \n",
       "7723  TCGA-ZS-A9CF            [C[C>T]C, C[C>T]C, T[T>C]T, T[T>C]T]   \n",
       "7724  TCGA-ZS-A9CG  [G[ins7]A, A[T>A]G, T[C>T]C, C[A>T]G, T[G>A]G]   \n",
       "7725  TCGA-ZU-A8S4                    [C[C>A]A, A[del5]C, C[A>T]C]   \n",
       "7726  TCGA-ZX-AA5X                                       [T[T>A]G]   \n",
       "\n",
       "                                            Genomic_Bin  \\\n",
       "0     [chr17_7000000, chr17_7000000, chr5_68000000, ...   \n",
       "1     [chr10_121000000, chr3_179000000, chr13_480000...   \n",
       "2                                      [chr3_179000000]   \n",
       "3     [chr13_48000000, chr17_7000000, chr20_32000000...   \n",
       "4     [chr6_33000000, chr16_3000000, chr19_11000000,...   \n",
       "...                                                 ...   \n",
       "7722  [chr1_77000000, chr1_77000000, chr4_152000000,...   \n",
       "7723  [chr5_150000000, chr5_150000000, chr20_3200000...   \n",
       "7724  [chr11_119000000, chr7_129000000, chr6_1060000...   \n",
       "7725    [chr7_152000000, chr1_26000000, chr7_140000000]   \n",
       "7726                                   [chr22_41000000]   \n",
       "\n",
       "                          Hugo_Symbol                       primary_site  \\\n",
       "0          [TP53, TP53, PIK3R1, EGFR]                              Brain   \n",
       "1          [FGFR2, PIK3CA, RB1, TP53]                              Brain   \n",
       "2                            [PIK3CA]                              Brain   \n",
       "3            [RB1, TP53, ASXL1, PTEN]                              Brain   \n",
       "4       [DAXX, CREBBP, SMARCA4, EGFR]                              Brain   \n",
       "...                               ...                                ...   \n",
       "7722    [FUBP1, FUBP1, FBXW7, PIK3CA]  Liver and intrahepatic bile ducts   \n",
       "7723     [CSF1R, CSF1R, ASXL1, ASXL1]  Liver and intrahepatic bile ducts   \n",
       "7724  [CBL, SMO, PRDM1, BAP1, CTNNB1]  Liver and intrahepatic bile ducts   \n",
       "7725            [KMT2C, ARID1A, BRAF]  Liver and intrahepatic bile ducts   \n",
       "7726                          [EP300]                       Cervix uteri   \n",
       "\n",
       "      primary_site_cat                                          gene_name  \\\n",
       "0                    1  [ABL1, ACVR1B, AKT1, ALK, AMER1, APC, AR, ARID...   \n",
       "1                    1  [ABL1, ACVR1B, AKT1, ALK, AMER1, APC, AR, ARID...   \n",
       "2                    1  [ABL1, ACVR1B, AKT1, ALK, AMER1, APC, AR, ARID...   \n",
       "3                    1  [ABL1, ACVR1B, AKT1, ALK, AMER1, APC, AR, ARID...   \n",
       "4                    1  [ABL1, ACVR1B, AKT1, ALK, AMER1, APC, AR, ARID...   \n",
       "...                ...                                                ...   \n",
       "7722                11  [ABL1, ACVR1B, AKT1, ALK, AMER1, APC, AR, ARID...   \n",
       "7723                11  [ABL1, ACVR1B, AKT1, ALK, AMER1, APC, AR, ARID...   \n",
       "7724                11  [ABL1, ACVR1B, AKT1, ALK, AMER1, APC, AR, ARID...   \n",
       "7725                11  [ABL1, ACVR1B, AKT1, ALK, AMER1, APC, AR, ARID...   \n",
       "7726                 4  [ABL1, ACVR1B, AKT1, ALK, AMER1, APC, AR, ARID...   \n",
       "\n",
       "                                                 median  \n",
       "0     [3.611361057684199, 3.0608596837623514, 3.2048...  \n",
       "1     [3.345050221039154, 3.040112729234723, 3.23313...  \n",
       "2     [3.995714579070823, 3.4241460494155675, 3.4238...  \n",
       "3     [3.613908816960211, 2.5802467492090617, 3.0212...  \n",
       "4     [3.41197575243391, 2.6808708324286687, 2.68120...  \n",
       "...                                                 ...  \n",
       "7722  [2.548640159490796, 3.4134519863291546, 3.0836...  \n",
       "7723  [3.088381368353286, 3.8010003458022124, 2.7798...  \n",
       "7724  [2.8677170673313586, 3.2608350924482234, 2.589...  \n",
       "7725  [2.9667274697173696, 2.7056751675720454, 3.104...  \n",
       "7726  [3.7788435508661578, 3.4422113577527695, 3.436...  \n",
       "\n",
       "[7727 rows x 8 columns]"
      ]
     },
     "execution_count": 38,
     "metadata": {},
     "output_type": "execute_result"
    }
   ],
   "source": [
    "grouped_df"
   ]
  },
  {
   "cell_type": "code",
   "execution_count": 39,
   "id": "0f7c1adc",
   "metadata": {
    "execution": {
     "iopub.execute_input": "2025-06-29T14:59:38.469960Z",
     "iopub.status.busy": "2025-06-29T14:59:38.469753Z",
     "iopub.status.idle": "2025-06-29T14:59:38.726497Z",
     "shell.execute_reply": "2025-06-29T14:59:38.725793Z"
    },
    "papermill": {
     "duration": 0.274225,
     "end_time": "2025-06-29T14:59:38.727776",
     "exception": false,
     "start_time": "2025-06-29T14:59:38.453551",
     "status": "completed"
    },
    "tags": []
   },
   "outputs": [],
   "source": [
    "tokenizer_bin = Tokenizer(filters='', lower=False, split=' ', oov_token=\"<OOV>\")\n",
    "tokenizer_bin.fit_on_texts(df['Genomic_Bin'].astype(str).to_list())\n",
    "\n",
    "tokenizer_gene = Tokenizer(filters='', lower=False, split=' ', oov_token=\"<OOV>\")\n",
    "tokenizer_gene.fit_on_texts(df['Hugo_Symbol'].astype(str).to_list())\n",
    "\n",
    "tokenizer_motif = Tokenizer(filters='', lower=False, split=' ', oov_token=\"<OOV>\")\n",
    "tokenizer_motif.fit_on_texts(df['Mutational_Motif'].astype(str).to_list())"
   ]
  },
  {
   "cell_type": "markdown",
   "id": "973e6139",
   "metadata": {
    "papermill": {
     "duration": 0.015784,
     "end_time": "2025-06-29T14:59:38.760468",
     "exception": false,
     "start_time": "2025-06-29T14:59:38.744684",
     "status": "completed"
    },
    "tags": []
   },
   "source": [
    "### Tokenizacja genów, motywów i binów:"
   ]
  },
  {
   "cell_type": "code",
   "execution_count": 40,
   "id": "7677ba46",
   "metadata": {
    "execution": {
     "iopub.execute_input": "2025-06-29T14:59:38.793164Z",
     "iopub.status.busy": "2025-06-29T14:59:38.792964Z",
     "iopub.status.idle": "2025-06-29T14:59:38.796911Z",
     "shell.execute_reply": "2025-06-29T14:59:38.796373Z"
    },
    "papermill": {
     "duration": 0.021352,
     "end_time": "2025-06-29T14:59:38.797942",
     "exception": false,
     "start_time": "2025-06-29T14:59:38.776590",
     "status": "completed"
    },
    "tags": []
   },
   "outputs": [],
   "source": [
    "import tensorflow as tf\n",
    "\n",
    "def to_matrix(tokenizer, texts):\n",
    "    sequences = tokenizer.texts_to_sequences(texts)\n",
    "    count_vectors = np.zeros((len(texts), len(tokenizer.word_index) + 1))\n",
    "\n",
    "    for i, seq in enumerate(sequences):\n",
    "        for token in seq:\n",
    "            count_vectors[i, token] += 1\n",
    "\n",
    "    return count_vectors"
   ]
  },
  {
   "cell_type": "code",
   "execution_count": 41,
   "id": "c4f8715e",
   "metadata": {
    "execution": {
     "iopub.execute_input": "2025-06-29T14:59:38.830348Z",
     "iopub.status.busy": "2025-06-29T14:59:38.830170Z",
     "iopub.status.idle": "2025-06-29T14:59:38.833889Z",
     "shell.execute_reply": "2025-06-29T14:59:38.833375Z"
    },
    "papermill": {
     "duration": 0.021112,
     "end_time": "2025-06-29T14:59:38.834844",
     "exception": false,
     "start_time": "2025-06-29T14:59:38.813732",
     "status": "completed"
    },
    "tags": []
   },
   "outputs": [],
   "source": [
    "def prepare_data_for(df, tokenizer_bin, tokenizer_gene):\n",
    "    X_bin = to_matrix(tokenizer_bin, df['Genomic_Bin'])\n",
    "    X_gene = to_matrix(tokenizer_gene, df['Hugo_Symbol'])\n",
    "    X_motif = to_matrix(tokenizer_motif, df['Mutational_Motif'])\n",
    "    X_rna = np.array(df['median'].to_list())\n",
    "\n",
    "    return X_bin, X_gene, X_motif, X_rna"
   ]
  },
  {
   "cell_type": "markdown",
   "id": "ed55b5c5",
   "metadata": {
    "papermill": {
     "duration": 0.015382,
     "end_time": "2025-06-29T14:59:38.865980",
     "exception": false,
     "start_time": "2025-06-29T14:59:38.850598",
     "status": "completed"
    },
    "tags": []
   },
   "source": [
    "Końcowe zbiory cech\n",
    "\n",
    "\n",
    "X_bin, X_gene, X_motif, X_rna  "
   ]
  },
  {
   "cell_type": "code",
   "execution_count": 42,
   "id": "3231de04",
   "metadata": {
    "execution": {
     "iopub.execute_input": "2025-06-29T14:59:38.898357Z",
     "iopub.status.busy": "2025-06-29T14:59:38.897823Z",
     "iopub.status.idle": "2025-06-29T14:59:39.084454Z",
     "shell.execute_reply": "2025-06-29T14:59:39.083883Z"
    },
    "papermill": {
     "duration": 0.204256,
     "end_time": "2025-06-29T14:59:39.085755",
     "exception": false,
     "start_time": "2025-06-29T14:59:38.881499",
     "status": "completed"
    },
    "tags": []
   },
   "outputs": [],
   "source": [
    "X_bin, X_gene, X_motif, X_rna = prepare_data_for(grouped_df, tokenizer_bin, tokenizer_gene)\n"
   ]
  },
  {
   "cell_type": "markdown",
   "id": "291ce94f",
   "metadata": {
    "papermill": {
     "duration": 0.015656,
     "end_time": "2025-06-29T14:59:39.118077",
     "exception": false,
     "start_time": "2025-06-29T14:59:39.102421",
     "status": "completed"
    },
    "tags": []
   },
   "source": [
    "### Konkatenacja wektorów:  \n",
    "Potrzebny jeszcze wektor motywów"
   ]
  },
  {
   "cell_type": "code",
   "execution_count": 43,
   "id": "0cd1368c",
   "metadata": {
    "execution": {
     "iopub.execute_input": "2025-06-29T14:59:39.150986Z",
     "iopub.status.busy": "2025-06-29T14:59:39.150505Z",
     "iopub.status.idle": "2025-06-29T14:59:39.185848Z",
     "shell.execute_reply": "2025-06-29T14:59:39.184925Z"
    },
    "papermill": {
     "duration": 0.053229,
     "end_time": "2025-06-29T14:59:39.187208",
     "exception": false,
     "start_time": "2025-06-29T14:59:39.133979",
     "status": "completed"
    },
    "tags": []
   },
   "outputs": [
    {
     "name": "stdout",
     "output_type": "stream",
     "text": [
      "(7727, 135)\n",
      "(7727, 127)\n",
      "(7727, 794)\n",
      "(7727, 125)\n",
      "1181\n"
     ]
    }
   ],
   "source": [
    "print(X_bin.shape)\n",
    "print(X_gene.shape)\n",
    "print(X_motif.shape)\n",
    "print(X_rna.shape)\n",
    "print(X_bin.shape[1] + X_gene.shape[1] + X_motif.shape[1] + X_rna.shape[1])\n",
    "X = np.concatenate([X_bin, X_gene, X_motif, X_rna], axis=1)\n"
   ]
  },
  {
   "cell_type": "code",
   "execution_count": 44,
   "id": "fe02764e",
   "metadata": {
    "execution": {
     "iopub.execute_input": "2025-06-29T14:59:39.221498Z",
     "iopub.status.busy": "2025-06-29T14:59:39.220924Z",
     "iopub.status.idle": "2025-06-29T14:59:39.225352Z",
     "shell.execute_reply": "2025-06-29T14:59:39.224635Z"
    },
    "papermill": {
     "duration": 0.022779,
     "end_time": "2025-06-29T14:59:39.226377",
     "exception": false,
     "start_time": "2025-06-29T14:59:39.203598",
     "status": "completed"
    },
    "tags": []
   },
   "outputs": [
    {
     "data": {
      "text/plain": [
       "(7727, 1181)"
      ]
     },
     "execution_count": 44,
     "metadata": {},
     "output_type": "execute_result"
    }
   ],
   "source": [
    "X.shape"
   ]
  },
  {
   "cell_type": "code",
   "execution_count": 45,
   "id": "e7260f3f",
   "metadata": {
    "execution": {
     "iopub.execute_input": "2025-06-29T14:59:39.259238Z",
     "iopub.status.busy": "2025-06-29T14:59:39.259020Z",
     "iopub.status.idle": "2025-06-29T14:59:39.437350Z",
     "shell.execute_reply": "2025-06-29T14:59:39.436709Z"
    },
    "papermill": {
     "duration": 0.196322,
     "end_time": "2025-06-29T14:59:39.438767",
     "exception": false,
     "start_time": "2025-06-29T14:59:39.242445",
     "status": "completed"
    },
    "tags": []
   },
   "outputs": [],
   "source": [
    "from sklearn.preprocessing import StandardScaler\n",
    "\n",
    "scaler = StandardScaler()\n",
    "X_scaled = scaler.fit_transform(X)"
   ]
  },
  {
   "cell_type": "markdown",
   "id": "2013b0d0",
   "metadata": {
    "papermill": {
     "duration": 0.015837,
     "end_time": "2025-06-29T14:59:39.471357",
     "exception": false,
     "start_time": "2025-06-29T14:59:39.455520",
     "status": "completed"
    },
    "tags": []
   },
   "source": [
    "### Etykiety: y_primary_site"
   ]
  },
  {
   "cell_type": "code",
   "execution_count": 46,
   "id": "b528aab4",
   "metadata": {
    "execution": {
     "iopub.execute_input": "2025-06-29T14:59:39.504396Z",
     "iopub.status.busy": "2025-06-29T14:59:39.503785Z",
     "iopub.status.idle": "2025-06-29T14:59:39.508751Z",
     "shell.execute_reply": "2025-06-29T14:59:39.508059Z"
    },
    "papermill": {
     "duration": 0.022793,
     "end_time": "2025-06-29T14:59:39.509933",
     "exception": false,
     "start_time": "2025-06-29T14:59:39.487140",
     "status": "completed"
    },
    "tags": []
   },
   "outputs": [
    {
     "data": {
      "text/plain": [
       "(7727,)"
      ]
     },
     "execution_count": 46,
     "metadata": {},
     "output_type": "execute_result"
    }
   ],
   "source": [
    "y_primary_site = grouped_df['primary_site_cat'].values\n",
    "y_primary_site.shape"
   ]
  },
  {
   "cell_type": "code",
   "execution_count": null,
   "id": "fbdfd7c7",
   "metadata": {
    "papermill": {
     "duration": 0.015603,
     "end_time": "2025-06-29T14:59:39.541879",
     "exception": false,
     "start_time": "2025-06-29T14:59:39.526276",
     "status": "completed"
    },
    "tags": []
   },
   "outputs": [],
   "source": []
  },
  {
   "cell_type": "markdown",
   "id": "97c259a8",
   "metadata": {
    "papermill": {
     "duration": 0.015913,
     "end_time": "2025-06-29T14:59:39.573607",
     "exception": false,
     "start_time": "2025-06-29T14:59:39.557694",
     "status": "completed"
    },
    "tags": []
   },
   "source": [
    "## 3. Budowa i trening modelu  \n"
   ]
  },
  {
   "cell_type": "markdown",
   "id": "48ec410f",
   "metadata": {
    "papermill": {
     "duration": 0.015579,
     "end_time": "2025-06-29T14:59:39.605018",
     "exception": false,
     "start_time": "2025-06-29T14:59:39.589439",
     "status": "completed"
    },
    "tags": []
   },
   "source": [
    "### 1. Architektura  \n",
    "• Wejścia dla każdej grupy cech (warstwy Dense).  \n",
    "• Laczenie (Concatenate) oraz warstwy ukryte.  \n",
    "• Wyjście: softmax nad klasami lokalizacji pierwotnej.  "
   ]
  },
  {
   "cell_type": "code",
   "execution_count": 47,
   "id": "7c758cb9",
   "metadata": {
    "execution": {
     "iopub.execute_input": "2025-06-29T14:59:39.637421Z",
     "iopub.status.busy": "2025-06-29T14:59:39.637210Z",
     "iopub.status.idle": "2025-06-29T14:59:43.246121Z",
     "shell.execute_reply": "2025-06-29T14:59:43.245415Z"
    },
    "papermill": {
     "duration": 3.626692,
     "end_time": "2025-06-29T14:59:43.247441",
     "exception": false,
     "start_time": "2025-06-29T14:59:39.620749",
     "status": "completed"
    },
    "tags": []
   },
   "outputs": [],
   "source": [
    "import torch\n",
    "import torch.nn as nn\n",
    "\n",
    "class MultiInputModel(nn.Module):\n",
    "    def __init__(self, dim_bin, dim_gene, dim_motif, dim_rna, hidden=128, output_dim=24):\n",
    "        super(MultiInputModel, self).__init__()\n",
    "\n",
    "        # Separate pathways for each feature group\n",
    "        self.fc_bin = nn.Sequential(\n",
    "            nn.Linear(dim_bin, hidden),\n",
    "            nn.ReLU()\n",
    "        )\n",
    "        self.fc_gene = nn.Sequential(\n",
    "            nn.Linear(dim_gene, hidden),\n",
    "            nn.ReLU()\n",
    "        )\n",
    "        self.fc_motif = nn.Sequential(\n",
    "            nn.Linear(dim_motif, hidden),\n",
    "            nn.ReLU()\n",
    "        )\n",
    "        self.fc_rna = nn.Sequential(\n",
    "            nn.Linear(dim_rna, hidden),\n",
    "            nn.ReLU()\n",
    "        )\n",
    "\n",
    "        # Combined pathway\n",
    "        self.fc_combined = nn.Sequential(\n",
    "            nn.Linear(hidden * 4, 128),\n",
    "            nn.ReLU(),\n",
    "            nn.Linear(128, output_dim),\n",
    "            nn.Softmax(dim=1)\n",
    "        )\n",
    "\n",
    "    def forward(self, X_bin, X_gene, X_motif, X_rna):\n",
    "        out_bin = self.fc_bin(X_bin)\n",
    "        out_gene = self.fc_gene(X_gene)\n",
    "        out_motif = self.fc_motif(X_motif)\n",
    "        out_rna = self.fc_rna(X_rna)\n",
    "\n",
    "        # Concatenate all processed features\n",
    "        out = torch.cat([out_bin, out_gene, out_motif, out_rna], dim=1)\n",
    "        out = self.fc_combined(out)\n",
    "        return out"
   ]
  },
  {
   "cell_type": "code",
   "execution_count": 48,
   "id": "5d8f9d43",
   "metadata": {
    "execution": {
     "iopub.execute_input": "2025-06-29T14:59:43.281610Z",
     "iopub.status.busy": "2025-06-29T14:59:43.281410Z",
     "iopub.status.idle": "2025-06-29T14:59:43.332768Z",
     "shell.execute_reply": "2025-06-29T14:59:43.331976Z"
    },
    "papermill": {
     "duration": 0.069186,
     "end_time": "2025-06-29T14:59:43.334006",
     "exception": false,
     "start_time": "2025-06-29T14:59:43.264820",
     "status": "completed"
    },
    "tags": []
   },
   "outputs": [
    {
     "name": "stdout",
     "output_type": "stream",
     "text": [
      "Używane urządzenie: cuda\n"
     ]
    }
   ],
   "source": [
    "device = torch.device(\"cuda\" if torch.cuda.is_available() else \"cpu\")\n",
    "print(\"Używane urządzenie:\", device)"
   ]
  },
  {
   "cell_type": "markdown",
   "id": "93f2469a",
   "metadata": {
    "papermill": {
     "duration": 0.015932,
     "end_time": "2025-06-29T14:59:43.366357",
     "exception": false,
     "start_time": "2025-06-29T14:59:43.350425",
     "status": "completed"
    },
    "tags": []
   },
   "source": [
    "## Model building and training  \n",
    "### 2. Trening  \n",
    "• Podzial na zbiór treningowy/testowy 80/20.  \n",
    "• Optymalizator: Adam, strata: categorical crossentropy.  \n",
    "• Monitorowanie loss i accuracy.  \n",
    "• Uwzglednienie niezbalansowanych etykiet.  "
   ]
  },
  {
   "cell_type": "markdown",
   "id": "a8b5621a",
   "metadata": {
    "papermill": {
     "duration": 0.015855,
     "end_time": "2025-06-29T14:59:43.398051",
     "exception": false,
     "start_time": "2025-06-29T14:59:43.382196",
     "status": "completed"
    },
    "tags": []
   },
   "source": [
    "### Training and testing (and validation) sets"
   ]
  },
  {
   "cell_type": "code",
   "execution_count": 49,
   "id": "01c7f958",
   "metadata": {
    "execution": {
     "iopub.execute_input": "2025-06-29T14:59:43.430691Z",
     "iopub.status.busy": "2025-06-29T14:59:43.430411Z",
     "iopub.status.idle": "2025-06-29T14:59:43.550531Z",
     "shell.execute_reply": "2025-06-29T14:59:43.549658Z"
    },
    "papermill": {
     "duration": 0.137962,
     "end_time": "2025-06-29T14:59:43.551781",
     "exception": false,
     "start_time": "2025-06-29T14:59:43.413819",
     "status": "completed"
    },
    "tags": []
   },
   "outputs": [
    {
     "name": "stdout",
     "output_type": "stream",
     "text": [
      "(4944, 1181) (4944,) (1546, 1181) (1546,) (1237, 1181) (1237,)\n"
     ]
    }
   ],
   "source": [
    "# Train, test and validation sets\n",
    "from sklearn.model_selection import train_test_split\n",
    "\n",
    "# create test and train sets with respect to imbalanced labels\n",
    "X_train, X_test, y_train, y_test = train_test_split(\n",
    "    X_scaled, y_primary_site, test_size=0.2, stratify=y_primary_site, random_state=42) \n",
    "\n",
    "# create train and validation sets with respect to imbalanced labels\n",
    "X_train, X_val, y_train, y_val = train_test_split(\n",
    "    X_train, y_train, test_size=0.2, stratify=y_train, random_state=42) \n",
    "\n",
    "print(X_train.shape,y_train.shape, X_test.shape, y_test.shape , X_val.shape, y_val.shape)"
   ]
  },
  {
   "cell_type": "markdown",
   "id": "2e9d99b9",
   "metadata": {
    "papermill": {
     "duration": 0.016327,
     "end_time": "2025-06-29T14:59:43.585639",
     "exception": false,
     "start_time": "2025-06-29T14:59:43.569312",
     "status": "completed"
    },
    "tags": []
   },
   "source": [
    "### Loss and optimizer"
   ]
  },
  {
   "cell_type": "code",
   "execution_count": 50,
   "id": "7b6fb99c",
   "metadata": {
    "execution": {
     "iopub.execute_input": "2025-06-29T14:59:43.619331Z",
     "iopub.status.busy": "2025-06-29T14:59:43.619100Z",
     "iopub.status.idle": "2025-06-29T14:59:47.830825Z",
     "shell.execute_reply": "2025-06-29T14:59:47.830218Z"
    },
    "papermill": {
     "duration": 4.230216,
     "end_time": "2025-06-29T14:59:47.832194",
     "exception": false,
     "start_time": "2025-06-29T14:59:43.601978",
     "status": "completed"
    },
    "tags": []
   },
   "outputs": [],
   "source": [
    "model = MultiInputModel(X_bin.shape[1], X_gene.shape[1], X_motif.shape[1], X_rna.shape[1]).to(device)\n",
    "\n",
    "# Funkcja straty i optymalizator\n",
    "criterion = nn.MSELoss()\n",
    "optimizer = torch.optim.Adam(model.parameters(), lr=0.001)"
   ]
  },
  {
   "cell_type": "markdown",
   "id": "70a4f9d1",
   "metadata": {
    "papermill": {
     "duration": 0.016281,
     "end_time": "2025-06-29T14:59:47.865442",
     "exception": false,
     "start_time": "2025-06-29T14:59:47.849161",
     "status": "completed"
    },
    "tags": []
   },
   "source": [
    "### Loss and accuracy monitoring"
   ]
  },
  {
   "cell_type": "code",
   "execution_count": 51,
   "id": "59531c0a",
   "metadata": {
    "execution": {
     "iopub.execute_input": "2025-06-29T14:59:47.899122Z",
     "iopub.status.busy": "2025-06-29T14:59:47.898535Z",
     "iopub.status.idle": "2025-06-29T14:59:47.905031Z",
     "shell.execute_reply": "2025-06-29T14:59:47.904503Z"
    },
    "papermill": {
     "duration": 0.024513,
     "end_time": "2025-06-29T14:59:47.906135",
     "exception": false,
     "start_time": "2025-06-29T14:59:47.881622",
     "status": "completed"
    },
    "tags": []
   },
   "outputs": [],
   "source": [
    "def train_model(model):\n",
    "    # Initialize history\n",
    "    history = {\n",
    "        'loss': [],\n",
    "        'val_loss': [],\n",
    "        'accuracy': [],\n",
    "        'val_accuracy': []\n",
    "    }\n",
    "    \n",
    "    for epoch in range(500):\n",
    "        optimizer.zero_grad()\n",
    "        model.train()\n",
    "        \n",
    "        X_train_tensor = X_train_tensor.to(device)\n",
    "        y_train_tensor = y_train_tensor.to(device)\n",
    "\n",
    "        # Forward pass\n",
    "        y_pred_train = model(*X_train_tensor)\n",
    "        loss = criterion(y_pred_train, y_train_tensor)\n",
    "    \n",
    "        loss.backward()\n",
    "        optimizer.step()\n",
    "        \n",
    "        # Compute training accuracy\n",
    "        train_acc = (y_pred_train.argmax(dim=1) == y_train_tensor.argmax(dim=1)).float().mean().item()\n",
    "\n",
    "        # Validation\n",
    "        model.eval()\n",
    "        if epoch % 50 == 0:\n",
    "            print(f\"Epoch {epoch}, Loss: {loss.item():.4f}\")\n",
    "    \n",
    "        with torch.no_grad():\n",
    "            y_pred_val = model(X_val_tensor)\n",
    "            val_loss = criterion(y_pred_val, y_val_tensor)\n",
    "            val_acc = (y_pred_val.argmax(dim=1) == y_val_tensor.argmax(dim=1)).float().mean().item()\n",
    "        \n",
    "        # Store in history\n",
    "        history['loss'].append(loss.item())\n",
    "        history['val_loss'].append(val_loss.item())\n",
    "        history['accuracy'].append(train_acc)\n",
    "        history['val_accuracy'].append(val_acc)\n",
    "    \n",
    "        print(f\"\\nMSE na zbiorze walidacyjnym: {val_loss.item():.4f}\")\n",
    "    \n",
    "    return history\n"
   ]
  },
  {
   "cell_type": "code",
   "execution_count": 52,
   "id": "edcdcbda",
   "metadata": {
    "execution": {
     "iopub.execute_input": "2025-06-29T14:59:47.939692Z",
     "iopub.status.busy": "2025-06-29T14:59:47.939216Z",
     "iopub.status.idle": "2025-06-29T14:59:47.953266Z",
     "shell.execute_reply": "2025-06-29T14:59:47.952471Z"
    },
    "papermill": {
     "duration": 0.032061,
     "end_time": "2025-06-29T14:59:47.954450",
     "exception": false,
     "start_time": "2025-06-29T14:59:47.922389",
     "status": "completed"
    },
    "tags": []
   },
   "outputs": [
    {
     "name": "stdout",
     "output_type": "stream",
     "text": [
      " Class Index  Train (scaled)  Validation (scaled)  Test (scaled)  Total\n",
      "           3          956.25               956.25          960.0    957\n",
      "           2          878.12               881.25          880.0    879\n",
      "           1          715.62               718.75          715.0    716\n",
      "           9          550.00               550.00          550.0    550\n",
      "           7          509.37               512.50          510.0    510\n",
      "          20          446.87               450.00          450.0    448\n",
      "           5          415.62               418.75          415.0    416\n",
      "           0          385.94               387.50          385.0    386\n",
      "          21          384.37               387.50          385.0    385\n",
      "          22          376.56               375.00          375.0    376\n",
      "          11          356.25               356.25          355.0    356\n",
      "          15          275.00               275.00          275.0    275\n",
      "          17          265.62               268.75          265.0    266\n",
      "           4          256.25               256.25          255.0    256\n",
      "           8          175.00               175.00          175.0    175\n",
      "          16          140.62               137.50          140.0    140\n",
      "          14          120.31               118.75          120.0    120\n",
      "          10          110.94               112.50          110.0    111\n",
      "           6           82.81                81.25           85.0     83\n",
      "          19           79.69                75.00           80.0     79\n",
      "          23           76.56                75.00           75.0     76\n",
      "          12           67.19                68.75           70.0     68\n",
      "          18           60.94                56.25           60.0     60\n",
      "          13           39.06                37.50           40.0     39\n"
     ]
    }
   ],
   "source": [
    "from tensorflow.keras.utils import to_categorical\n",
    "\n",
    "# Calculate sample counts per class\n",
    "train_counts = np.count_nonzero(to_categorical(y_train), axis=0) / (0.8*0.8)\n",
    "#train_counts = np.count_nonzero(to_categorical(y_train), axis=0) / (0.8)\n",
    "test_counts = np.count_nonzero(to_categorical(y_test), axis=0) / 0.2\n",
    "val_counts = np.count_nonzero(to_categorical(y_val), axis=0) / (0.8*0.2)\n",
    "total_counts = np.count_nonzero(to_categorical(grouped_df['primary_site_cat'].values), axis=0)\n",
    "\n",
    "# Combine into a DataFrame\n",
    "df_counts = pd.DataFrame({\n",
    "    'Class Index': range(len(total_counts)),\n",
    "    'Train (scaled)': train_counts,\n",
    "    'Validation (scaled)': val_counts,\n",
    "    'Test (scaled)': test_counts,\n",
    "    'Total': total_counts\n",
    "})\n",
    "\n",
    "# Round for easier reading\n",
    "df_counts = df_counts.round(2)\n",
    "\n",
    "# Display sorted by Total count or any other logic\n",
    "print(df_counts.sort_values(by='Total', ascending=False).to_string(index=False))\n"
   ]
  },
  {
   "cell_type": "markdown",
   "id": "d7387860",
   "metadata": {
    "papermill": {
     "duration": 0.017341,
     "end_time": "2025-06-29T14:59:47.988538",
     "exception": false,
     "start_time": "2025-06-29T14:59:47.971197",
     "status": "completed"
    },
    "tags": []
   },
   "source": [
    "The unbalanced classes were taken into acocunt"
   ]
  },
  {
   "cell_type": "code",
   "execution_count": 53,
   "id": "c2b626ed",
   "metadata": {
    "execution": {
     "iopub.execute_input": "2025-06-29T14:59:48.021333Z",
     "iopub.status.busy": "2025-06-29T14:59:48.021104Z",
     "iopub.status.idle": "2025-06-29T14:59:48.025545Z",
     "shell.execute_reply": "2025-06-29T14:59:48.025036Z"
    },
    "papermill": {
     "duration": 0.022065,
     "end_time": "2025-06-29T14:59:48.026578",
     "exception": false,
     "start_time": "2025-06-29T14:59:48.004513",
     "status": "completed"
    },
    "tags": []
   },
   "outputs": [
    {
     "data": {
      "text/plain": [
       "(135, 127, 794, 125)"
      ]
     },
     "execution_count": 53,
     "metadata": {},
     "output_type": "execute_result"
    }
   ],
   "source": [
    "X_bin.shape[1], X_gene.shape[1], X_motif.shape[1], X_rna.shape[1]"
   ]
  },
  {
   "cell_type": "markdown",
   "id": "73984c43",
   "metadata": {
    "papermill": {
     "duration": 0.016011,
     "end_time": "2025-06-29T14:59:48.059017",
     "exception": false,
     "start_time": "2025-06-29T14:59:48.043006",
     "status": "completed"
    },
    "tags": []
   },
   "source": [
    "### Combined model:"
   ]
  },
  {
   "cell_type": "code",
   "execution_count": 54,
   "id": "4eba8d78",
   "metadata": {
    "execution": {
     "iopub.execute_input": "2025-06-29T14:59:48.091970Z",
     "iopub.status.busy": "2025-06-29T14:59:48.091748Z",
     "iopub.status.idle": "2025-06-29T14:59:48.169609Z",
     "shell.execute_reply": "2025-06-29T14:59:48.169000Z"
    },
    "papermill": {
     "duration": 0.095939,
     "end_time": "2025-06-29T14:59:48.171023",
     "exception": false,
     "start_time": "2025-06-29T14:59:48.075084",
     "status": "completed"
    },
    "tags": []
   },
   "outputs": [],
   "source": [
    "import torch\n",
    "import torch.nn as nn\n",
    "import torch.optim as optim\n",
    "from sklearn.model_selection import train_test_split\n",
    "import numpy as np\n",
    "\n",
    "device = torch.device(\"cuda\" if torch.cuda.is_available() else \"cpu\")\n",
    "\n",
    "# ---------------------- Split the dataset ------------------------\n",
    "y_labels = y_primary_site \n",
    "\n",
    "# Split with stratification\n",
    "X_train, X_test, y_train, y_test = train_test_split(X_scaled, y_labels, test_size=0.2, stratify=y_labels, random_state=42)\n",
    "X_train, X_val, y_train, y_val = train_test_split(X_train, y_train, test_size=0.2, stratify=y_train, random_state=42)\n",
    "\n",
    "# Function to split feature groups (based on vector length)\n",
    "def split_inputs(X):\n",
    "    return (\n",
    "        torch.tensor(X[:, :135], dtype=torch.float32),\n",
    "        torch.tensor(X[:, 135:262], dtype=torch.float32),\n",
    "        torch.tensor(X[:, 262:1056], dtype=torch.float32),\n",
    "        torch.tensor(X[:, 1056:], dtype=torch.float32)\n",
    "    )\n",
    "\n",
    "# Convert and split (so that each trait group has its own input)\n",
    "X_train_parts = [part.to(device) for part in split_inputs(X_train)]\n",
    "X_val_parts = [part.to(device) for part in split_inputs(X_val)]\n",
    "X_test_parts = [part.to(device) for part in split_inputs(X_test)]\n",
    "\n",
    "y_train_tensor = torch.tensor(y_train, dtype=torch.long).to(device)\n",
    "y_val_tensor = torch.tensor(y_val, dtype=torch.long).to(device)\n",
    "y_test_tensor = torch.tensor(y_test, dtype=torch.long).to(device)\n",
    "\n"
   ]
  },
  {
   "cell_type": "code",
   "execution_count": 55,
   "id": "d9c341a7",
   "metadata": {
    "execution": {
     "iopub.execute_input": "2025-06-29T14:59:48.206848Z",
     "iopub.status.busy": "2025-06-29T14:59:48.206597Z",
     "iopub.status.idle": "2025-06-29T14:59:48.212155Z",
     "shell.execute_reply": "2025-06-29T14:59:48.211643Z"
    },
    "papermill": {
     "duration": 0.025002,
     "end_time": "2025-06-29T14:59:48.213134",
     "exception": false,
     "start_time": "2025-06-29T14:59:48.188132",
     "status": "completed"
    },
    "tags": []
   },
   "outputs": [],
   "source": [
    "# ---------------------- Model Definition ------------------------\n",
    "class MultiInputModel(nn.Module):\n",
    "    def __init__(self, dim_bin, dim_gene, dim_motif, dim_rna, hidden=128, output_dim=24):\n",
    "        super(MultiInputModel, self).__init__()\n",
    "\n",
    "        # Multiple inputs for traits\n",
    "        self.fc_bin = nn.Sequential(nn.Linear(dim_bin, hidden), nn.ReLU())\n",
    "        self.fc_gene = nn.Sequential(nn.Linear(dim_gene, hidden), nn.ReLU())\n",
    "        self.fc_motif = nn.Sequential(nn.Linear(dim_motif, hidden), nn.ReLU())\n",
    "        self.fc_rna = nn.Sequential(nn.Linear(dim_rna, hidden), nn.ReLU())\n",
    "\n",
    "        self.fc_combined = nn.Sequential(\n",
    "            nn.Linear(hidden * 4, 128),\n",
    "            nn.ReLU(),\n",
    "            nn.Linear(128, output_dim)\n",
    "        )\n",
    "\n",
    "    def forward(self, X_bin, X_gene, X_motif, X_rna):\n",
    "        out_bin = self.fc_bin(X_bin)\n",
    "        out_gene = self.fc_gene(X_gene)\n",
    "        out_motif = self.fc_motif(X_motif)\n",
    "        out_rna = self.fc_rna(X_rna)\n",
    "        out = torch.cat([out_bin, out_gene, out_motif, out_rna], dim=1)\n",
    "        return self.fc_combined(out)\n"
   ]
  },
  {
   "cell_type": "code",
   "execution_count": 56,
   "id": "b734edbb",
   "metadata": {
    "execution": {
     "iopub.execute_input": "2025-06-29T14:59:48.246346Z",
     "iopub.status.busy": "2025-06-29T14:59:48.246142Z",
     "iopub.status.idle": "2025-06-29T14:59:48.253489Z",
     "shell.execute_reply": "2025-06-29T14:59:48.253023Z"
    },
    "papermill": {
     "duration": 0.025109,
     "end_time": "2025-06-29T14:59:48.254498",
     "exception": false,
     "start_time": "2025-06-29T14:59:48.229389",
     "status": "completed"
    },
    "tags": []
   },
   "outputs": [],
   "source": [
    "# ---------------------- Initialize ------------------------\n",
    "model = MultiInputModel(\n",
    "    dim_bin=X_bin.shape[1],\n",
    "    dim_gene=X_gene.shape[1],\n",
    "    dim_motif=X_motif.shape[1],\n",
    "    dim_rna=X_rna.shape[1]\n",
    ").to(device)\n",
    "\n",
    "criterion = nn.CrossEntropyLoss()\n",
    "optimizer = optim.Adam(model.parameters(), lr=0.001)\n"
   ]
  },
  {
   "cell_type": "code",
   "execution_count": 57,
   "id": "fe2e50f7",
   "metadata": {
    "execution": {
     "iopub.execute_input": "2025-06-29T14:59:48.288080Z",
     "iopub.status.busy": "2025-06-29T14:59:48.287634Z",
     "iopub.status.idle": "2025-06-29T14:59:48.293391Z",
     "shell.execute_reply": "2025-06-29T14:59:48.292708Z"
    },
    "papermill": {
     "duration": 0.023507,
     "end_time": "2025-06-29T14:59:48.294491",
     "exception": false,
     "start_time": "2025-06-29T14:59:48.270984",
     "status": "completed"
    },
    "tags": []
   },
   "outputs": [],
   "source": [
    "# ---------------------- Training Loop ------------------------\n",
    "def train_model(model, epochs=100):\n",
    "    history = {'loss': [], 'val_loss': [], 'accuracy': [], 'val_accuracy': []}\n",
    "\n",
    "    for epoch in range(epochs):\n",
    "        model.train()\n",
    "        optimizer.zero_grad()\n",
    "\n",
    "        y_pred_train = model(*X_train_parts)\n",
    "        loss = criterion(y_pred_train, y_train_tensor)\n",
    "        loss.backward()\n",
    "        optimizer.step()\n",
    "\n",
    "        train_acc = (y_pred_train.argmax(dim=1) == y_train_tensor).float().mean().item()\n",
    "\n",
    "        # Validation\n",
    "        model.eval()\n",
    "        with torch.no_grad():\n",
    "            y_pred_val = model(*X_val_parts)\n",
    "            val_loss = criterion(y_pred_val, y_val_tensor)\n",
    "            val_acc = (y_pred_val.argmax(dim=1) == y_val_tensor).float().mean().item()\n",
    "\n",
    "        history['loss'].append(loss.item())\n",
    "        history['val_loss'].append(val_loss.item())\n",
    "        history['accuracy'].append(train_acc)\n",
    "        history['val_accuracy'].append(val_acc)\n",
    "\n",
    "        if epoch % 10 == 0:\n",
    "            print(f\"Epoch {epoch:3d} | Loss: {loss.item():.4f} | Val Loss: {val_loss.item():.4f} | Train Acc: {train_acc:.4f} | Val Acc: {val_acc:.4f}\")\n",
    "\n",
    "    return history\n"
   ]
  },
  {
   "cell_type": "code",
   "execution_count": 58,
   "id": "563f5e9e",
   "metadata": {
    "execution": {
     "iopub.execute_input": "2025-06-29T14:59:48.327200Z",
     "iopub.status.busy": "2025-06-29T14:59:48.326994Z",
     "iopub.status.idle": "2025-06-29T14:59:49.371056Z",
     "shell.execute_reply": "2025-06-29T14:59:49.370343Z"
    },
    "papermill": {
     "duration": 1.061624,
     "end_time": "2025-06-29T14:59:49.372159",
     "exception": false,
     "start_time": "2025-06-29T14:59:48.310535",
     "status": "completed"
    },
    "tags": []
   },
   "outputs": [
    {
     "name": "stdout",
     "output_type": "stream",
     "text": [
      "Epoch   0 | Loss: 3.1995 | Val Loss: 3.1220 | Train Acc: 0.0220 | Val Acc: 0.1504\n",
      "Epoch  10 | Loss: 2.3699 | Val Loss: 2.3669 | Train Acc: 0.4658 | Val Acc: 0.4503\n",
      "Epoch  20 | Loss: 1.5546 | Val Loss: 1.6381 | Train Acc: 0.6626 | Val Acc: 0.6475\n",
      "Epoch  30 | Loss: 0.9283 | Val Loss: 1.0894 | Train Acc: 0.7937 | Val Acc: 0.7486\n",
      "Epoch  40 | Loss: 0.5543 | Val Loss: 0.7766 | Train Acc: 0.8653 | Val Acc: 0.8011\n",
      "Epoch  50 | Loss: 0.3398 | Val Loss: 0.6136 | Train Acc: 0.9116 | Val Acc: 0.8359\n",
      "Epoch  60 | Loss: 0.2196 | Val Loss: 0.5299 | Train Acc: 0.9456 | Val Acc: 0.8545\n",
      "Epoch  70 | Loss: 0.1496 | Val Loss: 0.4919 | Train Acc: 0.9636 | Val Acc: 0.8642\n",
      "Epoch  80 | Loss: 0.1059 | Val Loss: 0.4796 | Train Acc: 0.9753 | Val Acc: 0.8642\n",
      "Epoch  90 | Loss: 0.0768 | Val Loss: 0.4825 | Train Acc: 0.9856 | Val Acc: 0.8658\n",
      "Epoch 100 | Loss: 0.0566 | Val Loss: 0.4934 | Train Acc: 0.9913 | Val Acc: 0.8682\n",
      "Epoch 110 | Loss: 0.0424 | Val Loss: 0.5089 | Train Acc: 0.9943 | Val Acc: 0.8674\n",
      "Epoch 120 | Loss: 0.0324 | Val Loss: 0.5264 | Train Acc: 0.9970 | Val Acc: 0.8658\n",
      "Epoch 130 | Loss: 0.0252 | Val Loss: 0.5436 | Train Acc: 0.9982 | Val Acc: 0.8650\n",
      "Epoch 140 | Loss: 0.0200 | Val Loss: 0.5601 | Train Acc: 0.9984 | Val Acc: 0.8650\n",
      "Epoch 150 | Loss: 0.0162 | Val Loss: 0.5757 | Train Acc: 0.9986 | Val Acc: 0.8642\n",
      "Epoch 160 | Loss: 0.0133 | Val Loss: 0.5903 | Train Acc: 0.9992 | Val Acc: 0.8642\n",
      "Epoch 170 | Loss: 0.0111 | Val Loss: 0.6037 | Train Acc: 0.9996 | Val Acc: 0.8642\n",
      "Epoch 180 | Loss: 0.0093 | Val Loss: 0.6162 | Train Acc: 0.9998 | Val Acc: 0.8642\n",
      "Epoch 190 | Loss: 0.0080 | Val Loss: 0.6278 | Train Acc: 0.9998 | Val Acc: 0.8642\n"
     ]
    }
   ],
   "source": [
    "history = train_model(model, epochs=200)"
   ]
  },
  {
   "cell_type": "markdown",
   "id": "3ab98740",
   "metadata": {
    "papermill": {
     "duration": 0.016359,
     "end_time": "2025-06-29T14:59:49.405436",
     "exception": false,
     "start_time": "2025-06-29T14:59:49.389077",
     "status": "completed"
    },
    "tags": []
   },
   "source": [
    "## 4. Ocena overfittingu  \n",
    "### 1. Wizualizacja uczenia  \n",
    "• Krzywe loss/accuracy dla zbioru treningowego i walidacyjnego.  "
   ]
  },
  {
   "cell_type": "code",
   "execution_count": 59,
   "id": "8f9b86e6",
   "metadata": {
    "execution": {
     "iopub.execute_input": "2025-06-29T14:59:49.438777Z",
     "iopub.status.busy": "2025-06-29T14:59:49.438518Z",
     "iopub.status.idle": "2025-06-29T14:59:49.814780Z",
     "shell.execute_reply": "2025-06-29T14:59:49.814046Z"
    },
    "papermill": {
     "duration": 0.394343,
     "end_time": "2025-06-29T14:59:49.816050",
     "exception": false,
     "start_time": "2025-06-29T14:59:49.421707",
     "status": "completed"
    },
    "tags": []
   },
   "outputs": [
    {
     "data": {
      "image/png": "[encoded data removed]",
      "text/plain": [
       "<Figure size 1200x600 with 2 Axes>"
      ]
     },
     "metadata": {},
     "output_type": "display_data"
    }
   ],
   "source": [
    "import matplotlib.pyplot as plt\n",
    "\n",
    "acc = history['accuracy']\n",
    "val_acc = history['val_accuracy']\n",
    "loss = history['loss']\n",
    "val_loss = history['val_loss']\n",
    "\n",
    "epochs = range(1, len(acc) + 1)\n",
    "\n",
    "plt.figure(figsize=(12, 6))\n",
    "\n",
    "# Accuracy plot\n",
    "plt.subplot(1, 2, 1)\n",
    "plt.plot(epochs, acc, 'bo', label='Dokładność treningowa')\n",
    "plt.plot(epochs, val_acc, 'b', label='Dokładność walidacyjna')\n",
    "plt.title('Dokładność treningowa i walidacyjna')\n",
    "plt.xlabel('Epoki')\n",
    "plt.ylabel('Dokładność')\n",
    "plt.legend()\n",
    "\n",
    "# Loss plot\n",
    "plt.subplot(1, 2, 2)\n",
    "plt.plot(epochs, loss, 'bo', label='Strata treningowa')\n",
    "plt.plot(epochs, val_loss, 'b', label='Strata walidacyjna')\n",
    "plt.title('Strata treningowa i walidacyjna')\n",
    "plt.xlabel('Epoki')\n",
    "plt.ylabel('Strata')\n",
    "plt.legend()\n",
    "\n",
    "plt.tight_layout()\n",
    "plt.show()\n"
   ]
  },
  {
   "cell_type": "markdown",
   "id": "00398b88",
   "metadata": {
    "papermill": {
     "duration": 0.017669,
     "end_time": "2025-06-29T14:59:49.852976",
     "exception": false,
     "start_time": "2025-06-29T14:59:49.835307",
     "status": "completed"
    },
    "tags": []
   },
   "source": [
    "### 2. Metryki  \n",
    "• Accuracy, precision, recall, F1 na zbiorze walidacyjnym.  "
   ]
  },
  {
   "cell_type": "code",
   "execution_count": 60,
   "id": "b762d651",
   "metadata": {
    "execution": {
     "iopub.execute_input": "2025-06-29T14:59:49.889217Z",
     "iopub.status.busy": "2025-06-29T14:59:49.888978Z",
     "iopub.status.idle": "2025-06-29T14:59:49.901650Z",
     "shell.execute_reply": "2025-06-29T14:59:49.900909Z"
    },
    "papermill": {
     "duration": 0.031908,
     "end_time": "2025-06-29T14:59:49.902702",
     "exception": false,
     "start_time": "2025-06-29T14:59:49.870794",
     "status": "completed"
    },
    "tags": []
   },
   "outputs": [
    {
     "name": "stdout",
     "output_type": "stream",
     "text": [
      "              precision    recall  f1-score   support\n",
      "\n",
      "           0       0.79      0.77      0.78        77\n",
      "           1       0.99      0.99      0.99       143\n",
      "           2       0.97      0.97      0.97       176\n",
      "           3       0.83      0.87      0.85       192\n",
      "           4       0.80      0.69      0.74        51\n",
      "           5       0.69      0.80      0.74        83\n",
      "           6       0.59      0.59      0.59        17\n",
      "           7       0.89      0.90      0.90       102\n",
      "           8       0.60      0.43      0.50        35\n",
      "           9       0.97      0.98      0.98       110\n",
      "          10       0.25      0.18      0.21        22\n",
      "          11       0.95      0.89      0.92        71\n",
      "          12       0.08      0.07      0.08        14\n",
      "          13       0.00      0.00      0.00         8\n",
      "          14       0.37      0.42      0.39        24\n",
      "          15       0.95      0.98      0.96        55\n",
      "          16       0.76      0.79      0.77        28\n",
      "          17       0.98      0.96      0.97        53\n",
      "          18       0.29      0.17      0.21        12\n",
      "          19       0.18      0.12      0.15        16\n",
      "          20       0.95      0.99      0.97        90\n",
      "          21       0.72      0.83      0.77        77\n",
      "          22       0.99      0.99      0.99        75\n",
      "          23       0.53      0.53      0.53        15\n",
      "\n",
      "    accuracy                           0.85      1546\n",
      "   macro avg       0.67      0.66      0.66      1546\n",
      "weighted avg       0.84      0.85      0.84      1546\n",
      "\n"
     ]
    }
   ],
   "source": [
    "from sklearn.metrics import classification_report\n",
    "\n",
    "# Run model on test set\n",
    "model.eval()\n",
    "with torch.no_grad():\n",
    "    y_pred_test = model(*X_test_parts)\n",
    "    y_pred_labels = y_pred_test.argmax(dim=1).cpu().numpy()\n",
    "    y_true_labels = y_test_tensor.cpu().numpy()\n",
    "\n",
    "# Print classification report\n",
    "print(classification_report(y_true_labels, y_pred_labels))\n"
   ]
  },
  {
   "cell_type": "markdown",
   "id": "e47e6d6c",
   "metadata": {
    "papermill": {
     "duration": 0.017351,
     "end_time": "2025-06-29T14:59:49.938049",
     "exception": false,
     "start_time": "2025-06-29T14:59:49.920698",
     "status": "completed"
    },
    "tags": []
   },
   "source": [
    "### 3. Identyfikacja overfittingu  \n",
    "• Nierozbieżność miedzy strata/train a strata/val.  \n",
    "• Spadek lub stagnacja accuracy/val przy rosnacym accuracy/train."
   ]
  },
  {
   "cell_type": "markdown",
   "id": "6546d8c0",
   "metadata": {
    "papermill": {
     "duration": 0.017854,
     "end_time": "2025-06-29T14:59:49.973051",
     "exception": false,
     "start_time": "2025-06-29T14:59:49.955197",
     "status": "completed"
    },
    "tags": []
   },
   "source": [
    "Analysis of the loss and accuracy functions in the report."
   ]
  }
 ],
 "metadata": {
  "kaggle": {
   "accelerator": "gpu",
   "dataSources": [
    {
     "datasetId": 7030230,
     "sourceId": 11458791,
     "sourceType": "datasetVersion"
    }
   ],
   "dockerImageVersionId": 31040,
   "isGpuEnabled": true,
   "isInternetEnabled": true,
   "language": "python",
   "sourceType": "notebook"
  },
  "kernelspec": {
   "display_name": "Python 3",
   "language": "python",
   "name": "python3"
  },
  "language_info": {
   "codemirror_mode": {
    "name": "ipython",
    "version": 3
   },
   "file_extension": ".py",
   "mimetype": "text/x-python",
   "name": "python",
   "nbconvert_exporter": "python",
   "pygments_lexer": "ipython3",
   "version": "3.11.11"
  },
  "papermill": {
   "default_parameters": {},
   "duration": 263.347757,
   "end_time": "2025-06-29T14:59:53.159836",
   "environment_variables": {},
   "exception": null,
   "input_path": "__notebook__.ipynb",
   "output_path": "__notebook__.ipynb",
   "parameters": {},
   "start_time": "2025-06-29T14:55:29.812079",
   "version": "2.6.0"
  }
 },
 "nbformat": 4,
 "nbformat_minor": 5
}
