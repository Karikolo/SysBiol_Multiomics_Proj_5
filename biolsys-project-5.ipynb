{
 "cells": [
  {
   "cell_type": "markdown",
   "id": "f7e6d0f2",
   "metadata": {
    "papermill": {
     "duration": 0.007968,
     "end_time": "2025-06-26T10:11:15.837556",
     "exception": false,
     "start_time": "2025-06-26T10:11:15.829588",
     "status": "completed"
    },
    "tags": []
   },
   "source": [
    "Download genes from: https://www.oncokb.org/cancer-genes (read the .tsv)  \n",
    "Then filter via the Vogelstein et al. (2013). column   \n",
    "Then create a parquet with similar columns to kaggle/input/oncokb-cancer-gene-list/mutations_3.parquet"
   ]
  },
  {
   "cell_type": "markdown",
   "id": "f7f139d7",
   "metadata": {
    "papermill": {
     "duration": 0.00601,
     "end_time": "2025-06-26T10:11:15.850397",
     "exception": false,
     "start_time": "2025-06-26T10:11:15.844387",
     "status": "completed"
    },
    "tags": []
   },
   "source": [
    "From BiolSys - zajęcia:"
   ]
  },
  {
   "cell_type": "markdown",
   "id": "181f9041",
   "metadata": {
    "papermill": {
     "duration": 0.00588,
     "end_time": "2025-06-26T10:11:15.862060",
     "exception": false,
     "start_time": "2025-06-26T10:11:15.856180",
     "status": "completed"
    },
    "tags": []
   },
   "source": [
    "## 1. Przygotowanie danych:"
   ]
  },
  {
   "cell_type": "markdown",
   "id": "d016de75",
   "metadata": {
    "papermill": {
     "duration": 0.005379,
     "end_time": "2025-06-26T10:11:15.873208",
     "exception": false,
     "start_time": "2025-06-26T10:11:15.867829",
     "status": "completed"
    },
    "tags": []
   },
   "source": [
    "## OncoKB database:"
   ]
  },
  {
   "cell_type": "code",
   "execution_count": 1,
   "id": "f02affd4",
   "metadata": {
    "execution": {
     "iopub.execute_input": "2025-06-26T10:11:15.886430Z",
     "iopub.status.busy": "2025-06-26T10:11:15.886097Z",
     "iopub.status.idle": "2025-06-26T10:11:18.010221Z",
     "shell.execute_reply": "2025-06-26T10:11:18.009225Z"
    },
    "papermill": {
     "duration": 2.133395,
     "end_time": "2025-06-26T10:11:18.012239",
     "exception": false,
     "start_time": "2025-06-26T10:11:15.878844",
     "status": "completed"
    },
    "tags": []
   },
   "outputs": [],
   "source": [
    "import pandas as pd\n",
    "\n",
    "oncokb_df = pd.read_csv('/kaggle/input/oncokb-cancer-gene-list/cancerGeneList.tsv', sep=\"\\t\")\n",
    "oncokb_df\n",
    "genes_list = oncokb_df['Hugo Symbol']"
   ]
  },
  {
   "cell_type": "markdown",
   "id": "ebbb2ea6",
   "metadata": {
    "papermill": {
     "duration": 0.006121,
     "end_time": "2025-06-26T10:11:18.024997",
     "exception": false,
     "start_time": "2025-06-26T10:11:18.018876",
     "status": "completed"
    },
    "tags": []
   },
   "source": [
    "## TCGA database:"
   ]
  },
  {
   "cell_type": "code",
   "execution_count": 2,
   "id": "20c79cb6",
   "metadata": {
    "execution": {
     "iopub.execute_input": "2025-06-26T10:11:18.039101Z",
     "iopub.status.busy": "2025-06-26T10:11:18.038787Z",
     "iopub.status.idle": "2025-06-26T10:11:18.045028Z",
     "shell.execute_reply": "2025-06-26T10:11:18.044044Z"
    },
    "papermill": {
     "duration": 0.015198,
     "end_time": "2025-06-26T10:11:18.046558",
     "exception": false,
     "start_time": "2025-06-26T10:11:18.031360",
     "status": "completed"
    },
    "tags": []
   },
   "outputs": [],
   "source": [
    "# tutaj można zamiast tego zrobić list.join() albo coś takiego\n",
    "list(genes_list)\n",
    "genes_list_str = \"(\"\n",
    "for gene in genes_list:\n",
    "    genes_list_str += f\"'{gene}', \"\n",
    "genes_list_str = genes_list_str.strip(\", \")\n",
    "genes_list_str += \")\"\n"
   ]
  },
  {
   "cell_type": "code",
   "execution_count": 3,
   "id": "19e14960",
   "metadata": {
    "execution": {
     "iopub.execute_input": "2025-06-26T10:11:18.060401Z",
     "iopub.status.busy": "2025-06-26T10:11:18.059751Z",
     "iopub.status.idle": "2025-06-26T10:19:10.465737Z",
     "shell.execute_reply": "2025-06-26T10:19:10.464734Z"
    },
    "papermill": {
     "duration": 472.414922,
     "end_time": "2025-06-26T10:19:10.467864",
     "exception": false,
     "start_time": "2025-06-26T10:11:18.052942",
     "status": "completed"
    },
    "tags": []
   },
   "outputs": [
    {
     "name": "stdout",
     "output_type": "stream",
     "text": [
      "Using Kaggle's public dataset BigQuery integration.\n"
     ]
    },
    {
     "name": "stderr",
     "output_type": "stream",
     "text": [
      "/usr/local/lib/python3.11/dist-packages/google/cloud/bigquery/table.py:1727: UserWarning: BigQuery Storage module not found, fetch data with the REST endpoint instead.\n",
      "  warnings.warn(\n"
     ]
    }
   ],
   "source": [
    "from google.cloud import bigquery\n",
    "import pandas as pd\n",
    "# Tworzenie klienta BigQuery\n",
    "client = bigquery.Client()\n",
    "\n",
    "# Zapytanie SQL\n",
    "query = \"\"\"SELECT *\n",
    "FROM `isb-cgc-bq.TCGA.masked_somatic_mutation_hg38_gdc_current`\n",
    "WHERE Variant_Type IN ('SNP', 'DEL', 'INS') AND \n",
    "Hugo_Symbol IN \n",
    "\"\"\"\n",
    "query = query + genes_list_str + \";\"\n",
    "query_job = client.query(query)\n",
    "df = query_job.to_dataframe()\n"
   ]
  },
  {
   "cell_type": "code",
   "execution_count": 4,
   "id": "883015f3",
   "metadata": {
    "execution": {
     "iopub.execute_input": "2025-06-26T10:19:10.488440Z",
     "iopub.status.busy": "2025-06-26T10:19:10.487869Z",
     "iopub.status.idle": "2025-06-26T10:19:10.785669Z",
     "shell.execute_reply": "2025-06-26T10:19:10.784615Z"
    },
    "papermill": {
     "duration": 0.313021,
     "end_time": "2025-06-26T10:19:10.787462",
     "exception": false,
     "start_time": "2025-06-26T10:19:10.474441",
     "status": "completed"
    },
    "tags": []
   },
   "outputs": [
    {
     "data": {
      "text/html": [
       "<div>\n",
       "<style scoped>\n",
       "    .dataframe tbody tr th:only-of-type {\n",
       "        vertical-align: middle;\n",
       "    }\n",
       "\n",
       "    .dataframe tbody tr th {\n",
       "        vertical-align: top;\n",
       "    }\n",
       "\n",
       "    .dataframe thead th {\n",
       "        text-align: right;\n",
       "    }\n",
       "</style>\n",
       "<table border=\"1\" class=\"dataframe\">\n",
       "  <thead>\n",
       "    <tr style=\"text-align: right;\">\n",
       "      <th></th>\n",
       "      <th>project_short_name</th>\n",
       "      <th>case_barcode</th>\n",
       "      <th>primary_site</th>\n",
       "      <th>Hugo_Symbol</th>\n",
       "      <th>Entrez_Gene_Id</th>\n",
       "      <th>Center</th>\n",
       "      <th>NCBI_Build</th>\n",
       "      <th>Chromosome</th>\n",
       "      <th>Start_Position</th>\n",
       "      <th>End_Position</th>\n",
       "      <th>...</th>\n",
       "      <th>callers</th>\n",
       "      <th>file_gdc_id</th>\n",
       "      <th>muse</th>\n",
       "      <th>mutect2</th>\n",
       "      <th>pindel</th>\n",
       "      <th>varscan2</th>\n",
       "      <th>sample_barcode_tumor</th>\n",
       "      <th>sample_barcode_normal</th>\n",
       "      <th>aliquot_barcode_tumor</th>\n",
       "      <th>aliquot_barcode_normal</th>\n",
       "    </tr>\n",
       "  </thead>\n",
       "  <tbody>\n",
       "    <tr>\n",
       "      <th>0</th>\n",
       "      <td>TCGA-OV</td>\n",
       "      <td>TCGA-04-1347</td>\n",
       "      <td>Ovary</td>\n",
       "      <td>AGO2</td>\n",
       "      <td>27161</td>\n",
       "      <td>BI</td>\n",
       "      <td>GRCh38</td>\n",
       "      <td>chr8</td>\n",
       "      <td>140585293</td>\n",
       "      <td>140585293</td>\n",
       "      <td>...</td>\n",
       "      <td>muse;mutect2;varscan2</td>\n",
       "      <td>3b23fc2d-23e1-4847-ac11-edc83bce1efa</td>\n",
       "      <td>Yes</td>\n",
       "      <td>Yes</td>\n",
       "      <td>No</td>\n",
       "      <td>Yes</td>\n",
       "      <td>TCGA-04-1347-01A</td>\n",
       "      <td>TCGA-04-1347-11A</td>\n",
       "      <td>TCGA-04-1347-01A-01W-0486-08</td>\n",
       "      <td>TCGA-04-1347-11A-01W-0487-08</td>\n",
       "    </tr>\n",
       "    <tr>\n",
       "      <th>1</th>\n",
       "      <td>TCGA-GBM</td>\n",
       "      <td>TCGA-06-5416</td>\n",
       "      <td>Brain</td>\n",
       "      <td>NCOA2</td>\n",
       "      <td>10499</td>\n",
       "      <td>BI</td>\n",
       "      <td>GRCh38</td>\n",
       "      <td>chr8</td>\n",
       "      <td>70124775</td>\n",
       "      <td>70124775</td>\n",
       "      <td>...</td>\n",
       "      <td>muse;varscan2</td>\n",
       "      <td>99c228a0-02df-46f2-a095-68e72e53b159</td>\n",
       "      <td>Yes</td>\n",
       "      <td>No</td>\n",
       "      <td>No</td>\n",
       "      <td>Yes</td>\n",
       "      <td>TCGA-06-5416-01A</td>\n",
       "      <td>TCGA-06-5416-10A</td>\n",
       "      <td>TCGA-06-5416-01A-01D-1486-08</td>\n",
       "      <td>TCGA-06-5416-10A-01D-1486-08</td>\n",
       "    </tr>\n",
       "    <tr>\n",
       "      <th>2</th>\n",
       "      <td>TCGA-GBM</td>\n",
       "      <td>TCGA-06-5858</td>\n",
       "      <td>Brain</td>\n",
       "      <td>PRDM16</td>\n",
       "      <td>63976</td>\n",
       "      <td>BI</td>\n",
       "      <td>GRCh38</td>\n",
       "      <td>chr1</td>\n",
       "      <td>3412264</td>\n",
       "      <td>3412264</td>\n",
       "      <td>...</td>\n",
       "      <td>muse;mutect2;varscan2</td>\n",
       "      <td>a7280605-858e-4595-82db-e7508d9a8f57</td>\n",
       "      <td>Yes</td>\n",
       "      <td>Yes</td>\n",
       "      <td>No</td>\n",
       "      <td>Yes</td>\n",
       "      <td>TCGA-06-5858-01A</td>\n",
       "      <td>TCGA-06-5858-10A</td>\n",
       "      <td>TCGA-06-5858-01A-01D-1696-08</td>\n",
       "      <td>TCGA-06-5858-10A-01D-1696-08</td>\n",
       "    </tr>\n",
       "    <tr>\n",
       "      <th>3</th>\n",
       "      <td>TCGA-GBM</td>\n",
       "      <td>TCGA-16-0848</td>\n",
       "      <td>Brain</td>\n",
       "      <td>ADGRG4</td>\n",
       "      <td>139378</td>\n",
       "      <td>BI</td>\n",
       "      <td>GRCh38</td>\n",
       "      <td>chrX</td>\n",
       "      <td>136323214</td>\n",
       "      <td>136323214</td>\n",
       "      <td>...</td>\n",
       "      <td>muse;mutect2</td>\n",
       "      <td>192041a9-6ff6-4e10-94c8-12a31849a790</td>\n",
       "      <td>Yes</td>\n",
       "      <td>Yes</td>\n",
       "      <td>No</td>\n",
       "      <td>No</td>\n",
       "      <td>TCGA-16-0848-01A</td>\n",
       "      <td>TCGA-16-0848-10A</td>\n",
       "      <td>TCGA-16-0848-01A-01W-0424-08</td>\n",
       "      <td>TCGA-16-0848-10A-01D-1492-08</td>\n",
       "    </tr>\n",
       "    <tr>\n",
       "      <th>4</th>\n",
       "      <td>TCGA-LUAD</td>\n",
       "      <td>TCGA-17-Z017</td>\n",
       "      <td>Bronchus and lung</td>\n",
       "      <td>CBL</td>\n",
       "      <td>867</td>\n",
       "      <td>BI</td>\n",
       "      <td>GRCh38</td>\n",
       "      <td>chr11</td>\n",
       "      <td>119274922</td>\n",
       "      <td>119274922</td>\n",
       "      <td>...</td>\n",
       "      <td>mutect2;varscan2</td>\n",
       "      <td>0e9ceaa9-c20f-45a1-a55e-7ef515c0b15d</td>\n",
       "      <td>No</td>\n",
       "      <td>Yes</td>\n",
       "      <td>No</td>\n",
       "      <td>Yes</td>\n",
       "      <td>TCGA-17-Z017-01A</td>\n",
       "      <td>TCGA-17-Z017-11A</td>\n",
       "      <td>TCGA-17-Z017-01A-01W-0746-08</td>\n",
       "      <td>TCGA-17-Z017-11A-01W-0746-08</td>\n",
       "    </tr>\n",
       "    <tr>\n",
       "      <th>...</th>\n",
       "      <td>...</td>\n",
       "      <td>...</td>\n",
       "      <td>...</td>\n",
       "      <td>...</td>\n",
       "      <td>...</td>\n",
       "      <td>...</td>\n",
       "      <td>...</td>\n",
       "      <td>...</td>\n",
       "      <td>...</td>\n",
       "      <td>...</td>\n",
       "      <td>...</td>\n",
       "      <td>...</td>\n",
       "      <td>...</td>\n",
       "      <td>...</td>\n",
       "      <td>...</td>\n",
       "      <td>...</td>\n",
       "      <td>...</td>\n",
       "      <td>...</td>\n",
       "      <td>...</td>\n",
       "      <td>...</td>\n",
       "      <td>...</td>\n",
       "    </tr>\n",
       "    <tr>\n",
       "      <th>244270</th>\n",
       "      <td>TCGA-READ</td>\n",
       "      <td>TCGA-F5-6814</td>\n",
       "      <td>Rectum</td>\n",
       "      <td>DDX5</td>\n",
       "      <td>1655</td>\n",
       "      <td>BCM</td>\n",
       "      <td>GRCh38</td>\n",
       "      <td>chr17</td>\n",
       "      <td>64500565</td>\n",
       "      <td>64500565</td>\n",
       "      <td>...</td>\n",
       "      <td>muse;varscan2</td>\n",
       "      <td>18118987-2447-4e6a-9516-69be8f87d03f</td>\n",
       "      <td>Yes</td>\n",
       "      <td>No</td>\n",
       "      <td>No</td>\n",
       "      <td>Yes</td>\n",
       "      <td>TCGA-F5-6814-01A</td>\n",
       "      <td>TCGA-F5-6814-10A</td>\n",
       "      <td>TCGA-F5-6814-01A-31D-1924-10</td>\n",
       "      <td>TCGA-F5-6814-10A-01D-1924-10</td>\n",
       "    </tr>\n",
       "    <tr>\n",
       "      <th>244271</th>\n",
       "      <td>TCGA-READ</td>\n",
       "      <td>TCGA-F5-6814</td>\n",
       "      <td>Rectum</td>\n",
       "      <td>KEL</td>\n",
       "      <td>3792</td>\n",
       "      <td>BCM</td>\n",
       "      <td>GRCh38</td>\n",
       "      <td>chr7</td>\n",
       "      <td>142946252</td>\n",
       "      <td>142946252</td>\n",
       "      <td>...</td>\n",
       "      <td>muse;mutect2;varscan2</td>\n",
       "      <td>18118987-2447-4e6a-9516-69be8f87d03f</td>\n",
       "      <td>Yes</td>\n",
       "      <td>Yes</td>\n",
       "      <td>No</td>\n",
       "      <td>Yes</td>\n",
       "      <td>TCGA-F5-6814-01A</td>\n",
       "      <td>TCGA-F5-6814-10A</td>\n",
       "      <td>TCGA-F5-6814-01A-31D-1924-10</td>\n",
       "      <td>TCGA-F5-6814-10A-01D-1924-10</td>\n",
       "    </tr>\n",
       "    <tr>\n",
       "      <th>244272</th>\n",
       "      <td>TCGA-STAD</td>\n",
       "      <td>TCGA-HU-A4GQ</td>\n",
       "      <td>Stomach</td>\n",
       "      <td>SDHA</td>\n",
       "      <td>6389</td>\n",
       "      <td>BI</td>\n",
       "      <td>GRCh38</td>\n",
       "      <td>chr5</td>\n",
       "      <td>240386</td>\n",
       "      <td>240386</td>\n",
       "      <td>...</td>\n",
       "      <td>muse;mutect2;varscan2</td>\n",
       "      <td>130a54ce-e31d-456e-8681-5edb347f9761</td>\n",
       "      <td>Yes</td>\n",
       "      <td>Yes</td>\n",
       "      <td>No</td>\n",
       "      <td>Yes</td>\n",
       "      <td>TCGA-HU-A4GQ-01A</td>\n",
       "      <td>TCGA-HU-A4GQ-10A</td>\n",
       "      <td>TCGA-HU-A4GQ-01A-11D-A25D-08</td>\n",
       "      <td>TCGA-HU-A4GQ-10A-01D-A25E-08</td>\n",
       "    </tr>\n",
       "    <tr>\n",
       "      <th>244273</th>\n",
       "      <td>TCGA-ACC</td>\n",
       "      <td>TCGA-OR-A5LJ</td>\n",
       "      <td>Adrenal gland</td>\n",
       "      <td>ARHGAP35</td>\n",
       "      <td>2909</td>\n",
       "      <td>BCM</td>\n",
       "      <td>GRCh38</td>\n",
       "      <td>chr19</td>\n",
       "      <td>46920741</td>\n",
       "      <td>46920741</td>\n",
       "      <td>...</td>\n",
       "      <td>muse;mutect2;varscan2</td>\n",
       "      <td>10a0ec35-8ffc-4e59-9d88-f39d5e388866</td>\n",
       "      <td>Yes</td>\n",
       "      <td>Yes</td>\n",
       "      <td>No</td>\n",
       "      <td>Yes</td>\n",
       "      <td>TCGA-OR-A5LJ-01A</td>\n",
       "      <td>TCGA-OR-A5LJ-10A</td>\n",
       "      <td>TCGA-OR-A5LJ-01A-11D-A29I-10</td>\n",
       "      <td>TCGA-OR-A5LJ-10A-01D-A29L-10</td>\n",
       "    </tr>\n",
       "    <tr>\n",
       "      <th>244274</th>\n",
       "      <td>TCGA-UCEC</td>\n",
       "      <td>TCGA-QS-A5YQ</td>\n",
       "      <td>Corpus uteri</td>\n",
       "      <td>ALOX5</td>\n",
       "      <td>240</td>\n",
       "      <td>WUGSC</td>\n",
       "      <td>GRCh38</td>\n",
       "      <td>chr10</td>\n",
       "      <td>45382542</td>\n",
       "      <td>45382542</td>\n",
       "      <td>...</td>\n",
       "      <td>muse;mutect2;varscan2</td>\n",
       "      <td>562a8b9e-9f84-4b38-ac58-456580eb1ac2</td>\n",
       "      <td>Yes</td>\n",
       "      <td>Yes</td>\n",
       "      <td>No</td>\n",
       "      <td>Yes</td>\n",
       "      <td>TCGA-QS-A5YQ-01A</td>\n",
       "      <td>TCGA-QS-A5YQ-10A</td>\n",
       "      <td>TCGA-QS-A5YQ-01A-11D-A31U-09</td>\n",
       "      <td>TCGA-QS-A5YQ-10A-01D-A31U-09</td>\n",
       "    </tr>\n",
       "  </tbody>\n",
       "</table>\n",
       "<p>244275 rows × 152 columns</p>\n",
       "</div>"
      ],
      "text/plain": [
       "       project_short_name  case_barcode       primary_site Hugo_Symbol  \\\n",
       "0                 TCGA-OV  TCGA-04-1347              Ovary        AGO2   \n",
       "1                TCGA-GBM  TCGA-06-5416              Brain       NCOA2   \n",
       "2                TCGA-GBM  TCGA-06-5858              Brain      PRDM16   \n",
       "3                TCGA-GBM  TCGA-16-0848              Brain      ADGRG4   \n",
       "4               TCGA-LUAD  TCGA-17-Z017  Bronchus and lung         CBL   \n",
       "...                   ...           ...                ...         ...   \n",
       "244270          TCGA-READ  TCGA-F5-6814             Rectum        DDX5   \n",
       "244271          TCGA-READ  TCGA-F5-6814             Rectum         KEL   \n",
       "244272          TCGA-STAD  TCGA-HU-A4GQ            Stomach        SDHA   \n",
       "244273           TCGA-ACC  TCGA-OR-A5LJ      Adrenal gland    ARHGAP35   \n",
       "244274          TCGA-UCEC  TCGA-QS-A5YQ       Corpus uteri       ALOX5   \n",
       "\n",
       "        Entrez_Gene_Id Center NCBI_Build Chromosome  Start_Position  \\\n",
       "0                27161     BI     GRCh38       chr8       140585293   \n",
       "1                10499     BI     GRCh38       chr8        70124775   \n",
       "2                63976     BI     GRCh38       chr1         3412264   \n",
       "3               139378     BI     GRCh38       chrX       136323214   \n",
       "4                  867     BI     GRCh38      chr11       119274922   \n",
       "...                ...    ...        ...        ...             ...   \n",
       "244270            1655    BCM     GRCh38      chr17        64500565   \n",
       "244271            3792    BCM     GRCh38       chr7       142946252   \n",
       "244272            6389     BI     GRCh38       chr5          240386   \n",
       "244273            2909    BCM     GRCh38      chr19        46920741   \n",
       "244274             240  WUGSC     GRCh38      chr10        45382542   \n",
       "\n",
       "        End_Position  ...                callers  \\\n",
       "0          140585293  ...  muse;mutect2;varscan2   \n",
       "1           70124775  ...          muse;varscan2   \n",
       "2            3412264  ...  muse;mutect2;varscan2   \n",
       "3          136323214  ...           muse;mutect2   \n",
       "4          119274922  ...       mutect2;varscan2   \n",
       "...              ...  ...                    ...   \n",
       "244270      64500565  ...          muse;varscan2   \n",
       "244271     142946252  ...  muse;mutect2;varscan2   \n",
       "244272        240386  ...  muse;mutect2;varscan2   \n",
       "244273      46920741  ...  muse;mutect2;varscan2   \n",
       "244274      45382542  ...  muse;mutect2;varscan2   \n",
       "\n",
       "                                 file_gdc_id muse mutect2 pindel varscan2  \\\n",
       "0       3b23fc2d-23e1-4847-ac11-edc83bce1efa  Yes     Yes     No      Yes   \n",
       "1       99c228a0-02df-46f2-a095-68e72e53b159  Yes      No     No      Yes   \n",
       "2       a7280605-858e-4595-82db-e7508d9a8f57  Yes     Yes     No      Yes   \n",
       "3       192041a9-6ff6-4e10-94c8-12a31849a790  Yes     Yes     No       No   \n",
       "4       0e9ceaa9-c20f-45a1-a55e-7ef515c0b15d   No     Yes     No      Yes   \n",
       "...                                      ...  ...     ...    ...      ...   \n",
       "244270  18118987-2447-4e6a-9516-69be8f87d03f  Yes      No     No      Yes   \n",
       "244271  18118987-2447-4e6a-9516-69be8f87d03f  Yes     Yes     No      Yes   \n",
       "244272  130a54ce-e31d-456e-8681-5edb347f9761  Yes     Yes     No      Yes   \n",
       "244273  10a0ec35-8ffc-4e59-9d88-f39d5e388866  Yes     Yes     No      Yes   \n",
       "244274  562a8b9e-9f84-4b38-ac58-456580eb1ac2  Yes     Yes     No      Yes   \n",
       "\n",
       "       sample_barcode_tumor sample_barcode_normal  \\\n",
       "0          TCGA-04-1347-01A      TCGA-04-1347-11A   \n",
       "1          TCGA-06-5416-01A      TCGA-06-5416-10A   \n",
       "2          TCGA-06-5858-01A      TCGA-06-5858-10A   \n",
       "3          TCGA-16-0848-01A      TCGA-16-0848-10A   \n",
       "4          TCGA-17-Z017-01A      TCGA-17-Z017-11A   \n",
       "...                     ...                   ...   \n",
       "244270     TCGA-F5-6814-01A      TCGA-F5-6814-10A   \n",
       "244271     TCGA-F5-6814-01A      TCGA-F5-6814-10A   \n",
       "244272     TCGA-HU-A4GQ-01A      TCGA-HU-A4GQ-10A   \n",
       "244273     TCGA-OR-A5LJ-01A      TCGA-OR-A5LJ-10A   \n",
       "244274     TCGA-QS-A5YQ-01A      TCGA-QS-A5YQ-10A   \n",
       "\n",
       "               aliquot_barcode_tumor        aliquot_barcode_normal  \n",
       "0       TCGA-04-1347-01A-01W-0486-08  TCGA-04-1347-11A-01W-0487-08  \n",
       "1       TCGA-06-5416-01A-01D-1486-08  TCGA-06-5416-10A-01D-1486-08  \n",
       "2       TCGA-06-5858-01A-01D-1696-08  TCGA-06-5858-10A-01D-1696-08  \n",
       "3       TCGA-16-0848-01A-01W-0424-08  TCGA-16-0848-10A-01D-1492-08  \n",
       "4       TCGA-17-Z017-01A-01W-0746-08  TCGA-17-Z017-11A-01W-0746-08  \n",
       "...                              ...                           ...  \n",
       "244270  TCGA-F5-6814-01A-31D-1924-10  TCGA-F5-6814-10A-01D-1924-10  \n",
       "244271  TCGA-F5-6814-01A-31D-1924-10  TCGA-F5-6814-10A-01D-1924-10  \n",
       "244272  TCGA-HU-A4GQ-01A-11D-A25D-08  TCGA-HU-A4GQ-10A-01D-A25E-08  \n",
       "244273  TCGA-OR-A5LJ-01A-11D-A29I-10  TCGA-OR-A5LJ-10A-01D-A29L-10  \n",
       "244274  TCGA-QS-A5YQ-01A-11D-A31U-09  TCGA-QS-A5YQ-10A-01D-A31U-09  \n",
       "\n",
       "[244275 rows x 152 columns]"
      ]
     },
     "execution_count": 4,
     "metadata": {},
     "output_type": "execute_result"
    }
   ],
   "source": [
    "df"
   ]
  },
  {
   "cell_type": "markdown",
   "id": "ee97e012",
   "metadata": {
    "papermill": {
     "duration": 0.00603,
     "end_time": "2025-06-26T10:19:10.800264",
     "exception": false,
     "start_time": "2025-06-26T10:19:10.794234",
     "status": "completed"
    },
    "tags": []
   },
   "source": [
    "## Odczyt z formatu parquet i integracja danych w pandas dataframe"
   ]
  },
  {
   "cell_type": "code",
   "execution_count": 5,
   "id": "4ec2d363",
   "metadata": {
    "_cell_guid": "b1076dfc-b9ad-4769-8c92-a6c4dae69d19",
    "_uuid": "8f2839f25d086af736a60e9eeb907d3b93b6e0e5",
    "execution": {
     "iopub.execute_input": "2025-06-26T10:19:10.814366Z",
     "iopub.status.busy": "2025-06-26T10:19:10.814055Z",
     "iopub.status.idle": "2025-06-26T10:19:11.563875Z",
     "shell.execute_reply": "2025-06-26T10:19:11.562827Z"
    },
    "papermill": {
     "duration": 0.758972,
     "end_time": "2025-06-26T10:19:11.565604",
     "exception": false,
     "start_time": "2025-06-26T10:19:10.806632",
     "status": "completed"
    },
    "tags": []
   },
   "outputs": [],
   "source": [
    "import pandas as pd\n",
    "import re\n",
    "\n",
    "df = pd.read_parquet('/kaggle/input/oncokb-cancer-gene-list/mutations_3.parquet')\n",
    "df.head()\n",
    "df = df[(df['Variant_Type'] == 'SNP') | (df['Variant_Type'] == 'DEL') | (df['Variant_Type'] == 'INS')]\n",
    "df['Hugo_Symbol'] = df['Hugo_Symbol'].fillna(value='')\n"
   ]
  },
  {
   "cell_type": "markdown",
   "id": "28d1472b",
   "metadata": {
    "papermill": {
     "duration": 0.006082,
     "end_time": "2025-06-26T10:19:11.578440",
     "exception": false,
     "start_time": "2025-06-26T10:19:11.572358",
     "status": "completed"
    },
    "tags": []
   },
   "source": [
    "3. Format Parquet  \n",
    "• Zapisz oczyszczone dane mutacji w formacie Parquet.  \n",
    "• Pobierz profil ekspresji RNA (TCGA RNA-seq), usuń duplikaty i zapisz w\n",
    "Parquet.  \n",
    "5. Charakterystyka etykiet  \n",
    "• Zbiór etykiet primary site jest niezbalansowany – różne klasy maja różna\n",
    "liczebność. Zbadaj jaką liczebność mają różne klasy, np. tabelka liczności primary site."
   ]
  },
  {
   "cell_type": "markdown",
   "id": "91b087c9",
   "metadata": {
    "papermill": {
     "duration": 0.006131,
     "end_time": "2025-06-26T10:19:11.590898",
     "exception": false,
     "start_time": "2025-06-26T10:19:11.584767",
     "status": "completed"
    },
    "tags": []
   },
   "source": [
    "## 2. Inżynieria cech"
   ]
  },
  {
   "cell_type": "code",
   "execution_count": 6,
   "id": "e06f2d82",
   "metadata": {
    "execution": {
     "iopub.execute_input": "2025-06-26T10:19:11.605539Z",
     "iopub.status.busy": "2025-06-26T10:19:11.604598Z",
     "iopub.status.idle": "2025-06-26T10:19:20.086279Z",
     "shell.execute_reply": "2025-06-26T10:19:20.085214Z"
    },
    "papermill": {
     "duration": 8.490493,
     "end_time": "2025-06-26T10:19:20.087917",
     "exception": false,
     "start_time": "2025-06-26T10:19:11.597424",
     "status": "completed"
    },
    "tags": []
   },
   "outputs": [
    {
     "name": "stdout",
     "output_type": "stream",
     "text": [
      "Collecting biopython\r\n",
      "  Downloading biopython-1.85-cp311-cp311-manylinux_2_17_x86_64.manylinux2014_x86_64.whl.metadata (13 kB)\r\n",
      "Collecting pyranges\r\n",
      "  Downloading pyranges-0.1.4-py3-none-any.whl.metadata (3.7 kB)\r\n",
      "Requirement already satisfied: numpy in /usr/local/lib/python3.11/dist-packages (from biopython) (1.26.4)\r\n",
      "Requirement already satisfied: pandas in /usr/local/lib/python3.11/dist-packages (from pyranges) (2.2.3)\r\n",
      "Collecting ncls>=0.0.63 (from pyranges)\r\n",
      "  Downloading ncls-0.0.68-cp311-cp311-manylinux_2_17_x86_64.manylinux2014_x86_64.whl.metadata (4.6 kB)\r\n",
      "Requirement already satisfied: tabulate in /usr/local/lib/python3.11/dist-packages (from pyranges) (0.9.0)\r\n",
      "Collecting sorted_nearest>=0.0.33 (from pyranges)\r\n",
      "  Downloading sorted_nearest-0.0.39-cp311-cp311-manylinux_2_17_x86_64.manylinux2014_x86_64.whl.metadata (964 bytes)\r\n",
      "Requirement already satisfied: natsort in /usr/local/lib/python3.11/dist-packages (from pyranges) (8.4.0)\r\n",
      "Requirement already satisfied: mkl_fft in /usr/local/lib/python3.11/dist-packages (from numpy->biopython) (1.3.8)\r\n",
      "Requirement already satisfied: mkl_random in /usr/local/lib/python3.11/dist-packages (from numpy->biopython) (1.2.4)\r\n",
      "Requirement already satisfied: mkl_umath in /usr/local/lib/python3.11/dist-packages (from numpy->biopython) (0.1.1)\r\n",
      "Requirement already satisfied: mkl in /usr/local/lib/python3.11/dist-packages (from numpy->biopython) (2025.1.0)\r\n",
      "Requirement already satisfied: tbb4py in /usr/local/lib/python3.11/dist-packages (from numpy->biopython) (2022.1.0)\r\n",
      "Requirement already satisfied: mkl-service in /usr/local/lib/python3.11/dist-packages (from numpy->biopython) (2.4.1)\r\n",
      "Requirement already satisfied: python-dateutil>=2.8.2 in /usr/local/lib/python3.11/dist-packages (from pandas->pyranges) (2.9.0.post0)\r\n",
      "Requirement already satisfied: pytz>=2020.1 in /usr/local/lib/python3.11/dist-packages (from pandas->pyranges) (2025.2)\r\n",
      "Requirement already satisfied: tzdata>=2022.7 in /usr/local/lib/python3.11/dist-packages (from pandas->pyranges) (2025.2)\r\n",
      "Requirement already satisfied: six>=1.5 in /usr/local/lib/python3.11/dist-packages (from python-dateutil>=2.8.2->pandas->pyranges) (1.17.0)\r\n",
      "Requirement already satisfied: intel-openmp<2026,>=2024 in /usr/local/lib/python3.11/dist-packages (from mkl->numpy->biopython) (2024.2.0)\r\n",
      "Requirement already satisfied: tbb==2022.* in /usr/local/lib/python3.11/dist-packages (from mkl->numpy->biopython) (2022.1.0)\r\n",
      "Requirement already satisfied: tcmlib==1.* in /usr/local/lib/python3.11/dist-packages (from tbb==2022.*->mkl->numpy->biopython) (1.3.0)\r\n",
      "Requirement already satisfied: intel-cmplr-lib-rt in /usr/local/lib/python3.11/dist-packages (from mkl_umath->numpy->biopython) (2024.2.0)\r\n",
      "Requirement already satisfied: intel-cmplr-lib-ur==2024.2.0 in /usr/local/lib/python3.11/dist-packages (from intel-openmp<2026,>=2024->mkl->numpy->biopython) (2024.2.0)\r\n",
      "Downloading biopython-1.85-cp311-cp311-manylinux_2_17_x86_64.manylinux2014_x86_64.whl (3.3 MB)\r\n",
      "\u001b[2K   \u001b[90m━━━━━━━━━━━━━━━━━━━━━━━━━━━━━━━━━━━━━━━━\u001b[0m \u001b[32m3.3/3.3 MB\u001b[0m \u001b[31m33.5 MB/s\u001b[0m eta \u001b[36m0:00:00\u001b[0m\r\n",
      "\u001b[?25hDownloading pyranges-0.1.4-py3-none-any.whl (1.5 MB)\r\n",
      "\u001b[2K   \u001b[90m━━━━━━━━━━━━━━━━━━━━━━━━━━━━━━━━━━━━━━━━\u001b[0m \u001b[32m1.5/1.5 MB\u001b[0m \u001b[31m41.6 MB/s\u001b[0m eta \u001b[36m0:00:00\u001b[0m\r\n",
      "\u001b[?25hDownloading ncls-0.0.68-cp311-cp311-manylinux_2_17_x86_64.manylinux2014_x86_64.whl (2.5 MB)\r\n",
      "\u001b[2K   \u001b[90m━━━━━━━━━━━━━━━━━━━━━━━━━━━━━━━━━━━━━━━━\u001b[0m \u001b[32m2.5/2.5 MB\u001b[0m \u001b[31m50.2 MB/s\u001b[0m eta \u001b[36m0:00:00\u001b[0m\r\n",
      "\u001b[?25hDownloading sorted_nearest-0.0.39-cp311-cp311-manylinux_2_17_x86_64.manylinux2014_x86_64.whl (6.2 MB)\r\n",
      "\u001b[2K   \u001b[90m━━━━━━━━━━━━━━━━━━━━━━━━━━━━━━━━━━━━━━━━\u001b[0m \u001b[32m6.2/6.2 MB\u001b[0m \u001b[31m79.3 MB/s\u001b[0m eta \u001b[36m0:00:00\u001b[0m\r\n",
      "\u001b[?25hInstalling collected packages: sorted_nearest, ncls, pyranges, biopython\r\n",
      "Successfully installed biopython-1.85 ncls-0.0.68 pyranges-0.1.4 sorted_nearest-0.0.39\r\n"
     ]
    }
   ],
   "source": [
    "!pip install biopython pyranges"
   ]
  },
  {
   "cell_type": "code",
   "execution_count": 7,
   "id": "a9c1ae03",
   "metadata": {
    "execution": {
     "iopub.execute_input": "2025-06-26T10:19:20.104594Z",
     "iopub.status.busy": "2025-06-26T10:19:20.104202Z",
     "iopub.status.idle": "2025-06-26T10:19:20.369853Z",
     "shell.execute_reply": "2025-06-26T10:19:20.368745Z"
    },
    "papermill": {
     "duration": 0.276172,
     "end_time": "2025-06-26T10:19:20.371688",
     "exception": false,
     "start_time": "2025-06-26T10:19:20.095516",
     "status": "completed"
    },
    "tags": []
   },
   "outputs": [],
   "source": [
    "import re \n",
    "df = df.rename(columns={'Start_position': 'Start'})\n",
    "df = df.rename(columns={'End_position': 'End'})"
   ]
  },
  {
   "cell_type": "code",
   "execution_count": 8,
   "id": "03d3a17f",
   "metadata": {
    "execution": {
     "iopub.execute_input": "2025-06-26T10:19:20.388171Z",
     "iopub.status.busy": "2025-06-26T10:19:20.387833Z",
     "iopub.status.idle": "2025-06-26T10:20:14.219321Z",
     "shell.execute_reply": "2025-06-26T10:20:14.214664Z"
    },
    "papermill": {
     "duration": 53.846724,
     "end_time": "2025-06-26T10:20:14.226289",
     "exception": false,
     "start_time": "2025-06-26T10:19:20.379565",
     "status": "completed"
    },
    "tags": []
   },
   "outputs": [
    {
     "name": "stdout",
     "output_type": "stream",
     "text": [
      "--2025-06-26 10:19:20--  http://hgdownload.soe.ucsc.edu/goldenPath/hg38/bigZips/hg38.fa.gz\r\n",
      "Resolving hgdownload.soe.ucsc.edu (hgdownload.soe.ucsc.edu)... 128.114.119.163\r\n",
      "Connecting to hgdownload.soe.ucsc.edu (hgdownload.soe.ucsc.edu)|128.114.119.163|:80... connected.\r\n",
      "HTTP request sent, awaiting response... 200 OK\r\n",
      "Length: 983659424 (938M) [application/x-gzip]\r\n",
      "Saving to: ‘hg38.fa.gz’\r\n",
      "\r\n",
      "hg38.fa.gz          100%[===================>] 938.09M  62.9MB/s    in 16s     \r\n",
      "\r\n",
      "2025-06-26 10:19:36 (59.9 MB/s) - ‘hg38.fa.gz’ saved [983659424/983659424]\r\n",
      "\r\n"
     ]
    }
   ],
   "source": [
    "!wget http://hgdownload.soe.ucsc.edu/goldenPath/hg38/bigZips/hg38.fa.gz\n",
    "!gunzip hg38.fa.gz"
   ]
  },
  {
   "cell_type": "code",
   "execution_count": 9,
   "id": "cb3461e9",
   "metadata": {
    "execution": {
     "iopub.execute_input": "2025-06-26T10:20:14.268356Z",
     "iopub.status.busy": "2025-06-26T10:20:14.267531Z",
     "iopub.status.idle": "2025-06-26T10:21:02.620471Z",
     "shell.execute_reply": "2025-06-26T10:21:02.619037Z"
    },
    "papermill": {
     "duration": 48.374063,
     "end_time": "2025-06-26T10:21:02.622691",
     "exception": false,
     "start_time": "2025-06-26T10:20:14.248628",
     "status": "completed"
    },
    "tags": []
   },
   "outputs": [],
   "source": [
    "import pyranges as pr\n",
    "import pandas as pd\n",
    "from Bio import SeqIO\n",
    "\n",
    "gr = pr.PyRanges(df)\n",
    "fasta_sequences = SeqIO.to_dict(SeqIO.parse(\"/kaggle/working/hg38.fa\", \"fasta\"))"
   ]
  },
  {
   "cell_type": "markdown",
   "id": "ac7cca9a",
   "metadata": {
    "papermill": {
     "duration": 0.01112,
     "end_time": "2025-06-26T10:21:02.645892",
     "exception": false,
     "start_time": "2025-06-26T10:21:02.634772",
     "status": "completed"
    },
    "tags": []
   },
   "source": [
    "## Ekstrakcja motywów mutacyjnych:"
   ]
  },
  {
   "cell_type": "code",
   "execution_count": 10,
   "id": "5128381b",
   "metadata": {
    "execution": {
     "iopub.execute_input": "2025-06-26T10:21:02.670024Z",
     "iopub.status.busy": "2025-06-26T10:21:02.669653Z",
     "iopub.status.idle": "2025-06-26T10:21:02.678657Z",
     "shell.execute_reply": "2025-06-26T10:21:02.677737Z"
    },
    "papermill": {
     "duration": 0.023119,
     "end_time": "2025-06-26T10:21:02.680140",
     "exception": false,
     "start_time": "2025-06-26T10:21:02.657021",
     "status": "completed"
    },
    "tags": []
   },
   "outputs": [],
   "source": [
    "def get_cosmic_notation(row, fasta_dict):\n",
    "    chrom = row.Chromosome  # upewniamy się, że chromosom nie ma prefiksu \"chr\"\n",
    "    start = int(row.Start)\n",
    "    end = int(row.End)\n",
    "    alt = str(row.Tumor_Seq_Allele2) if pd.notnull(row.Tumor_Seq_Allele2) else None\n",
    "    variant_type = row.Variant_Type\n",
    "    cosmic_notation = None\n",
    "\n",
    "    try:\n",
    "        seq = fasta_dict[chrom].seq\n",
    "        context_seq = seq[start-2:end+1].upper()  # np. G[C>T]A -> 1 baza przed i po\n",
    "        ref_base = seq[start-1:end].upper()  \n",
    "\n",
    "        # COSMIC-style notacja\n",
    "        if variant_type == 'SNP':\n",
    "            # np. G[C>T]A\n",
    "            cosmic_notation = f\"{context_seq[0]}[{ref_base}>{alt}]{context_seq[-1]}\"\n",
    "\n",
    "        elif variant_type == 'DEL':\n",
    "            if end > start:\n",
    "                deleted_seq = seq[start-1:end].upper()\n",
    "            else:\n",
    "                deleted_seq = ref_base\n",
    "            cosmic_notation = f\"{context_seq[0]}[del{len(deleted_seq)}]{context_seq[-1]}\"\n",
    "\n",
    "        elif variant_type == 'INS':\n",
    "            inserted_seq = alt\n",
    "            cosmic_notation = f\"{context_seq[0]}[ins{len(inserted_seq)}]{context_seq[-1]}\"\n",
    "\n",
    "        else:\n",
    "            cosmic_notation = f\"UnknownVariantType:{variant_type}\"\n",
    "\n",
    "    except Exception as e:\n",
    "        cosmic_notation = f\"ERROR: {e}\"\n",
    "\n",
    "    return cosmic_notation\n"
   ]
  },
  {
   "cell_type": "code",
   "execution_count": 11,
   "id": "c76f2e5c",
   "metadata": {
    "execution": {
     "iopub.execute_input": "2025-06-26T10:21:02.703960Z",
     "iopub.status.busy": "2025-06-26T10:21:02.703610Z",
     "iopub.status.idle": "2025-06-26T10:21:16.426565Z",
     "shell.execute_reply": "2025-06-26T10:21:16.425510Z"
    },
    "papermill": {
     "duration": 13.736981,
     "end_time": "2025-06-26T10:21:16.428438",
     "exception": false,
     "start_time": "2025-06-26T10:21:02.691457",
     "status": "completed"
    },
    "tags": []
   },
   "outputs": [],
   "source": [
    "df['Mutational_Motif'] = df.apply(lambda row: get_cosmic_notation(row, fasta_sequences), axis=1)"
   ]
  },
  {
   "cell_type": "markdown",
   "id": "60a0f197",
   "metadata": {
    "papermill": {
     "duration": 0.010495,
     "end_time": "2025-06-26T10:21:16.450057",
     "exception": false,
     "start_time": "2025-06-26T10:21:16.439562",
     "status": "completed"
    },
    "tags": []
   },
   "source": [
    "## Genomiczne binowanie:"
   ]
  },
  {
   "cell_type": "code",
   "execution_count": 12,
   "id": "9fb4b99c",
   "metadata": {
    "execution": {
     "iopub.execute_input": "2025-06-26T10:21:16.474439Z",
     "iopub.status.busy": "2025-06-26T10:21:16.473566Z",
     "iopub.status.idle": "2025-06-26T10:21:16.679266Z",
     "shell.execute_reply": "2025-06-26T10:21:16.678220Z"
    },
    "papermill": {
     "duration": 0.219515,
     "end_time": "2025-06-26T10:21:16.681139",
     "exception": false,
     "start_time": "2025-06-26T10:21:16.461624",
     "status": "completed"
    },
    "tags": []
   },
   "outputs": [],
   "source": [
    "df['Genomic_Bin'] = df['Chromosome'].astype(str) + '_' + (\n",
    "    ((df['Start'] - 1) // 1_000_000) * 1_000_000\n",
    ").astype(str)"
   ]
  },
  {
   "cell_type": "markdown",
   "id": "1d0182dc",
   "metadata": {
    "papermill": {
     "duration": 0.010571,
     "end_time": "2025-06-26T10:21:16.703505",
     "exception": false,
     "start_time": "2025-06-26T10:21:16.692934",
     "status": "completed"
    },
    "tags": []
   },
   "source": [
    "## Normalizacja mutacji do pitymidyn, komplementacja:"
   ]
  },
  {
   "cell_type": "code",
   "execution_count": 13,
   "id": "eb19b4c1",
   "metadata": {
    "execution": {
     "iopub.execute_input": "2025-06-26T10:21:16.849054Z",
     "iopub.status.busy": "2025-06-26T10:21:16.848070Z",
     "iopub.status.idle": "2025-06-26T10:21:16.854475Z",
     "shell.execute_reply": "2025-06-26T10:21:16.853662Z"
    },
    "papermill": {
     "duration": 0.020323,
     "end_time": "2025-06-26T10:21:16.856374",
     "exception": false,
     "start_time": "2025-06-26T10:21:16.836051",
     "status": "completed"
    },
    "tags": []
   },
   "outputs": [],
   "source": [
    "complement = {'A': 'T', 'T': 'A', 'C': 'G', 'G': 'C'}\n",
    "\n",
    "def normalize_mutation(mutation):\n",
    "    match = re.match(r\"([ATGC])\\[([ATGC]>[ATGC])\\]([ATGC])\", mutation)\n",
    "    if match:\n",
    "        ref, change, alt = match.groups()\n",
    "        ref_from, ref_to = change.split('>')\n",
    "\n",
    "        if ref_from not in ['C', 'T']:\n",
    "            ref_from = complement[ref_from]\n",
    "            ref_to = complement[ref_to]\n",
    "            ref = complement[alt]\n",
    "            alt = complement[ref]\n",
    "\n",
    "        return f\"{ref}[{ref_from}>{ref_to}]{alt}\"\n",
    "\n",
    "    return mutation"
   ]
  },
  {
   "cell_type": "code",
   "execution_count": 14,
   "id": "01794c55",
   "metadata": {
    "execution": {
     "iopub.execute_input": "2025-06-26T10:21:16.881524Z",
     "iopub.status.busy": "2025-06-26T10:21:16.881190Z",
     "iopub.status.idle": "2025-06-26T10:21:39.469900Z",
     "shell.execute_reply": "2025-06-26T10:21:39.468700Z"
    },
    "papermill": {
     "duration": 22.603113,
     "end_time": "2025-06-26T10:21:39.471695",
     "exception": false,
     "start_time": "2025-06-26T10:21:16.868582",
     "status": "completed"
    },
    "tags": []
   },
   "outputs": [
    {
     "name": "stderr",
     "output_type": "stream",
     "text": [
      "2025-06-26 10:21:18.955590: E external/local_xla/xla/stream_executor/cuda/cuda_fft.cc:477] Unable to register cuFFT factory: Attempting to register factory for plugin cuFFT when one has already been registered\n",
      "WARNING: All log messages before absl::InitializeLog() is called are written to STDERR\n",
      "E0000 00:00:1750933279.225554      13 cuda_dnn.cc:8310] Unable to register cuDNN factory: Attempting to register factory for plugin cuDNN when one has already been registered\n",
      "E0000 00:00:1750933279.303104      13 cuda_blas.cc:1418] Unable to register cuBLAS factory: Attempting to register factory for plugin cuBLAS when one has already been registered\n",
      "/tmp/ipykernel_13/1731204343.py:11: SettingWithCopyWarning: \n",
      "A value is trying to be set on a copy of a slice from a DataFrame.\n",
      "Try using .loc[row_indexer,col_indexer] = value instead\n",
      "\n",
      "See the caveats in the documentation: https://pandas.pydata.org/pandas-docs/stable/user_guide/indexing.html#returning-a-view-versus-a-copy\n",
      "  filtered_df['primary_site_cat'] = filtered_df['primary_site'].astype('category').cat.codes\n"
     ]
    }
   ],
   "source": [
    "from tensorflow.keras.preprocessing.text import Tokenizer\n",
    "\n",
    "mutations = ['A[A>C]A', 'G[G>A]T', 'C[C>T]G', 'T[T>G]T']\n",
    "\n",
    "df['MutationType'] = df['Mutational_Motif'].apply(normalize_mutation)\n",
    "\n",
    "top_sites = df['primary_site'].value_counts().nlargest(24).index\n",
    "\n",
    "filtered_df = df[df['primary_site'].isin(top_sites)]\n",
    "\n",
    "filtered_df['primary_site_cat'] = filtered_df['primary_site'].astype('category').cat.codes\n",
    "\n",
    "\n",
    "grouped_mutations_df = filtered_df.groupby('case_barcode').agg({\n",
    "    'Mutational_Motif': list,\n",
    "    'Genomic_Bin': list,\n",
    "    'Hugo_Symbol': list,\n",
    "    'primary_site': 'first',\n",
    "    'primary_site_cat': 'first',\n",
    "}).reset_index()\n",
    "\n"
   ]
  },
  {
   "cell_type": "markdown",
   "id": "6d27f90b",
   "metadata": {
    "papermill": {
     "duration": 0.011381,
     "end_time": "2025-06-26T10:21:39.494995",
     "exception": false,
     "start_time": "2025-06-26T10:21:39.483614",
     "status": "completed"
    },
    "tags": []
   },
   "source": [
    "### Usunięcie duplikatów ekspresji:"
   ]
  },
  {
   "cell_type": "code",
   "execution_count": 15,
   "id": "fddbfb08",
   "metadata": {
    "execution": {
     "iopub.execute_input": "2025-06-26T10:21:39.519102Z",
     "iopub.status.busy": "2025-06-26T10:21:39.518424Z",
     "iopub.status.idle": "2025-06-26T10:21:55.915306Z",
     "shell.execute_reply": "2025-06-26T10:21:55.914216Z"
    },
    "papermill": {
     "duration": 16.411452,
     "end_time": "2025-06-26T10:21:55.917502",
     "exception": false,
     "start_time": "2025-06-26T10:21:39.506050",
     "status": "completed"
    },
    "tags": []
   },
   "outputs": [],
   "source": [
    "df_expressions = pd.read_parquet('/kaggle/input/oncokb-cancer-gene-list/expression_2.parquet')\n",
    "\n",
    "df_expressions = df_expressions.drop_duplicates(subset=['gene_name', 'case_barcode'])"
   ]
  },
  {
   "cell_type": "code",
   "execution_count": 16,
   "id": "f3d8d1c5",
   "metadata": {
    "execution": {
     "iopub.execute_input": "2025-06-26T10:21:55.941248Z",
     "iopub.status.busy": "2025-06-26T10:21:55.940916Z",
     "iopub.status.idle": "2025-06-26T10:22:10.715485Z",
     "shell.execute_reply": "2025-06-26T10:22:10.714298Z"
    },
    "papermill": {
     "duration": 14.788354,
     "end_time": "2025-06-26T10:22:10.717219",
     "exception": false,
     "start_time": "2025-06-26T10:21:55.928865",
     "status": "completed"
    },
    "tags": []
   },
   "outputs": [],
   "source": [
    "grouped_expression_df = df_expressions.groupby('case_barcode').agg({\n",
    "    'gene_name': list,\n",
    "    'tpm_unstranded': list,\n",
    "}).reset_index()\n",
    "\n",
    "\n",
    "grouped_df = pd.merge(grouped_mutations_df, grouped_expression_df, on=\"case_barcode\", suffixes=('_mutation', '_expression'))\n",
    "\n",
    "\n",
    "tokenizer_bin = Tokenizer(filters='', lower=False, split=' ', oov_token=\"<OOV>\")\n",
    "tokenizer_bin.fit_on_texts(df['Genomic_Bin'].astype(str).to_list())\n",
    "\n",
    "tokenizer_gene = Tokenizer(filters='', lower=False, split=' ', oov_token=\"<OOV>\")\n",
    "tokenizer_gene.fit_on_texts(df['Hugo_Symbol'].astype(str).to_list())\n"
   ]
  },
  {
   "cell_type": "markdown",
   "id": "5f50a28d",
   "metadata": {
    "papermill": {
     "duration": 0.011454,
     "end_time": "2025-06-26T10:22:10.740315",
     "exception": false,
     "start_time": "2025-06-26T10:22:10.728861",
     "status": "completed"
    },
    "tags": []
   },
   "source": [
    "### Tokenizacja genów, motywów i binów:"
   ]
  },
  {
   "cell_type": "code",
   "execution_count": 17,
   "id": "723019f9",
   "metadata": {
    "execution": {
     "iopub.execute_input": "2025-06-26T10:22:10.766560Z",
     "iopub.status.busy": "2025-06-26T10:22:10.766222Z",
     "iopub.status.idle": "2025-06-26T10:22:10.773217Z",
     "shell.execute_reply": "2025-06-26T10:22:10.772006Z"
    },
    "papermill": {
     "duration": 0.022601,
     "end_time": "2025-06-26T10:22:10.775388",
     "exception": false,
     "start_time": "2025-06-26T10:22:10.752787",
     "status": "completed"
    },
    "tags": []
   },
   "outputs": [],
   "source": [
    "import numpy as np\n",
    "import tensorflow as tf\n",
    "\n",
    "def to_matrix(tokenizer, texts):\n",
    "    sequences = tokenizer.texts_to_sequences(texts)\n",
    "    count_vectors = np.zeros((len(texts), len(tokenizer.word_index) + 1))\n",
    "\n",
    "    for i, seq in enumerate(sequences):\n",
    "        for token in seq:\n",
    "            count_vectors[i, token] += 1\n",
    "\n",
    "    return count_vectors"
   ]
  },
  {
   "cell_type": "code",
   "execution_count": 18,
   "id": "82bba41c",
   "metadata": {
    "execution": {
     "iopub.execute_input": "2025-06-26T10:22:10.801028Z",
     "iopub.status.busy": "2025-06-26T10:22:10.800650Z",
     "iopub.status.idle": "2025-06-26T10:22:10.807797Z",
     "shell.execute_reply": "2025-06-26T10:22:10.806406Z"
    },
    "papermill": {
     "duration": 0.022045,
     "end_time": "2025-06-26T10:22:10.809819",
     "exception": false,
     "start_time": "2025-06-26T10:22:10.787774",
     "status": "completed"
    },
    "tags": []
   },
   "outputs": [],
   "source": [
    "def prepare_data_for(df, tokenizer_bin, tokenizer_gene):\n",
    "    X_bin = to_matrix(tokenizer_bin, df['Genomic_Bin'])\n",
    "    X_gene = to_matrix(tokenizer_gene, df['Hugo_Symbol'])\n",
    "    X_rna = np.array(df['tpm_unstranded'].to_list())\n",
    "\n",
    "    return X_bin, X_gene, X_rna"
   ]
  },
  {
   "cell_type": "markdown",
   "id": "3e6a84fe",
   "metadata": {
    "papermill": {
     "duration": 0.012495,
     "end_time": "2025-06-26T10:22:10.834538",
     "exception": false,
     "start_time": "2025-06-26T10:22:10.822043",
     "status": "completed"
    },
    "tags": []
   },
   "source": [
    "2. Ekspresja RNA  \n",
    "• Normaliacja poprzez logarytmowanie (log1p)."
   ]
  },
  {
   "cell_type": "code",
   "execution_count": 19,
   "id": "918d4c1e",
   "metadata": {
    "execution": {
     "iopub.execute_input": "2025-06-26T10:22:10.860559Z",
     "iopub.status.busy": "2025-06-26T10:22:10.859150Z",
     "iopub.status.idle": "2025-06-26T10:22:12.569406Z",
     "shell.execute_reply": "2025-06-26T10:22:12.568267Z"
    },
    "papermill": {
     "duration": 1.724814,
     "end_time": "2025-06-26T10:22:12.571432",
     "exception": false,
     "start_time": "2025-06-26T10:22:10.846618",
     "status": "completed"
    },
    "tags": []
   },
   "outputs": [],
   "source": [
    "X_genomic_bin, X_gene, X_rna = prepare_data_for(grouped_df, tokenizer_bin, tokenizer_gene)\n"
   ]
  },
  {
   "cell_type": "markdown",
   "id": "8408f06c",
   "metadata": {
    "papermill": {
     "duration": 0.010648,
     "end_time": "2025-06-26T10:22:12.593177",
     "exception": false,
     "start_time": "2025-06-26T10:22:12.582529",
     "status": "completed"
    },
    "tags": []
   },
   "source": [
    "### Konkatenacja wektorów:  \n",
    "Potrzebny jeszcze wektor motywów"
   ]
  },
  {
   "cell_type": "code",
   "execution_count": 20,
   "id": "5468bbff",
   "metadata": {
    "execution": {
     "iopub.execute_input": "2025-06-26T10:22:12.616369Z",
     "iopub.status.busy": "2025-06-26T10:22:12.616034Z",
     "iopub.status.idle": "2025-06-26T10:22:12.763327Z",
     "shell.execute_reply": "2025-06-26T10:22:12.762432Z"
    },
    "papermill": {
     "duration": 0.161087,
     "end_time": "2025-06-26T10:22:12.765246",
     "exception": false,
     "start_time": "2025-06-26T10:22:12.604159",
     "status": "completed"
    },
    "tags": []
   },
   "outputs": [],
   "source": [
    "X = np.concatenate([X_genomic_bin, X_gene, X_rna], axis=1)\n"
   ]
  },
  {
   "cell_type": "code",
   "execution_count": 21,
   "id": "b2d68589",
   "metadata": {
    "execution": {
     "iopub.execute_input": "2025-06-26T10:22:12.790931Z",
     "iopub.status.busy": "2025-06-26T10:22:12.789645Z",
     "iopub.status.idle": "2025-06-26T10:22:12.796637Z",
     "shell.execute_reply": "2025-06-26T10:22:12.795729Z"
    },
    "papermill": {
     "duration": 0.021034,
     "end_time": "2025-06-26T10:22:12.798257",
     "exception": false,
     "start_time": "2025-06-26T10:22:12.777223",
     "status": "completed"
    },
    "tags": []
   },
   "outputs": [
    {
     "data": {
      "text/plain": [
       "(13162, 3243)"
      ]
     },
     "execution_count": 21,
     "metadata": {},
     "output_type": "execute_result"
    }
   ],
   "source": [
    "X.shape"
   ]
  },
  {
   "cell_type": "markdown",
   "id": "66ed6024",
   "metadata": {
    "papermill": {
     "duration": 0.011466,
     "end_time": "2025-06-26T10:22:12.820935",
     "exception": false,
     "start_time": "2025-06-26T10:22:12.809469",
     "status": "completed"
    },
    "tags": []
   },
   "source": [
    "• Przygotuj etykiety: y primary site."
   ]
  },
  {
   "cell_type": "code",
   "execution_count": null,
   "id": "a996aa29",
   "metadata": {
    "papermill": {
     "duration": 0.010967,
     "end_time": "2025-06-26T10:22:12.843330",
     "exception": false,
     "start_time": "2025-06-26T10:22:12.832363",
     "status": "completed"
    },
    "tags": []
   },
   "outputs": [],
   "source": []
  },
  {
   "cell_type": "markdown",
   "id": "fc728348",
   "metadata": {
    "papermill": {
     "duration": 0.010976,
     "end_time": "2025-06-26T10:22:12.865630",
     "exception": false,
     "start_time": "2025-06-26T10:22:12.854654",
     "status": "completed"
    },
    "tags": []
   },
   "source": [
    "## 3. Budowa i trening modelu  \n",
    "### 1. Architektura  \n",
    "• Wejścia dla każdej grupy cech (warstwy Dense).  \n",
    "• Laczenie (Concatenate) oraz warstwy ukryte.  \n",
    "• Wyjście: softmax nad klasami lokalizacji pierwotnej.  \n",
    "### 2. Trening  \n",
    "• Podzial na zbiór treningowy/testowy 80/20.  \n",
    "• Optymalizator: Adam, strata: categorical crossentropy.  \n",
    "• Monitorowanie loss i accuracy.  \n",
    "• Uwzglednienie niezbalansowanych etykiet.  \n",
    "## 4. Ocena overfittingu  \n",
    "### 1. Wizualizacja uczenia  \n",
    "• Krzywe loss/accuracy dla zbioru treningowego i walidacyjnego.  \n",
    "### 2. Metryki  \n",
    "• Accuracy, precision, recall, F1 na zbiorze walidacyjnym.  \n",
    "### 3. Identyfikacja overfittingu  \n",
    "• Nierozbieżność miedzy strata/train a strata/val.  \n",
    "• Spadek lub stagnacja accuracy/val przy rosnacym accuracy/train."
   ]
  },
  {
   "cell_type": "code",
   "execution_count": null,
   "id": "81e219a2",
   "metadata": {
    "papermill": {
     "duration": 0.011398,
     "end_time": "2025-06-26T10:22:12.888198",
     "exception": false,
     "start_time": "2025-06-26T10:22:12.876800",
     "status": "completed"
    },
    "tags": []
   },
   "outputs": [],
   "source": []
  }
 ],
 "metadata": {
  "kaggle": {
   "accelerator": "none",
   "dataSources": [
    {
     "datasetId": 7030230,
     "sourceId": 11458791,
     "sourceType": "datasetVersion"
    }
   ],
   "dockerImageVersionId": 31040,
   "isGpuEnabled": false,
   "isInternetEnabled": true,
   "language": "python",
   "sourceType": "notebook"
  },
  "kernelspec": {
   "display_name": "Python 3",
   "language": "python",
   "name": "python3"
  },
  "language_info": {
   "codemirror_mode": {
    "name": "ipython",
    "version": 3
   },
   "file_extension": ".py",
   "mimetype": "text/x-python",
   "name": "python",
   "nbconvert_exporter": "python",
   "pygments_lexer": "ipython3",
   "version": "3.11.11"
  },
  "papermill": {
   "default_parameters": {},
   "duration": 665.250344,
   "end_time": "2025-06-26T10:22:15.921582",
   "environment_variables": {},
   "exception": null,
   "input_path": "__notebook__.ipynb",
   "output_path": "__notebook__.ipynb",
   "parameters": {},
   "start_time": "2025-06-26T10:11:10.671238",
   "version": "2.6.0"
  }
 },
 "nbformat": 4,
 "nbformat_minor": 5
}
