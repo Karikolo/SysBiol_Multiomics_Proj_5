{
 "cells": [
  {
   "cell_type": "markdown",
   "id": "b44b68a7",
   "metadata": {
    "papermill": {
     "duration": 0.010842,
     "end_time": "2025-06-29T14:06:10.350949",
     "exception": false,
     "start_time": "2025-06-29T14:06:10.340107",
     "status": "completed"
    },
    "tags": []
   },
   "source": [
    "Download genes from: https://www.oncokb.org/cancer-genes (read the .tsv)  \n",
    "Then filter via the Vogelstein et al. (2013). column   \n",
    "Then create a parquet with similar columns to kaggle/input/oncokb-cancer-gene-list/mutations_3.parquet"
   ]
  },
  {
   "cell_type": "markdown",
   "id": "11956f68",
   "metadata": {
    "papermill": {
     "duration": 0.009219,
     "end_time": "2025-06-29T14:06:10.369792",
     "exception": false,
     "start_time": "2025-06-29T14:06:10.360573",
     "status": "completed"
    },
    "tags": []
   },
   "source": [
    "From BiolSys - zajęcia:"
   ]
  },
  {
   "cell_type": "markdown",
   "id": "94118335",
   "metadata": {
    "papermill": {
     "duration": 0.009117,
     "end_time": "2025-06-29T14:06:10.388650",
     "exception": false,
     "start_time": "2025-06-29T14:06:10.379533",
     "status": "completed"
    },
    "tags": []
   },
   "source": [
    "## 1. Przygotowanie danych:"
   ]
  },
  {
   "cell_type": "markdown",
   "id": "6ed6878c",
   "metadata": {
    "papermill": {
     "duration": 0.009073,
     "end_time": "2025-06-29T14:06:10.406984",
     "exception": false,
     "start_time": "2025-06-29T14:06:10.397911",
     "status": "completed"
    },
    "tags": []
   },
   "source": [
    "## OncoKB database:"
   ]
  },
  {
   "cell_type": "code",
   "execution_count": 1,
   "id": "2111359f",
   "metadata": {
    "execution": {
     "iopub.execute_input": "2025-06-29T14:06:10.426407Z",
     "iopub.status.busy": "2025-06-29T14:06:10.426166Z",
     "iopub.status.idle": "2025-06-29T14:06:11.891629Z",
     "shell.execute_reply": "2025-06-29T14:06:11.890755Z"
    },
    "papermill": {
     "duration": 1.477214,
     "end_time": "2025-06-29T14:06:11.893401",
     "exception": false,
     "start_time": "2025-06-29T14:06:10.416187",
     "status": "completed"
    },
    "tags": []
   },
   "outputs": [],
   "source": [
    "import pandas as pd\n",
    "\n",
    "oncokb_df = pd.read_csv('/kaggle/input/oncokb-cancer-gene-list/cancerGeneList.tsv', sep=\"\\t\")\n",
    "oncokb_df = oncokb_df[oncokb_df['Vogelstein']=='Yes'] \n",
    "genes_list = oncokb_df['Hugo Symbol']"
   ]
  },
  {
   "cell_type": "code",
   "execution_count": 2,
   "id": "f1ae1db9",
   "metadata": {
    "execution": {
     "iopub.execute_input": "2025-06-29T14:06:11.919729Z",
     "iopub.status.busy": "2025-06-29T14:06:11.919340Z",
     "iopub.status.idle": "2025-06-29T14:06:11.924120Z",
     "shell.execute_reply": "2025-06-29T14:06:11.923595Z"
    },
    "papermill": {
     "duration": 0.016496,
     "end_time": "2025-06-29T14:06:11.925221",
     "exception": false,
     "start_time": "2025-06-29T14:06:11.908725",
     "status": "completed"
    },
    "tags": []
   },
   "outputs": [
    {
     "data": {
      "text/plain": [
       "(125,)"
      ]
     },
     "execution_count": 2,
     "metadata": {},
     "output_type": "execute_result"
    }
   ],
   "source": [
    "genes_list.shape"
   ]
  },
  {
   "cell_type": "markdown",
   "id": "cfaa18a2",
   "metadata": {
    "papermill": {
     "duration": 0.009127,
     "end_time": "2025-06-29T14:06:11.943755",
     "exception": false,
     "start_time": "2025-06-29T14:06:11.934628",
     "status": "completed"
    },
    "tags": []
   },
   "source": [
    "## TCGA database:"
   ]
  },
  {
   "cell_type": "code",
   "execution_count": 3,
   "id": "2c222d58",
   "metadata": {
    "execution": {
     "iopub.execute_input": "2025-06-29T14:06:11.963884Z",
     "iopub.status.busy": "2025-06-29T14:06:11.963256Z",
     "iopub.status.idle": "2025-06-29T14:06:11.967153Z",
     "shell.execute_reply": "2025-06-29T14:06:11.966490Z"
    },
    "papermill": {
     "duration": 0.015113,
     "end_time": "2025-06-29T14:06:11.968253",
     "exception": false,
     "start_time": "2025-06-29T14:06:11.953140",
     "status": "completed"
    },
    "tags": []
   },
   "outputs": [],
   "source": [
    "# tutaj można zamiast tego zrobić list.join() albo coś takiego\n",
    "list(genes_list)\n",
    "genes_list_str = \"(\"\n",
    "for gene in genes_list:\n",
    "    genes_list_str += f\"'{gene}', \"\n",
    "genes_list_str = genes_list_str.strip(\", \")\n",
    "genes_list_str += \")\"\n"
   ]
  },
  {
   "cell_type": "code",
   "execution_count": 4,
   "id": "16ab2644",
   "metadata": {
    "execution": {
     "iopub.execute_input": "2025-06-29T14:06:11.987746Z",
     "iopub.status.busy": "2025-06-29T14:06:11.987548Z",
     "iopub.status.idle": "2025-06-29T14:07:52.097078Z",
     "shell.execute_reply": "2025-06-29T14:07:52.096423Z"
    },
    "papermill": {
     "duration": 100.121793,
     "end_time": "2025-06-29T14:07:52.099261",
     "exception": false,
     "start_time": "2025-06-29T14:06:11.977468",
     "status": "completed"
    },
    "tags": []
   },
   "outputs": [
    {
     "name": "stdout",
     "output_type": "stream",
     "text": [
      "Using Kaggle's public dataset BigQuery integration.\n"
     ]
    },
    {
     "name": "stderr",
     "output_type": "stream",
     "text": [
      "/usr/local/lib/python3.11/dist-packages/google/cloud/bigquery/table.py:1727: UserWarning: BigQuery Storage module not found, fetch data with the REST endpoint instead.\n",
      "  warnings.warn(\n"
     ]
    }
   ],
   "source": [
    "from google.cloud import bigquery\n",
    "import pandas as pd\n",
    "# Tworzenie klienta BigQuery\n",
    "client = bigquery.Client()\n",
    "\n",
    "# Zapytanie SQL\n",
    "query = \"\"\"SELECT *\n",
    "FROM `isb-cgc-bq.TCGA.masked_somatic_mutation_hg38_gdc_current`\n",
    "WHERE Variant_Type IN ('SNP', 'DEL', 'INS') AND \n",
    "Hugo_Symbol IN \n",
    "\"\"\"\n",
    "query = query + genes_list_str + \";\"\n",
    "query_job = client.query(query)\n",
    "df_mut = query_job.to_dataframe()\n"
   ]
  },
  {
   "cell_type": "code",
   "execution_count": 5,
   "id": "2f62766b",
   "metadata": {
    "execution": {
     "iopub.execute_input": "2025-06-29T14:07:52.120464Z",
     "iopub.status.busy": "2025-06-29T14:07:52.120076Z",
     "iopub.status.idle": "2025-06-29T14:07:52.126115Z",
     "shell.execute_reply": "2025-06-29T14:07:52.125599Z"
    },
    "papermill": {
     "duration": 0.017503,
     "end_time": "2025-06-29T14:07:52.127205",
     "exception": false,
     "start_time": "2025-06-29T14:07:52.109702",
     "status": "completed"
    },
    "tags": []
   },
   "outputs": [
    {
     "data": {
      "text/plain": [
       "Index(['project_short_name', 'case_barcode', 'primary_site', 'Hugo_Symbol',\n",
       "       'Entrez_Gene_Id', 'Center', 'NCBI_Build', 'Chromosome',\n",
       "       'Start_Position', 'End_Position',\n",
       "       ...\n",
       "       'callers', 'file_gdc_id', 'muse', 'mutect2', 'pindel', 'varscan2',\n",
       "       'sample_barcode_tumor', 'sample_barcode_normal',\n",
       "       'aliquot_barcode_tumor', 'aliquot_barcode_normal'],\n",
       "      dtype='object', length=152)"
      ]
     },
     "execution_count": 5,
     "metadata": {},
     "output_type": "execute_result"
    }
   ],
   "source": [
    "df_mut.columns"
   ]
  },
  {
   "cell_type": "code",
   "execution_count": 6,
   "id": "77acc783",
   "metadata": {
    "execution": {
     "iopub.execute_input": "2025-06-29T14:07:52.148128Z",
     "iopub.status.busy": "2025-06-29T14:07:52.147942Z",
     "iopub.status.idle": "2025-06-29T14:07:52.175679Z",
     "shell.execute_reply": "2025-06-29T14:07:52.175069Z"
    },
    "papermill": {
     "duration": 0.038846,
     "end_time": "2025-06-29T14:07:52.176719",
     "exception": false,
     "start_time": "2025-06-29T14:07:52.137873",
     "status": "completed"
    },
    "tags": []
   },
   "outputs": [
    {
     "data": {
      "text/plain": [
       "<bound method NDFrame.head of       project_short_name  case_barcode       primary_site Hugo_Symbol  \\\n",
       "0              TCGA-LUAD  TCGA-17-Z017  Bronchus and lung         CBL   \n",
       "1              TCGA-COAD  TCGA-AA-3811              Colon        IDH2   \n",
       "2              TCGA-COAD  TCGA-AD-5900              Colon       GATA1   \n",
       "3              TCGA-UCEC  TCGA-AJ-A3BH       Corpus uteri       AXIN1   \n",
       "4              TCGA-UCEC  TCGA-B5-A1MR       Corpus uteri        JAK3   \n",
       "...                  ...           ...                ...         ...   \n",
       "48907           TCGA-LGG  TCGA-VM-A8CA              Brain        NRAS   \n",
       "48908          TCGA-UCEC  TCGA-EO-A22U       Corpus uteri        NRAS   \n",
       "48909          TCGA-SKCM  TCGA-FR-A7U8               Skin        NRAS   \n",
       "48910           TCGA-UCS  TCGA-ND-A4WC        Uterus, NOS        NRAS   \n",
       "48911          TCGA-SKCM  TCGA-RP-A695               Skin        NRAS   \n",
       "\n",
       "       Entrez_Gene_Id Center NCBI_Build Chromosome  Start_Position  \\\n",
       "0                 867     BI     GRCh38      chr11       119274922   \n",
       "1                3418    BCM     GRCh38      chr15        90088686   \n",
       "2                2623    BCM     GRCh38       chrX        48791282   \n",
       "3                8312  WUGSC     GRCh38      chr16          289531   \n",
       "4                3718  WUGSC     GRCh38      chr19        17835938   \n",
       "...               ...    ...        ...        ...             ...   \n",
       "48907            4893     BI     GRCh38       chr1       114713908   \n",
       "48908            4893  WUGSC     GRCh38       chr1       114708573   \n",
       "48909            4893     BI     GRCh38       chr1       114713908   \n",
       "48910            4893     BI     GRCh38       chr1       114713893   \n",
       "48911            4893     BI     GRCh38       chr1       114713908   \n",
       "\n",
       "       End_Position  ...                callers  \\\n",
       "0         119274922  ...       mutect2;varscan2   \n",
       "1          90088686  ...         mutect2;pindel   \n",
       "2          48791282  ...  muse;mutect2;varscan2   \n",
       "3            289531  ...  muse;mutect2;varscan2   \n",
       "4          17835938  ...       mutect2;varscan2   \n",
       "...             ...  ...                    ...   \n",
       "48907     114713908  ...  muse;mutect2;varscan2   \n",
       "48908     114708573  ...  muse;mutect2;varscan2   \n",
       "48909     114713908  ...  muse;mutect2;varscan2   \n",
       "48910     114713893  ...  muse;mutect2;varscan2   \n",
       "48911     114713908  ...  muse;mutect2;varscan2   \n",
       "\n",
       "                                file_gdc_id muse mutect2 pindel varscan2  \\\n",
       "0      0e9ceaa9-c20f-45a1-a55e-7ef515c0b15d   No     Yes     No      Yes   \n",
       "1      d300d561-9fc9-46da-bf33-c8987df2e2f0   No     Yes    Yes       No   \n",
       "2      2376d52e-18c5-4078-ae37-554bee0fe700  Yes     Yes     No      Yes   \n",
       "3      a57188b9-42fa-4db6-8e32-bb0bf1c23756  Yes     Yes     No      Yes   \n",
       "4      1394cf11-3b2a-4047-b332-4f760d9972ba   No     Yes     No      Yes   \n",
       "...                                     ...  ...     ...    ...      ...   \n",
       "48907  9cf7c55f-aad6-4aec-aae4-cbcdb7159144  Yes     Yes     No      Yes   \n",
       "48908  c676f7e1-de13-4c16-b106-a611228881b3  Yes     Yes     No      Yes   \n",
       "48909  80cfe927-35c3-4619-b7eb-4d98a6ecdb52  Yes     Yes     No      Yes   \n",
       "48910  48a4e0a8-d3cc-4b95-bd23-014a50c757e3  Yes     Yes     No      Yes   \n",
       "48911  226c42e6-ecdf-4177-b820-a456d75860ce  Yes     Yes     No      Yes   \n",
       "\n",
       "      sample_barcode_tumor sample_barcode_normal  \\\n",
       "0         TCGA-17-Z017-01A      TCGA-17-Z017-11A   \n",
       "1         TCGA-AA-3811-01A      TCGA-AA-3811-10A   \n",
       "2         TCGA-AD-5900-01A      TCGA-AD-5900-10A   \n",
       "3         TCGA-AJ-A3BH-01A      TCGA-AJ-A3BH-10A   \n",
       "4         TCGA-B5-A1MR-01A      TCGA-B5-A1MR-10A   \n",
       "...                    ...                   ...   \n",
       "48907     TCGA-VM-A8CA-01A      TCGA-VM-A8CA-10A   \n",
       "48908     TCGA-EO-A22U-01A      TCGA-EO-A22U-10B   \n",
       "48909     TCGA-FR-A7U8-06A      TCGA-FR-A7U8-10A   \n",
       "48910     TCGA-ND-A4WC-01A      TCGA-ND-A4WC-10A   \n",
       "48911     TCGA-RP-A695-06A      TCGA-RP-A695-10A   \n",
       "\n",
       "              aliquot_barcode_tumor        aliquot_barcode_normal  \n",
       "0      TCGA-17-Z017-01A-01W-0746-08  TCGA-17-Z017-11A-01W-0746-08  \n",
       "1      TCGA-AA-3811-01A-01D-1981-10  TCGA-AA-3811-10A-01W-0995-10  \n",
       "2      TCGA-AD-5900-01A-11D-1650-10  TCGA-AD-5900-10A-01D-1650-10  \n",
       "3      TCGA-AJ-A3BH-01A-11D-A19Y-09  TCGA-AJ-A3BH-10A-01D-A19Y-09  \n",
       "4      TCGA-B5-A1MR-01A-31D-A14G-09  TCGA-B5-A1MR-10A-01D-A14G-09  \n",
       "...                             ...                           ...  \n",
       "48907  TCGA-VM-A8CA-01A-11D-A36O-08  TCGA-VM-A8CA-10A-01D-A367-08  \n",
       "48908  TCGA-EO-A22U-01A-11D-A17W-09  TCGA-EO-A22U-10B-01D-A17W-09  \n",
       "48909  TCGA-FR-A7U8-06A-21D-A34U-08  TCGA-FR-A7U8-10A-01D-A34X-08  \n",
       "48910  TCGA-ND-A4WC-01A-21D-A28R-08  TCGA-ND-A4WC-10A-01D-A28U-08  \n",
       "48911  TCGA-RP-A695-06A-11D-A30X-08  TCGA-RP-A695-10A-01D-A30X-08  \n",
       "\n",
       "[48912 rows x 152 columns]>"
      ]
     },
     "execution_count": 6,
     "metadata": {},
     "output_type": "execute_result"
    }
   ],
   "source": [
    "df_mut.head"
   ]
  },
  {
   "cell_type": "code",
   "execution_count": 7,
   "id": "65e98d4d",
   "metadata": {
    "execution": {
     "iopub.execute_input": "2025-06-29T14:07:52.244432Z",
     "iopub.status.busy": "2025-06-29T14:07:52.243677Z",
     "iopub.status.idle": "2025-06-29T14:07:52.775832Z",
     "shell.execute_reply": "2025-06-29T14:07:52.775178Z"
    },
    "papermill": {
     "duration": 0.544288,
     "end_time": "2025-06-29T14:07:52.777051",
     "exception": false,
     "start_time": "2025-06-29T14:07:52.232763",
     "status": "completed"
    },
    "tags": []
   },
   "outputs": [
    {
     "data": {
      "text/plain": [
       "(48912, 152)"
      ]
     },
     "execution_count": 7,
     "metadata": {},
     "output_type": "execute_result"
    }
   ],
   "source": [
    "df_mut.drop_duplicates(inplace=True)\n",
    "df_mut.shape"
   ]
  },
  {
   "cell_type": "code",
   "execution_count": 8,
   "id": "cb57aae4",
   "metadata": {
    "execution": {
     "iopub.execute_input": "2025-06-29T14:07:52.798124Z",
     "iopub.status.busy": "2025-06-29T14:07:52.797841Z",
     "iopub.status.idle": "2025-06-29T14:07:52.881564Z",
     "shell.execute_reply": "2025-06-29T14:07:52.880829Z"
    },
    "papermill": {
     "duration": 0.09553,
     "end_time": "2025-06-29T14:07:52.882810",
     "exception": false,
     "start_time": "2025-06-29T14:07:52.787280",
     "status": "completed"
    },
    "tags": []
   },
   "outputs": [
    {
     "data": {
      "text/plain": [
       "(48912, 152)"
      ]
     },
     "execution_count": 8,
     "metadata": {},
     "output_type": "execute_result"
    }
   ],
   "source": [
    "df_mut.dropna(subset=[\"Hugo_Symbol\", \"case_barcode\", \"primary_site\"], inplace=True)\n",
    "df_mut.shape"
   ]
  },
  {
   "cell_type": "markdown",
   "id": "4e892ab5",
   "metadata": {
    "papermill": {
     "duration": 0.009836,
     "end_time": "2025-06-29T14:07:52.903025",
     "exception": false,
     "start_time": "2025-06-29T14:07:52.893189",
     "status": "completed"
    },
    "tags": []
   },
   "source": [
    "## Odczyt z formatu parquet i integracja danych w pandas dataframe"
   ]
  },
  {
   "cell_type": "code",
   "execution_count": 9,
   "id": "201d34e1",
   "metadata": {
    "execution": {
     "iopub.execute_input": "2025-06-29T14:07:52.923721Z",
     "iopub.status.busy": "2025-06-29T14:07:52.923533Z",
     "iopub.status.idle": "2025-06-29T14:07:53.874499Z",
     "shell.execute_reply": "2025-06-29T14:07:53.873673Z"
    },
    "papermill": {
     "duration": 0.963269,
     "end_time": "2025-06-29T14:07:53.876302",
     "exception": false,
     "start_time": "2025-06-29T14:07:52.913033",
     "status": "completed"
    },
    "tags": []
   },
   "outputs": [],
   "source": [
    "df_mut.to_parquet('mutations.parquet', index=False)"
   ]
  },
  {
   "cell_type": "markdown",
   "id": "605e6bf2",
   "metadata": {
    "papermill": {
     "duration": 0.009666,
     "end_time": "2025-06-29T14:07:53.896385",
     "exception": false,
     "start_time": "2025-06-29T14:07:53.886719",
     "status": "completed"
    },
    "tags": []
   },
   "source": [
    "3. Format Parquet  \n",
    "• Zapisz oczyszczone dane mutacji w formacie Parquet.  \n",
    "• Pobierz profil ekspresji RNA (TCGA RNA-seq), usuń duplikaty i zapisz w\n",
    "Parquet.  \n",
    "5. Charakterystyka etykiet  \n",
    "• Zbiór etykiet primary site jest niezbalansowany – różne klasy maja różna\n",
    "liczebność. Zbadaj jaką liczebność mają różne klasy, np. tabelka liczności primary site."
   ]
  },
  {
   "cell_type": "code",
   "execution_count": 10,
   "id": "239a455f",
   "metadata": {
    "execution": {
     "iopub.execute_input": "2025-06-29T14:07:53.916968Z",
     "iopub.status.busy": "2025-06-29T14:07:53.916717Z",
     "iopub.status.idle": "2025-06-29T14:08:46.925839Z",
     "shell.execute_reply": "2025-06-29T14:08:46.924888Z"
    },
    "papermill": {
     "duration": 53.021113,
     "end_time": "2025-06-29T14:08:46.927382",
     "exception": false,
     "start_time": "2025-06-29T14:07:53.906269",
     "status": "completed"
    },
    "tags": []
   },
   "outputs": [
    {
     "name": "stderr",
     "output_type": "stream",
     "text": [
      "/usr/local/lib/python3.11/dist-packages/google/cloud/bigquery/table.py:1727: UserWarning: BigQuery Storage module not found, fetch data with the REST endpoint instead.\n",
      "  warnings.warn(\n"
     ]
    }
   ],
   "source": [
    "# Zapytanie SQL\n",
    "query = \"\"\"SELECT case_barcode, gene_name, tpm_unstranded\n",
    "FROM `isb-cgc-bq.TCGA.RNAseq_hg38_gdc_current`\n",
    "WHERE gene_name IN \n",
    "\"\"\"\n",
    "query = query + genes_list_str + \";\"\n",
    "query_job = client.query(query)\n",
    "df_expr = query_job.to_dataframe()"
   ]
  },
  {
   "cell_type": "code",
   "execution_count": 11,
   "id": "01c2e052",
   "metadata": {
    "execution": {
     "iopub.execute_input": "2025-06-29T14:08:46.949365Z",
     "iopub.status.busy": "2025-06-29T14:08:46.949096Z",
     "iopub.status.idle": "2025-06-29T14:08:46.953777Z",
     "shell.execute_reply": "2025-06-29T14:08:46.953201Z"
    },
    "papermill": {
     "duration": 0.016804,
     "end_time": "2025-06-29T14:08:46.954871",
     "exception": false,
     "start_time": "2025-06-29T14:08:46.938067",
     "status": "completed"
    },
    "tags": []
   },
   "outputs": [
    {
     "data": {
      "text/plain": [
       "Index(['case_barcode', 'gene_name', 'tpm_unstranded'], dtype='object')"
      ]
     },
     "execution_count": 11,
     "metadata": {},
     "output_type": "execute_result"
    }
   ],
   "source": [
    "df_expr.columns"
   ]
  },
  {
   "cell_type": "code",
   "execution_count": 12,
   "id": "a346b308",
   "metadata": {
    "execution": {
     "iopub.execute_input": "2025-06-29T14:08:46.976254Z",
     "iopub.status.busy": "2025-06-29T14:08:46.975620Z",
     "iopub.status.idle": "2025-06-29T14:08:48.042928Z",
     "shell.execute_reply": "2025-06-29T14:08:48.042160Z"
    },
    "papermill": {
     "duration": 1.079303,
     "end_time": "2025-06-29T14:08:48.044300",
     "exception": false,
     "start_time": "2025-06-29T14:08:46.964997",
     "status": "completed"
    },
    "tags": []
   },
   "outputs": [
    {
     "data": {
      "text/plain": [
       "<bound method NDFrame.head of          case_barcode gene_name  tpm_unstranded\n",
       "53177    TCGA-02-0003      BAP1         51.6799\n",
       "535980   TCGA-02-0003      TSHR          0.3837\n",
       "1230678  TCGA-02-0003      KRAS         12.6362\n",
       "535979   TCGA-02-0003      ABL1         36.0164\n",
       "535978   TCGA-02-0003     FUBP1         38.9255\n",
       "...               ...       ...             ...\n",
       "70128    TCGA-ZX-AA5X    ACVR1B         30.2560\n",
       "553124   TCGA-ZX-AA5X      ABL1         42.7654\n",
       "1000515  TCGA-ZX-AA5X     ARID2          6.8879\n",
       "70131    TCGA-ZX-AA5X     ERBB2         73.7343\n",
       "1323003  TCGA-ZX-AA5X    PIK3R1         11.7142\n",
       "\n",
       "[1448874 rows x 3 columns]>"
      ]
     },
     "execution_count": 12,
     "metadata": {},
     "output_type": "execute_result"
    }
   ],
   "source": [
    "df_expr.sort_values('case_barcode').head"
   ]
  },
  {
   "cell_type": "code",
   "execution_count": 13,
   "id": "fb1f7dcb",
   "metadata": {
    "execution": {
     "iopub.execute_input": "2025-06-29T14:08:48.066200Z",
     "iopub.status.busy": "2025-06-29T14:08:48.065974Z",
     "iopub.status.idle": "2025-06-29T14:08:48.358070Z",
     "shell.execute_reply": "2025-06-29T14:08:48.357248Z"
    },
    "papermill": {
     "duration": 0.304241,
     "end_time": "2025-06-29T14:08:48.359256",
     "exception": false,
     "start_time": "2025-06-29T14:08:48.055015",
     "status": "completed"
    },
    "tags": []
   },
   "outputs": [
    {
     "name": "stdout",
     "output_type": "stream",
     "text": [
      "Number of duplicate rows: 2943\n"
     ]
    }
   ],
   "source": [
    "# Check duplicates based on rows (entire row duplicates)\n",
    "duplicates = df_expr.duplicated()\n",
    "print(f\"Number of duplicate rows: {duplicates.sum()}\")"
   ]
  },
  {
   "cell_type": "markdown",
   "id": "d5fc4928",
   "metadata": {
    "papermill": {
     "duration": 0.010093,
     "end_time": "2025-06-29T14:08:48.380023",
     "exception": false,
     "start_time": "2025-06-29T14:08:48.369930",
     "status": "completed"
    },
    "tags": []
   },
   "source": [
    "### Usunięcie duplikatów ekspresji"
   ]
  },
  {
   "cell_type": "code",
   "execution_count": 14,
   "id": "b95354fb",
   "metadata": {
    "execution": {
     "iopub.execute_input": "2025-06-29T14:08:48.401375Z",
     "iopub.status.busy": "2025-06-29T14:08:48.400778Z",
     "iopub.status.idle": "2025-06-29T14:08:48.927365Z",
     "shell.execute_reply": "2025-06-29T14:08:48.926718Z"
    },
    "papermill": {
     "duration": 0.53835,
     "end_time": "2025-06-29T14:08:48.928497",
     "exception": false,
     "start_time": "2025-06-29T14:08:48.390147",
     "status": "completed"
    },
    "tags": []
   },
   "outputs": [
    {
     "data": {
      "text/plain": [
       "(1445931, 3)"
      ]
     },
     "execution_count": 14,
     "metadata": {},
     "output_type": "execute_result"
    }
   ],
   "source": [
    "# Remove duplicates and NAs\n",
    "df_expr.drop_duplicates(inplace=True)\n",
    "df_expr.dropna(inplace=True)\n",
    "df_expr.shape"
   ]
  },
  {
   "cell_type": "code",
   "execution_count": 15,
   "id": "658d5078",
   "metadata": {
    "execution": {
     "iopub.execute_input": "2025-06-29T14:08:48.950871Z",
     "iopub.status.busy": "2025-06-29T14:08:48.950202Z",
     "iopub.status.idle": "2025-06-29T14:08:49.343572Z",
     "shell.execute_reply": "2025-06-29T14:08:49.342770Z"
    },
    "papermill": {
     "duration": 0.405774,
     "end_time": "2025-06-29T14:08:49.345188",
     "exception": false,
     "start_time": "2025-06-29T14:08:48.939414",
     "status": "completed"
    },
    "tags": []
   },
   "outputs": [],
   "source": [
    "df_expr.to_parquet('expressions.parquet', index=False)"
   ]
  },
  {
   "cell_type": "code",
   "execution_count": null,
   "id": "c091d187",
   "metadata": {
    "papermill": {
     "duration": 0.010079,
     "end_time": "2025-06-29T14:08:49.366217",
     "exception": false,
     "start_time": "2025-06-29T14:08:49.356138",
     "status": "completed"
    },
    "tags": []
   },
   "outputs": [],
   "source": []
  },
  {
   "cell_type": "code",
   "execution_count": 16,
   "id": "47ddd684",
   "metadata": {
    "execution": {
     "iopub.execute_input": "2025-06-29T14:08:49.387314Z",
     "iopub.status.busy": "2025-06-29T14:08:49.387083Z",
     "iopub.status.idle": "2025-06-29T14:08:49.390079Z",
     "shell.execute_reply": "2025-06-29T14:08:49.389536Z"
    },
    "papermill": {
     "duration": 0.014771,
     "end_time": "2025-06-29T14:08:49.391073",
     "exception": false,
     "start_time": "2025-06-29T14:08:49.376302",
     "status": "completed"
    },
    "tags": []
   },
   "outputs": [],
   "source": [
    "# df_expr = df_expr.groupby('case_barcode').agg({\n",
    "#    'gene_name': list,\n",
    "#    'tpm_unstranded': list,\n",
    "#}).reset_index()"
   ]
  },
  {
   "cell_type": "markdown",
   "id": "a34f674b",
   "metadata": {
    "papermill": {
     "duration": 0.009875,
     "end_time": "2025-06-29T14:08:49.410955",
     "exception": false,
     "start_time": "2025-06-29T14:08:49.401080",
     "status": "completed"
    },
    "tags": []
   },
   "source": [
    "### 4. Charakterystyka etykiet"
   ]
  },
  {
   "cell_type": "code",
   "execution_count": 17,
   "id": "66019ad2",
   "metadata": {
    "execution": {
     "iopub.execute_input": "2025-06-29T14:08:49.432236Z",
     "iopub.status.busy": "2025-06-29T14:08:49.432029Z",
     "iopub.status.idle": "2025-06-29T14:08:51.486947Z",
     "shell.execute_reply": "2025-06-29T14:08:51.486206Z"
    },
    "papermill": {
     "duration": 2.068179,
     "end_time": "2025-06-29T14:08:51.489486",
     "exception": false,
     "start_time": "2025-06-29T14:08:49.421307",
     "status": "completed"
    },
    "tags": []
   },
   "outputs": [
    {
     "data": {
      "image/png": "[encoded data removed]",
      "text/plain": [
       "<Figure size 1000x1470 with 1 Axes>"
      ]
     },
     "metadata": {},
     "output_type": "display_data"
    }
   ],
   "source": [
    "import pandas as pd\n",
    "import seaborn as sns\n",
    "import matplotlib.pyplot as plt\n",
    "\n",
    "# Count occurrences\n",
    "counts = df_mut[\"primary_site\"].value_counts()\n",
    "\n",
    "# Convert counts Series to DataFrame\n",
    "df_counts = counts.reset_index()\n",
    "df_counts.columns = [\"primary_site\", \"mutations\"]\n",
    "\n",
    "# Set figure size (scale with number of entries)\n",
    "plt.figure(figsize=(10, len(df_counts) * 0.3))\n",
    "\n",
    "# Create horizontal bar plot\n",
    "sns.barplot(\n",
    "    data=df_counts,\n",
    "    x=\"mutations\",\n",
    "    y=\"primary_site\",\n",
    "    palette=\"viridis\"\n",
    ")\n",
    "\n",
    "# Set x-axis to log scale\n",
    "plt.xscale(\"log\")\n",
    "\n",
    "# Labels and layout\n",
    "plt.title(\"Mutation Counts per Primary Site (Log Scale)\")\n",
    "plt.xlabel(\"Number of Mutations (log scale)\")\n",
    "plt.ylabel(\"Primary Site\")\n",
    "plt.tight_layout()\n",
    "plt.show()\n"
   ]
  },
  {
   "cell_type": "markdown",
   "id": "5cfb26eb",
   "metadata": {
    "papermill": {
     "duration": 0.012148,
     "end_time": "2025-06-29T14:08:51.514598",
     "exception": false,
     "start_time": "2025-06-29T14:08:51.502450",
     "status": "completed"
    },
    "tags": []
   },
   "source": [
    "## 2. Inżynieria cech"
   ]
  },
  {
   "cell_type": "code",
   "execution_count": 18,
   "id": "e61a8ef5",
   "metadata": {
    "execution": {
     "iopub.execute_input": "2025-06-29T14:08:51.540267Z",
     "iopub.status.busy": "2025-06-29T14:08:51.539819Z",
     "iopub.status.idle": "2025-06-29T14:08:57.708098Z",
     "shell.execute_reply": "2025-06-29T14:08:57.707181Z"
    },
    "papermill": {
     "duration": 6.18276,
     "end_time": "2025-06-29T14:08:57.709632",
     "exception": false,
     "start_time": "2025-06-29T14:08:51.526872",
     "status": "completed"
    },
    "tags": []
   },
   "outputs": [
    {
     "name": "stdout",
     "output_type": "stream",
     "text": [
      "Collecting biopython\r\n",
      "  Downloading biopython-1.85-cp311-cp311-manylinux_2_17_x86_64.manylinux2014_x86_64.whl.metadata (13 kB)\r\n",
      "Collecting pyranges\r\n",
      "  Downloading pyranges-0.1.4-py3-none-any.whl.metadata (3.7 kB)\r\n",
      "Requirement already satisfied: numpy in /usr/local/lib/python3.11/dist-packages (from biopython) (1.26.4)\r\n",
      "Requirement already satisfied: pandas in /usr/local/lib/python3.11/dist-packages (from pyranges) (2.2.3)\r\n",
      "Collecting ncls>=0.0.63 (from pyranges)\r\n",
      "  Downloading ncls-0.0.68-cp311-cp311-manylinux_2_17_x86_64.manylinux2014_x86_64.whl.metadata (4.6 kB)\r\n",
      "Requirement already satisfied: tabulate in /usr/local/lib/python3.11/dist-packages (from pyranges) (0.9.0)\r\n",
      "Collecting sorted_nearest>=0.0.33 (from pyranges)\r\n",
      "  Downloading sorted_nearest-0.0.39-cp311-cp311-manylinux_2_17_x86_64.manylinux2014_x86_64.whl.metadata (964 bytes)\r\n",
      "Requirement already satisfied: natsort in /usr/local/lib/python3.11/dist-packages (from pyranges) (8.4.0)\r\n",
      "Requirement already satisfied: mkl_fft in /usr/local/lib/python3.11/dist-packages (from numpy->biopython) (1.3.8)\r\n",
      "Requirement already satisfied: mkl_random in /usr/local/lib/python3.11/dist-packages (from numpy->biopython) (1.2.4)\r\n",
      "Requirement already satisfied: mkl_umath in /usr/local/lib/python3.11/dist-packages (from numpy->biopython) (0.1.1)\r\n",
      "Requirement already satisfied: mkl in /usr/local/lib/python3.11/dist-packages (from numpy->biopython) (2025.1.0)\r\n",
      "Requirement already satisfied: tbb4py in /usr/local/lib/python3.11/dist-packages (from numpy->biopython) (2022.1.0)\r\n",
      "Requirement already satisfied: mkl-service in /usr/local/lib/python3.11/dist-packages (from numpy->biopython) (2.4.1)\r\n",
      "Requirement already satisfied: python-dateutil>=2.8.2 in /usr/local/lib/python3.11/dist-packages (from pandas->pyranges) (2.9.0.post0)\r\n",
      "Requirement already satisfied: pytz>=2020.1 in /usr/local/lib/python3.11/dist-packages (from pandas->pyranges) (2025.2)\r\n",
      "Requirement already satisfied: tzdata>=2022.7 in /usr/local/lib/python3.11/dist-packages (from pandas->pyranges) (2025.2)\r\n",
      "Requirement already satisfied: six>=1.5 in /usr/local/lib/python3.11/dist-packages (from python-dateutil>=2.8.2->pandas->pyranges) (1.17.0)\r\n",
      "Requirement already satisfied: intel-openmp<2026,>=2024 in /usr/local/lib/python3.11/dist-packages (from mkl->numpy->biopython) (2024.2.0)\r\n",
      "Requirement already satisfied: tbb==2022.* in /usr/local/lib/python3.11/dist-packages (from mkl->numpy->biopython) (2022.1.0)\r\n",
      "Requirement already satisfied: tcmlib==1.* in /usr/local/lib/python3.11/dist-packages (from tbb==2022.*->mkl->numpy->biopython) (1.3.0)\r\n",
      "Requirement already satisfied: intel-cmplr-lib-rt in /usr/local/lib/python3.11/dist-packages (from mkl_umath->numpy->biopython) (2024.2.0)\r\n",
      "Requirement already satisfied: intel-cmplr-lib-ur==2024.2.0 in /usr/local/lib/python3.11/dist-packages (from intel-openmp<2026,>=2024->mkl->numpy->biopython) (2024.2.0)\r\n",
      "Downloading biopython-1.85-cp311-cp311-manylinux_2_17_x86_64.manylinux2014_x86_64.whl (3.3 MB)\r\n",
      "\u001b[2K   \u001b[90m━━━━━━━━━━━━━━━━━━━━━━━━━━━━━━━━━━━━━━━━\u001b[0m \u001b[32m3.3/3.3 MB\u001b[0m \u001b[31m48.5 MB/s\u001b[0m eta \u001b[36m0:00:00\u001b[0m\r\n",
      "\u001b[?25hDownloading pyranges-0.1.4-py3-none-any.whl (1.5 MB)\r\n",
      "\u001b[2K   \u001b[90m━━━━━━━━━━━━━━━━━━━━━━━━━━━━━━━━━━━━━━━━\u001b[0m \u001b[32m1.5/1.5 MB\u001b[0m \u001b[31m61.6 MB/s\u001b[0m eta \u001b[36m0:00:00\u001b[0m\r\n",
      "\u001b[?25hDownloading ncls-0.0.68-cp311-cp311-manylinux_2_17_x86_64.manylinux2014_x86_64.whl (2.5 MB)\r\n",
      "\u001b[2K   \u001b[90m━━━━━━━━━━━━━━━━━━━━━━━━━━━━━━━━━━━━━━━━\u001b[0m \u001b[32m2.5/2.5 MB\u001b[0m \u001b[31m71.1 MB/s\u001b[0m eta \u001b[36m0:00:00\u001b[0m\r\n",
      "\u001b[?25hDownloading sorted_nearest-0.0.39-cp311-cp311-manylinux_2_17_x86_64.manylinux2014_x86_64.whl (6.2 MB)\r\n",
      "\u001b[2K   \u001b[90m━━━━━━━━━━━━━━━━━━━━━━━━━━━━━━━━━━━━━━━━\u001b[0m \u001b[32m6.2/6.2 MB\u001b[0m \u001b[31m98.7 MB/s\u001b[0m eta \u001b[36m0:00:00\u001b[0m\r\n",
      "\u001b[?25hInstalling collected packages: sorted_nearest, ncls, pyranges, biopython\r\n",
      "Successfully installed biopython-1.85 ncls-0.0.68 pyranges-0.1.4 sorted_nearest-0.0.39\r\n"
     ]
    }
   ],
   "source": [
    "!pip install biopython pyranges"
   ]
  },
  {
   "cell_type": "code",
   "execution_count": 19,
   "id": "c1845c43",
   "metadata": {
    "execution": {
     "iopub.execute_input": "2025-06-29T14:08:57.750001Z",
     "iopub.status.busy": "2025-06-29T14:08:57.749689Z",
     "iopub.status.idle": "2025-06-29T14:08:57.908785Z",
     "shell.execute_reply": "2025-06-29T14:08:57.908103Z"
    },
    "papermill": {
     "duration": 0.179877,
     "end_time": "2025-06-29T14:08:57.910215",
     "exception": false,
     "start_time": "2025-06-29T14:08:57.730338",
     "status": "completed"
    },
    "tags": []
   },
   "outputs": [],
   "source": [
    "import re \n",
    "df = df_mut.rename(columns={'Start_Position': 'Start'})\n",
    "df = df.rename(columns={'End_Position': 'End'})"
   ]
  },
  {
   "cell_type": "code",
   "execution_count": 20,
   "id": "7d16ea1a",
   "metadata": {
    "execution": {
     "iopub.execute_input": "2025-06-29T14:08:57.938204Z",
     "iopub.status.busy": "2025-06-29T14:08:57.937977Z",
     "iopub.status.idle": "2025-06-29T14:08:57.943273Z",
     "shell.execute_reply": "2025-06-29T14:08:57.942528Z"
    },
    "papermill": {
     "duration": 0.020586,
     "end_time": "2025-06-29T14:08:57.944588",
     "exception": false,
     "start_time": "2025-06-29T14:08:57.924002",
     "status": "completed"
    },
    "tags": []
   },
   "outputs": [
    {
     "data": {
      "text/plain": [
       "Index(['project_short_name', 'case_barcode', 'primary_site', 'Hugo_Symbol',\n",
       "       'Entrez_Gene_Id', 'Center', 'NCBI_Build', 'Chromosome', 'Start', 'End',\n",
       "       ...\n",
       "       'callers', 'file_gdc_id', 'muse', 'mutect2', 'pindel', 'varscan2',\n",
       "       'sample_barcode_tumor', 'sample_barcode_normal',\n",
       "       'aliquot_barcode_tumor', 'aliquot_barcode_normal'],\n",
       "      dtype='object', length=152)"
      ]
     },
     "execution_count": 20,
     "metadata": {},
     "output_type": "execute_result"
    }
   ],
   "source": [
    "df.columns"
   ]
  },
  {
   "cell_type": "code",
   "execution_count": 21,
   "id": "427e9cf2",
   "metadata": {
    "execution": {
     "iopub.execute_input": "2025-06-29T14:08:57.973303Z",
     "iopub.status.busy": "2025-06-29T14:08:57.973112Z",
     "iopub.status.idle": "2025-06-29T14:09:27.508786Z",
     "shell.execute_reply": "2025-06-29T14:09:27.507920Z"
    },
    "papermill": {
     "duration": 29.551387,
     "end_time": "2025-06-29T14:09:27.510295",
     "exception": false,
     "start_time": "2025-06-29T14:08:57.958908",
     "status": "completed"
    },
    "tags": []
   },
   "outputs": [
    {
     "name": "stdout",
     "output_type": "stream",
     "text": [
      "--2025-06-29 14:08:58--  http://hgdownload.soe.ucsc.edu/goldenPath/hg38/bigZips/hg38.fa.gz\r\n",
      "Resolving hgdownload.soe.ucsc.edu (hgdownload.soe.ucsc.edu)... 128.114.119.163\r\n",
      "Connecting to hgdownload.soe.ucsc.edu (hgdownload.soe.ucsc.edu)|128.114.119.163|:80... connected.\r\n",
      "HTTP request sent, awaiting response... 200 OK\r\n",
      "Length: 983659424 (938M) [application/x-gzip]\r\n",
      "Saving to: ‘hg38.fa.gz’\r\n",
      "\r\n",
      "hg38.fa.gz          100%[===================>] 938.09M   169MB/s    in 5.6s    \r\n",
      "\r\n",
      "2025-06-29 14:09:03 (168 MB/s) - ‘hg38.fa.gz’ saved [983659424/983659424]\r\n",
      "\r\n"
     ]
    }
   ],
   "source": [
    "!wget http://hgdownload.soe.ucsc.edu/goldenPath/hg38/bigZips/hg38.fa.gz\n",
    "!gunzip hg38.fa.gz"
   ]
  },
  {
   "cell_type": "code",
   "execution_count": 22,
   "id": "0e8f3618",
   "metadata": {
    "execution": {
     "iopub.execute_input": "2025-06-29T14:09:27.542952Z",
     "iopub.status.busy": "2025-06-29T14:09:27.542686Z",
     "iopub.status.idle": "2025-06-29T14:09:53.829563Z",
     "shell.execute_reply": "2025-06-29T14:09:53.828971Z"
    },
    "papermill": {
     "duration": 26.30434,
     "end_time": "2025-06-29T14:09:53.830985",
     "exception": false,
     "start_time": "2025-06-29T14:09:27.526645",
     "status": "completed"
    },
    "tags": []
   },
   "outputs": [],
   "source": [
    "import pyranges as pr\n",
    "import pandas as pd\n",
    "from Bio import SeqIO\n",
    "\n",
    "gr = pr.PyRanges(df)\n",
    "fasta_sequences = SeqIO.to_dict(SeqIO.parse(\"/kaggle/working/hg38.fa\", \"fasta\"))"
   ]
  },
  {
   "cell_type": "markdown",
   "id": "77ede314",
   "metadata": {
    "papermill": {
     "duration": 0.014253,
     "end_time": "2025-06-29T14:09:53.860434",
     "exception": false,
     "start_time": "2025-06-29T14:09:53.846181",
     "status": "completed"
    },
    "tags": []
   },
   "source": [
    "## Ekstrakcja motywów mutacyjnych:"
   ]
  },
  {
   "cell_type": "code",
   "execution_count": 23,
   "id": "1bcda7b8",
   "metadata": {
    "execution": {
     "iopub.execute_input": "2025-06-29T14:09:53.890081Z",
     "iopub.status.busy": "2025-06-29T14:09:53.889545Z",
     "iopub.status.idle": "2025-06-29T14:09:53.895321Z",
     "shell.execute_reply": "2025-06-29T14:09:53.894842Z"
    },
    "papermill": {
     "duration": 0.021656,
     "end_time": "2025-06-29T14:09:53.896360",
     "exception": false,
     "start_time": "2025-06-29T14:09:53.874704",
     "status": "completed"
    },
    "tags": []
   },
   "outputs": [],
   "source": [
    "def get_cosmic_notation(row, fasta_dict):\n",
    "    chrom = row.Chromosome  # upewniamy się, że chromosom nie ma prefiksu \"chr\"\n",
    "    start = int(row.Start)\n",
    "    end = int(row.End)\n",
    "    alt = str(row.Tumor_Seq_Allele2) if pd.notnull(row.Tumor_Seq_Allele2) else None\n",
    "    variant_type = row.Variant_Type\n",
    "    cosmic_notation = None\n",
    "\n",
    "    try:\n",
    "        seq = fasta_dict[chrom].seq\n",
    "        context_seq = seq[start-2:end+1].upper()  # np. G[C>T]A -> 1 baza przed i po\n",
    "        ref_base = seq[start-1:end].upper()  \n",
    "\n",
    "        # COSMIC-style notacja\n",
    "        if variant_type == 'SNP':\n",
    "            # np. G[C>T]A\n",
    "            cosmic_notation = f\"{context_seq[0]}[{ref_base}>{alt}]{context_seq[-1]}\"\n",
    "\n",
    "        elif variant_type == 'DEL':\n",
    "            if end > start:\n",
    "                deleted_seq = seq[start-1:end].upper()\n",
    "            else:\n",
    "                deleted_seq = ref_base\n",
    "            cosmic_notation = f\"{context_seq[0]}[del{len(deleted_seq)}]{context_seq[-1]}\"\n",
    "\n",
    "        elif variant_type == 'INS':\n",
    "            inserted_seq = alt\n",
    "            cosmic_notation = f\"{context_seq[0]}[ins{len(inserted_seq)}]{context_seq[-1]}\"\n",
    "\n",
    "        else:\n",
    "            cosmic_notation = f\"UnknownVariantType:{variant_type}\"\n",
    "\n",
    "    except Exception as e:\n",
    "        cosmic_notation = f\"ERROR: {e}\"\n",
    "\n",
    "    return cosmic_notation\n"
   ]
  },
  {
   "cell_type": "code",
   "execution_count": 24,
   "id": "3b056d33",
   "metadata": {
    "execution": {
     "iopub.execute_input": "2025-06-29T14:09:53.926247Z",
     "iopub.status.busy": "2025-06-29T14:09:53.925542Z",
     "iopub.status.idle": "2025-06-29T14:09:55.633653Z",
     "shell.execute_reply": "2025-06-29T14:09:55.632894Z"
    },
    "papermill": {
     "duration": 1.724555,
     "end_time": "2025-06-29T14:09:55.635153",
     "exception": false,
     "start_time": "2025-06-29T14:09:53.910598",
     "status": "completed"
    },
    "tags": []
   },
   "outputs": [],
   "source": [
    "df['Mutational_Motif'] = df.apply(lambda row: get_cosmic_notation(row, fasta_sequences), axis=1)"
   ]
  },
  {
   "cell_type": "markdown",
   "id": "621d4ba4",
   "metadata": {
    "papermill": {
     "duration": 0.014143,
     "end_time": "2025-06-29T14:09:55.664557",
     "exception": false,
     "start_time": "2025-06-29T14:09:55.650414",
     "status": "completed"
    },
    "tags": []
   },
   "source": [
    "## Genomiczne binowanie:"
   ]
  },
  {
   "cell_type": "code",
   "execution_count": 25,
   "id": "4c737727",
   "metadata": {
    "execution": {
     "iopub.execute_input": "2025-06-29T14:09:55.693975Z",
     "iopub.status.busy": "2025-06-29T14:09:55.693715Z",
     "iopub.status.idle": "2025-06-29T14:09:55.716705Z",
     "shell.execute_reply": "2025-06-29T14:09:55.715988Z"
    },
    "papermill": {
     "duration": 0.039274,
     "end_time": "2025-06-29T14:09:55.718018",
     "exception": false,
     "start_time": "2025-06-29T14:09:55.678744",
     "status": "completed"
    },
    "tags": []
   },
   "outputs": [],
   "source": [
    "df['Genomic_Bin'] = df['Chromosome'].astype(str) + '_' + (\n",
    "    ((df['Start'] - 1) // 1_000_000) * 1_000_000\n",
    ").astype(str)"
   ]
  },
  {
   "cell_type": "markdown",
   "id": "44873442",
   "metadata": {
    "papermill": {
     "duration": 0.014748,
     "end_time": "2025-06-29T14:09:55.747184",
     "exception": false,
     "start_time": "2025-06-29T14:09:55.732436",
     "status": "completed"
    },
    "tags": []
   },
   "source": [
    "## Normalizacja mutacji do pitymidyn, komplementacja:"
   ]
  },
  {
   "cell_type": "code",
   "execution_count": 26,
   "id": "8b90a0a3",
   "metadata": {
    "execution": {
     "iopub.execute_input": "2025-06-29T14:09:55.777026Z",
     "iopub.status.busy": "2025-06-29T14:09:55.776573Z",
     "iopub.status.idle": "2025-06-29T14:09:55.781224Z",
     "shell.execute_reply": "2025-06-29T14:09:55.780514Z"
    },
    "papermill": {
     "duration": 0.020718,
     "end_time": "2025-06-29T14:09:55.782336",
     "exception": false,
     "start_time": "2025-06-29T14:09:55.761618",
     "status": "completed"
    },
    "tags": []
   },
   "outputs": [],
   "source": [
    "complement = {'A': 'T', 'T': 'A', 'C': 'G', 'G': 'C'}\n",
    "\n",
    "def normalize_mutation(mutation):\n",
    "    match = re.match(r\"([ATGC])([ATGC]>[ATGC])([ATGC]>[ATGC])([ATGC])\", mutation)\n",
    "    if match:\n",
    "        ref, change, alt = match.groups()\n",
    "        ref_from, ref_to = change.split('>')\n",
    "\n",
    "        if ref_from not in ['C', 'T']:\n",
    "            ref_from = complement[ref_from]\n",
    "            ref_to = complement[ref_to]\n",
    "            ref = complement[alt]\n",
    "            alt = complement[ref]\n",
    "\n",
    "        return f\"{ref}[{ref_from}>{ref_to}]{alt}\"\n",
    "\n",
    "    return mutation"
   ]
  },
  {
   "cell_type": "code",
   "execution_count": 27,
   "id": "00ac6257",
   "metadata": {
    "execution": {
     "iopub.execute_input": "2025-06-29T14:09:55.811764Z",
     "iopub.status.busy": "2025-06-29T14:09:55.811236Z",
     "iopub.status.idle": "2025-06-29T14:10:09.143075Z",
     "shell.execute_reply": "2025-06-29T14:10:09.142460Z"
    },
    "papermill": {
     "duration": 13.347838,
     "end_time": "2025-06-29T14:10:09.144397",
     "exception": false,
     "start_time": "2025-06-29T14:09:55.796559",
     "status": "completed"
    },
    "tags": []
   },
   "outputs": [
    {
     "name": "stderr",
     "output_type": "stream",
     "text": [
      "2025-06-29 14:09:57.353030: E external/local_xla/xla/stream_executor/cuda/cuda_fft.cc:477] Unable to register cuFFT factory: Attempting to register factory for plugin cuFFT when one has already been registered\n",
      "WARNING: All log messages before absl::InitializeLog() is called are written to STDERR\n",
      "E0000 00:00:1751206197.540385      19 cuda_dnn.cc:8310] Unable to register cuDNN factory: Attempting to register factory for plugin cuDNN when one has already been registered\n",
      "E0000 00:00:1751206197.592929      19 cuda_blas.cc:1418] Unable to register cuBLAS factory: Attempting to register factory for plugin cuBLAS when one has already been registered\n",
      "/tmp/ipykernel_19/1731204343.py:11: SettingWithCopyWarning: \n",
      "A value is trying to be set on a copy of a slice from a DataFrame.\n",
      "Try using .loc[row_indexer,col_indexer] = value instead\n",
      "\n",
      "See the caveats in the documentation: https://pandas.pydata.org/pandas-docs/stable/user_guide/indexing.html#returning-a-view-versus-a-copy\n",
      "  filtered_df['primary_site_cat'] = filtered_df['primary_site'].astype('category').cat.codes\n"
     ]
    }
   ],
   "source": [
    "from tensorflow.keras.preprocessing.text import Tokenizer\n",
    "\n",
    "mutations = ['A[A>C]A', 'G[G>A]T', 'C[C>T]G', 'T[T>G]T']\n",
    "\n",
    "df['MutationType'] = df['Mutational_Motif'].apply(normalize_mutation)\n",
    "\n",
    "top_sites = df['primary_site'].value_counts().nlargest(24).index\n",
    "\n",
    "filtered_df = df[df['primary_site'].isin(top_sites)]\n",
    "\n",
    "filtered_df['primary_site_cat'] = filtered_df['primary_site'].astype('category').cat.codes\n",
    "\n",
    "\n",
    "grouped_mutations_df = filtered_df.groupby('case_barcode').agg({\n",
    "    'Mutational_Motif': list,\n",
    "    'Genomic_Bin': list,\n",
    "    'Hugo_Symbol': list,\n",
    "    'primary_site': 'first',\n",
    "    'primary_site_cat': 'first',\n",
    "}).reset_index()\n",
    "\n"
   ]
  },
  {
   "cell_type": "markdown",
   "id": "aa685009",
   "metadata": {
    "papermill": {
     "duration": 0.014198,
     "end_time": "2025-06-29T14:10:09.173841",
     "exception": false,
     "start_time": "2025-06-29T14:10:09.159643",
     "status": "completed"
    },
    "tags": []
   },
   "source": [
    "### Normalizacja ekspresji RNA przez logarytmowanie "
   ]
  },
  {
   "cell_type": "code",
   "execution_count": 28,
   "id": "6ac3d325",
   "metadata": {
    "execution": {
     "iopub.execute_input": "2025-06-29T14:10:09.203617Z",
     "iopub.status.busy": "2025-06-29T14:10:09.203193Z",
     "iopub.status.idle": "2025-06-29T14:10:10.890152Z",
     "shell.execute_reply": "2025-06-29T14:10:10.889537Z"
    },
    "papermill": {
     "duration": 1.703314,
     "end_time": "2025-06-29T14:10:10.891479",
     "exception": false,
     "start_time": "2025-06-29T14:10:09.188165",
     "status": "completed"
    },
    "tags": []
   },
   "outputs": [],
   "source": [
    "import numpy as np\n",
    "\n",
    "df_expr['tpm_unstranded'] = df_expr['tpm_unstranded'].apply(lambda x: np.log1p(x))"
   ]
  },
  {
   "cell_type": "code",
   "execution_count": 29,
   "id": "4a24d7d7",
   "metadata": {
    "execution": {
     "iopub.execute_input": "2025-06-29T14:10:10.921941Z",
     "iopub.status.busy": "2025-06-29T14:10:10.921665Z",
     "iopub.status.idle": "2025-06-29T14:10:10.926056Z",
     "shell.execute_reply": "2025-06-29T14:10:10.925499Z"
    },
    "papermill": {
     "duration": 0.02051,
     "end_time": "2025-06-29T14:10:10.927099",
     "exception": false,
     "start_time": "2025-06-29T14:10:10.906589",
     "status": "completed"
    },
    "tags": []
   },
   "outputs": [
    {
     "data": {
      "text/plain": [
       "(1445931, 3)"
      ]
     },
     "execution_count": 29,
     "metadata": {},
     "output_type": "execute_result"
    }
   ],
   "source": [
    "df_expr.shape"
   ]
  },
  {
   "cell_type": "markdown",
   "id": "10485b2c",
   "metadata": {
    "papermill": {
     "duration": 0.014356,
     "end_time": "2025-06-29T14:10:10.956138",
     "exception": false,
     "start_time": "2025-06-29T14:10:10.941782",
     "status": "completed"
    },
    "tags": []
   },
   "source": [
    "### Duplicate deletion  \n",
    "Some case_barcode entries may have multiple tpm_unstranded values for the same gene_name. The objective is to achieve a data frame grouped by case_barcode where the tpm_unstranded vector keeps its values in a list, where each list index corresponds to a specific gene and the gene order is the same for all rows."
   ]
  },
  {
   "cell_type": "code",
   "execution_count": 30,
   "id": "a3830bd8",
   "metadata": {
    "execution": {
     "iopub.execute_input": "2025-06-29T14:10:10.986220Z",
     "iopub.status.busy": "2025-06-29T14:10:10.985560Z",
     "iopub.status.idle": "2025-06-29T14:10:11.635829Z",
     "shell.execute_reply": "2025-06-29T14:10:11.635086Z"
    },
    "papermill": {
     "duration": 0.666597,
     "end_time": "2025-06-29T14:10:11.637159",
     "exception": false,
     "start_time": "2025-06-29T14:10:10.970562",
     "status": "completed"
    },
    "tags": []
   },
   "outputs": [
    {
     "data": {
      "text/plain": [
       "<bound method NDFrame.head of        case_barcode                                     tpm_unstranded  \\\n",
       "0      TCGA-02-0003  [2.559024145705895, 2.0067902004317144, 3.4190...   \n",
       "1      TCGA-02-0016  [7.623641213373473, 6.179794889934382, 2.93729...   \n",
       "2      TCGA-02-0026  [3.252213884478711, 2.8253649789948887, 3.3315...   \n",
       "3      TCGA-02-0033  [2.465604897033222, 3.8236834741046226, 2.4913...   \n",
       "4      TCGA-02-0038  [3.187240668494587, 3.1939640882719176, 3.6423...   \n",
       "...             ...                                                ...   \n",
       "10506  TCGA-ZS-A9CF  [1.8214800706771364, 0.4665602074679753, 2.306...   \n",
       "10507  TCGA-ZS-A9CG  [1.2586314296297347, 2.068898660303277, 0.7082...   \n",
       "10508  TCGA-ZT-A8OM  [0.5943760184599247, 1.1593937609279688, 3.248...   \n",
       "10509  TCGA-ZU-A8S4  [2.8861908076695646, 1.2845938062935514, 2.134...   \n",
       "10510  TCGA-ZX-AA5X  [2.58435975098136, 1.5527829012775214, 2.43793...   \n",
       "\n",
       "                                               gene_name  \n",
       "0      [TSC1, BCL2, KDM5C, TET2, PIK3CA, BRCA2, AXIN1...  \n",
       "1      [EGFR, B2M, KMT2D, H3C2, SETBP1, AKT1, ALK, JA...  \n",
       "2      [TSC1, JAK2, MSH2, NCOR1, CIC, JAK1, GNA11, MA...  \n",
       "3      [MYD88, BAP1, PTEN, ERBB2, PTCH1, NPM1, PBRM1,...  \n",
       "4      [NFE2L2, KDM5C, NPM1, AKT1, SMAD4, MED12, H3-3...  \n",
       "...                                                  ...  \n",
       "10506  [ATRX, KIT, CYLD, GNA11, H3C2, BRCA1, SRSF2, C...  \n",
       "10507  [ARID2, NCOR1, BRCA1, VHL, TNFAIP3, MAP2K1, CD...  \n",
       "10508  [TET2, KMT2C, CSF1R, CEBPA, NFE2L2, SOCS1, TP5...  \n",
       "10509  [EP300, KDM6A, KMT2D, MAP2K1, VHL, ALK, JAK2, ...  \n",
       "10510  [SMO, ATM, SOCS1, IDH2, EZH2, U2AF1, ACVR1B, A...  \n",
       "\n",
       "[10511 rows x 3 columns]>"
      ]
     },
     "execution_count": 30,
     "metadata": {},
     "output_type": "execute_result"
    }
   ],
   "source": [
    "badly_grouped = df_expr.groupby('case_barcode').agg({\n",
    "    'tpm_unstranded': list,\n",
    "    'gene_name': list\n",
    "}).reset_index()\n",
    "badly_grouped.head"
   ]
  },
  {
   "cell_type": "markdown",
   "id": "71809f1f",
   "metadata": {
    "papermill": {
     "duration": 0.014336,
     "end_time": "2025-06-29T14:10:11.666675",
     "exception": false,
     "start_time": "2025-06-29T14:10:11.652339",
     "status": "completed"
    },
    "tags": []
   },
   "source": [
    "To achieve the effect mentioned above, I'm using a median of all duplicate values for case_barcode + gene_name pairs"
   ]
  },
  {
   "cell_type": "code",
   "execution_count": 31,
   "id": "2b81fa30",
   "metadata": {
    "execution": {
     "iopub.execute_input": "2025-06-29T14:10:11.696338Z",
     "iopub.status.busy": "2025-06-29T14:10:11.696106Z",
     "iopub.status.idle": "2025-06-29T14:10:12.372493Z",
     "shell.execute_reply": "2025-06-29T14:10:12.371510Z"
    },
    "papermill": {
     "duration": 0.692636,
     "end_time": "2025-06-29T14:10:12.373707",
     "exception": false,
     "start_time": "2025-06-29T14:10:11.681071",
     "status": "completed"
    },
    "tags": []
   },
   "outputs": [
    {
     "name": "stdout",
     "output_type": "stream",
     "text": [
      "              gene_name  median\n",
      "case_barcode                   \n",
      "TCGA-02-0003        125     125\n",
      "TCGA-02-0016        125     125\n",
      "TCGA-02-0026        125     125\n",
      "TCGA-02-0033        125     125\n",
      "TCGA-02-0038        125     125\n",
      "...                 ...     ...\n",
      "TCGA-ZS-A9CF        125     125\n",
      "TCGA-ZS-A9CG        125     125\n",
      "TCGA-ZT-A8OM        125     125\n",
      "TCGA-ZU-A8S4        125     125\n",
      "TCGA-ZX-AA5X        125     125\n",
      "\n",
      "[10511 rows x 2 columns]\n",
      "         case_barcode gene_name    median\n",
      "0        TCGA-02-0003      ABL1  3.611361\n",
      "1        TCGA-02-0003    ACVR1B  3.060860\n",
      "2        TCGA-02-0003      AKT1  3.204809\n",
      "3        TCGA-02-0003       ALK  1.604908\n",
      "4        TCGA-02-0003     AMER1  1.580442\n",
      "...               ...       ...       ...\n",
      "1313870  TCGA-ZX-AA5X      TSC1  2.251881\n",
      "1313871  TCGA-ZX-AA5X      TSHR  0.051263\n",
      "1313872  TCGA-ZX-AA5X     U2AF1  0.539180\n",
      "1313873  TCGA-ZX-AA5X       VHL  3.609474\n",
      "1313874  TCGA-ZX-AA5X       WT1  0.869325\n",
      "\n",
      "[1313875 rows x 3 columns]\n"
     ]
    }
   ],
   "source": [
    "temp = df_expr.groupby(['case_barcode', 'gene_name'])['tpm_unstranded'].agg(['median'])#.sort_values(0, ascending=False)\n",
    "print(temp.reset_index().groupby(['case_barcode']).agg('count'))\n",
    "temp = temp.reset_index()\n",
    "print(temp)\n",
    "#X_rna_df = temp.pivot(index='case_barcode', columns='gene_name', values='median')\n",
    "#X_rna_df.fillna(0, inplace=True)\n",
    "#print(X_rna_df)"
   ]
  },
  {
   "cell_type": "code",
   "execution_count": 32,
   "id": "9571d40c",
   "metadata": {
    "execution": {
     "iopub.execute_input": "2025-06-29T14:10:12.405381Z",
     "iopub.status.busy": "2025-06-29T14:10:12.405143Z",
     "iopub.status.idle": "2025-06-29T14:10:12.986315Z",
     "shell.execute_reply": "2025-06-29T14:10:12.985706Z"
    },
    "papermill": {
     "duration": 0.59782,
     "end_time": "2025-06-29T14:10:12.987620",
     "exception": false,
     "start_time": "2025-06-29T14:10:12.389800",
     "status": "completed"
    },
    "tags": []
   },
   "outputs": [],
   "source": [
    "grouped_expression_df = temp.groupby('case_barcode').agg({\n",
    "    'gene_name': list,\n",
    "    'median': list,\n",
    "}).reset_index()"
   ]
  },
  {
   "cell_type": "code",
   "execution_count": 33,
   "id": "9c5e5667",
   "metadata": {
    "execution": {
     "iopub.execute_input": "2025-06-29T14:10:13.018423Z",
     "iopub.status.busy": "2025-06-29T14:10:13.018215Z",
     "iopub.status.idle": "2025-06-29T14:10:13.035470Z",
     "shell.execute_reply": "2025-06-29T14:10:13.034644Z"
    },
    "papermill": {
     "duration": 0.033579,
     "end_time": "2025-06-29T14:10:13.036600",
     "exception": false,
     "start_time": "2025-06-29T14:10:13.003021",
     "status": "completed"
    },
    "tags": []
   },
   "outputs": [
    {
     "name": "stderr",
     "output_type": "stream",
     "text": [
      "/tmp/ipykernel_19/1779779152.py:1: FutureWarning: using <built-in function len> in Series.agg cannot aggregate and has been deprecated. Use Series.transform to keep behavior unchanged.\n",
      "  grouped_expression_df['median'].agg([len])\n"
     ]
    },
    {
     "data": {
      "text/html": [
       "<div>\n",
       "<style scoped>\n",
       "    .dataframe tbody tr th:only-of-type {\n",
       "        vertical-align: middle;\n",
       "    }\n",
       "\n",
       "    .dataframe tbody tr th {\n",
       "        vertical-align: top;\n",
       "    }\n",
       "\n",
       "    .dataframe thead th {\n",
       "        text-align: right;\n",
       "    }\n",
       "</style>\n",
       "<table border=\"1\" class=\"dataframe\">\n",
       "  <thead>\n",
       "    <tr style=\"text-align: right;\">\n",
       "      <th></th>\n",
       "      <th>len</th>\n",
       "    </tr>\n",
       "  </thead>\n",
       "  <tbody>\n",
       "    <tr>\n",
       "      <th>0</th>\n",
       "      <td>125</td>\n",
       "    </tr>\n",
       "    <tr>\n",
       "      <th>1</th>\n",
       "      <td>125</td>\n",
       "    </tr>\n",
       "    <tr>\n",
       "      <th>2</th>\n",
       "      <td>125</td>\n",
       "    </tr>\n",
       "    <tr>\n",
       "      <th>3</th>\n",
       "      <td>125</td>\n",
       "    </tr>\n",
       "    <tr>\n",
       "      <th>4</th>\n",
       "      <td>125</td>\n",
       "    </tr>\n",
       "    <tr>\n",
       "      <th>...</th>\n",
       "      <td>...</td>\n",
       "    </tr>\n",
       "    <tr>\n",
       "      <th>10506</th>\n",
       "      <td>125</td>\n",
       "    </tr>\n",
       "    <tr>\n",
       "      <th>10507</th>\n",
       "      <td>125</td>\n",
       "    </tr>\n",
       "    <tr>\n",
       "      <th>10508</th>\n",
       "      <td>125</td>\n",
       "    </tr>\n",
       "    <tr>\n",
       "      <th>10509</th>\n",
       "      <td>125</td>\n",
       "    </tr>\n",
       "    <tr>\n",
       "      <th>10510</th>\n",
       "      <td>125</td>\n",
       "    </tr>\n",
       "  </tbody>\n",
       "</table>\n",
       "<p>10511 rows × 1 columns</p>\n",
       "</div>"
      ],
      "text/plain": [
       "       len\n",
       "0      125\n",
       "1      125\n",
       "2      125\n",
       "3      125\n",
       "4      125\n",
       "...    ...\n",
       "10506  125\n",
       "10507  125\n",
       "10508  125\n",
       "10509  125\n",
       "10510  125\n",
       "\n",
       "[10511 rows x 1 columns]"
      ]
     },
     "execution_count": 33,
     "metadata": {},
     "output_type": "execute_result"
    }
   ],
   "source": [
    "grouped_expression_df['median'].agg([len])"
   ]
  },
  {
   "cell_type": "code",
   "execution_count": 34,
   "id": "3a1e8815",
   "metadata": {
    "execution": {
     "iopub.execute_input": "2025-06-29T14:10:13.068581Z",
     "iopub.status.busy": "2025-06-29T14:10:13.068044Z",
     "iopub.status.idle": "2025-06-29T14:10:13.071157Z",
     "shell.execute_reply": "2025-06-29T14:10:13.070608Z"
    },
    "papermill": {
     "duration": 0.020009,
     "end_time": "2025-06-29T14:10:13.072132",
     "exception": false,
     "start_time": "2025-06-29T14:10:13.052123",
     "status": "completed"
    },
    "tags": []
   },
   "outputs": [],
   "source": [
    "# Step 1: Flatten the index\n",
    "#temp_flat = temp.reset_index()\n",
    "\n",
    "# Step 2: Pivot to get genes as columns\n",
    "#pivot_df = temp_flat.pivot(index='case_barcode', columns='gene_name', values=('tpm_unstranded', 'median'))\n",
    "\n",
    "# Step 3: Ensure consistent gene order (optional but recommended)\n",
    "#pivot_df = pivot_df.sort_index(axis=1)\n",
    "\n",
    "# Step 4: Create the desired dataframe\n",
    "#df_rna = pivot_df.apply(lambda row: row.tolist(), axis=1).reset_index()\n",
    "#df_rna.columns = ['case_barcode', 'rna_expression']\n"
   ]
  },
  {
   "cell_type": "code",
   "execution_count": 35,
   "id": "8dc32cf7",
   "metadata": {
    "execution": {
     "iopub.execute_input": "2025-06-29T14:10:13.102535Z",
     "iopub.status.busy": "2025-06-29T14:10:13.102332Z",
     "iopub.status.idle": "2025-06-29T14:10:13.105363Z",
     "shell.execute_reply": "2025-06-29T14:10:13.104654Z"
    },
    "papermill": {
     "duration": 0.019446,
     "end_time": "2025-06-29T14:10:13.106464",
     "exception": false,
     "start_time": "2025-06-29T14:10:13.087018",
     "status": "completed"
    },
    "tags": []
   },
   "outputs": [],
   "source": [
    "#from sklearn.preprocessing import StandardScaler\n",
    "\n",
    "#scaler = StandardScaler()\n",
    "#X_rna_scaled = scaler.fit_transform(X_rna)  # X_rna shape: (samples, genes)"
   ]
  },
  {
   "cell_type": "markdown",
   "id": "9166fda7",
   "metadata": {
    "papermill": {
     "duration": 0.01456,
     "end_time": "2025-06-29T14:10:13.135767",
     "exception": false,
     "start_time": "2025-06-29T14:10:13.121207",
     "status": "completed"
    },
    "tags": []
   },
   "source": [
    "### Multiomic data frame: "
   ]
  },
  {
   "cell_type": "code",
   "execution_count": 36,
   "id": "9825175f",
   "metadata": {
    "execution": {
     "iopub.execute_input": "2025-06-29T14:10:13.166167Z",
     "iopub.status.busy": "2025-06-29T14:10:13.165944Z",
     "iopub.status.idle": "2025-06-29T14:10:13.170196Z",
     "shell.execute_reply": "2025-06-29T14:10:13.169507Z"
    },
    "papermill": {
     "duration": 0.020992,
     "end_time": "2025-06-29T14:10:13.171488",
     "exception": false,
     "start_time": "2025-06-29T14:10:13.150496",
     "status": "completed"
    },
    "tags": []
   },
   "outputs": [
    {
     "data": {
      "text/plain": [
       "(8073, 6)"
      ]
     },
     "execution_count": 36,
     "metadata": {},
     "output_type": "execute_result"
    }
   ],
   "source": [
    "grouped_mutations_df.shape"
   ]
  },
  {
   "cell_type": "code",
   "execution_count": 37,
   "id": "3bb4628e",
   "metadata": {
    "execution": {
     "iopub.execute_input": "2025-06-29T14:10:13.201947Z",
     "iopub.status.busy": "2025-06-29T14:10:13.201513Z",
     "iopub.status.idle": "2025-06-29T14:10:13.218333Z",
     "shell.execute_reply": "2025-06-29T14:10:13.217564Z"
    },
    "papermill": {
     "duration": 0.033248,
     "end_time": "2025-06-29T14:10:13.219447",
     "exception": false,
     "start_time": "2025-06-29T14:10:13.186199",
     "status": "completed"
    },
    "tags": []
   },
   "outputs": [],
   "source": [
    "grouped_df = pd.merge(grouped_mutations_df, grouped_expression_df, on=\"case_barcode\", suffixes=('_mutation', '_expression'))"
   ]
  },
  {
   "cell_type": "code",
   "execution_count": 38,
   "id": "1673d06b",
   "metadata": {
    "execution": {
     "iopub.execute_input": "2025-06-29T14:10:13.250191Z",
     "iopub.status.busy": "2025-06-29T14:10:13.249980Z",
     "iopub.status.idle": "2025-06-29T14:10:13.276604Z",
     "shell.execute_reply": "2025-06-29T14:10:13.275890Z"
    },
    "papermill": {
     "duration": 0.043155,
     "end_time": "2025-06-29T14:10:13.277688",
     "exception": false,
     "start_time": "2025-06-29T14:10:13.234533",
     "status": "completed"
    },
    "tags": []
   },
   "outputs": [
    {
     "data": {
      "text/html": [
       "<div>\n",
       "<style scoped>\n",
       "    .dataframe tbody tr th:only-of-type {\n",
       "        vertical-align: middle;\n",
       "    }\n",
       "\n",
       "    .dataframe tbody tr th {\n",
       "        vertical-align: top;\n",
       "    }\n",
       "\n",
       "    .dataframe thead th {\n",
       "        text-align: right;\n",
       "    }\n",
       "</style>\n",
       "<table border=\"1\" class=\"dataframe\">\n",
       "  <thead>\n",
       "    <tr style=\"text-align: right;\">\n",
       "      <th></th>\n",
       "      <th>case_barcode</th>\n",
       "      <th>Mutational_Motif</th>\n",
       "      <th>Genomic_Bin</th>\n",
       "      <th>Hugo_Symbol</th>\n",
       "      <th>primary_site</th>\n",
       "      <th>primary_site_cat</th>\n",
       "      <th>gene_name</th>\n",
       "      <th>median</th>\n",
       "    </tr>\n",
       "  </thead>\n",
       "  <tbody>\n",
       "    <tr>\n",
       "      <th>0</th>\n",
       "      <td>TCGA-02-0003</td>\n",
       "      <td>[G[G&gt;T]T, C[G&gt;A]G, G[G&gt;A]G, T[G&gt;A]C]</td>\n",
       "      <td>[chr17_7000000, chr17_7000000, chr5_68000000, ...</td>\n",
       "      <td>[TP53, TP53, PIK3R1, EGFR]</td>\n",
       "      <td>Brain</td>\n",
       "      <td>1</td>\n",
       "      <td>[ABL1, ACVR1B, AKT1, ALK, AMER1, APC, AR, ARID...</td>\n",
       "      <td>[3.611361057684199, 3.0608596837623514, 3.2048...</td>\n",
       "    </tr>\n",
       "    <tr>\n",
       "      <th>1</th>\n",
       "      <td>TCGA-02-0033</td>\n",
       "      <td>[T[G&gt;T]G, T[G&gt;A]A, C[C&gt;T]A, C[C&gt;T]G]</td>\n",
       "      <td>[chr10_121000000, chr3_179000000, chr13_480000...</td>\n",
       "      <td>[FGFR2, PIK3CA, RB1, TP53]</td>\n",
       "      <td>Brain</td>\n",
       "      <td>1</td>\n",
       "      <td>[ABL1, ACVR1B, AKT1, ALK, AMER1, APC, AR, ARID...</td>\n",
       "      <td>[3.345050221039154, 3.040112729234723, 3.23313...</td>\n",
       "    </tr>\n",
       "    <tr>\n",
       "      <th>2</th>\n",
       "      <td>TCGA-02-0047</td>\n",
       "      <td>[A[T&gt;A]G]</td>\n",
       "      <td>[chr3_179000000]</td>\n",
       "      <td>[PIK3CA]</td>\n",
       "      <td>Brain</td>\n",
       "      <td>1</td>\n",
       "      <td>[ABL1, ACVR1B, AKT1, ALK, AMER1, APC, AR, ARID...</td>\n",
       "      <td>[3.995714579070823, 3.4241460494155675, 3.4238...</td>\n",
       "    </tr>\n",
       "    <tr>\n",
       "      <th>3</th>\n",
       "      <td>TCGA-02-0055</td>\n",
       "      <td>[C[del38]A, A[C&gt;T]A, G[C&gt;T]G, A[A&gt;G]C]</td>\n",
       "      <td>[chr13_48000000, chr17_7000000, chr20_32000000...</td>\n",
       "      <td>[RB1, TP53, ASXL1, PTEN]</td>\n",
       "      <td>Brain</td>\n",
       "      <td>1</td>\n",
       "      <td>[ABL1, ACVR1B, AKT1, ALK, AMER1, APC, AR, ARID...</td>\n",
       "      <td>[3.613908816960211, 2.5802467492090617, 3.0212...</td>\n",
       "    </tr>\n",
       "    <tr>\n",
       "      <th>4</th>\n",
       "      <td>TCGA-02-2466</td>\n",
       "      <td>[T[G&gt;A]A, C[T&gt;G]C, C[G&gt;A]A, G[C&gt;T]C]</td>\n",
       "      <td>[chr6_33000000, chr16_3000000, chr19_11000000,...</td>\n",
       "      <td>[DAXX, CREBBP, SMARCA4, EGFR]</td>\n",
       "      <td>Brain</td>\n",
       "      <td>1</td>\n",
       "      <td>[ABL1, ACVR1B, AKT1, ALK, AMER1, APC, AR, ARID...</td>\n",
       "      <td>[3.41197575243391, 2.6808708324286687, 2.68120...</td>\n",
       "    </tr>\n",
       "    <tr>\n",
       "      <th>...</th>\n",
       "      <td>...</td>\n",
       "      <td>...</td>\n",
       "      <td>...</td>\n",
       "      <td>...</td>\n",
       "      <td>...</td>\n",
       "      <td>...</td>\n",
       "      <td>...</td>\n",
       "      <td>...</td>\n",
       "    </tr>\n",
       "    <tr>\n",
       "      <th>7722</th>\n",
       "      <td>TCGA-ZS-A9CE</td>\n",
       "      <td>[T[C&gt;A]C, A[del1]G, G[C&gt;T]C, G[A&gt;C]G]</td>\n",
       "      <td>[chr1_77000000, chr1_77000000, chr4_152000000,...</td>\n",
       "      <td>[FUBP1, FUBP1, FBXW7, PIK3CA]</td>\n",
       "      <td>Liver and intrahepatic bile ducts</td>\n",
       "      <td>11</td>\n",
       "      <td>[ABL1, ACVR1B, AKT1, ALK, AMER1, APC, AR, ARID...</td>\n",
       "      <td>[2.548640159490796, 3.4134519863291546, 3.0836...</td>\n",
       "    </tr>\n",
       "    <tr>\n",
       "      <th>7723</th>\n",
       "      <td>TCGA-ZS-A9CF</td>\n",
       "      <td>[C[C&gt;T]C, C[C&gt;T]C, T[T&gt;C]T, T[T&gt;C]T]</td>\n",
       "      <td>[chr5_150000000, chr5_150000000, chr20_3200000...</td>\n",
       "      <td>[CSF1R, CSF1R, ASXL1, ASXL1]</td>\n",
       "      <td>Liver and intrahepatic bile ducts</td>\n",
       "      <td>11</td>\n",
       "      <td>[ABL1, ACVR1B, AKT1, ALK, AMER1, APC, AR, ARID...</td>\n",
       "      <td>[3.088381368353286, 3.8010003458022124, 2.7798...</td>\n",
       "    </tr>\n",
       "    <tr>\n",
       "      <th>7724</th>\n",
       "      <td>TCGA-ZS-A9CG</td>\n",
       "      <td>[G[ins7]A, A[T&gt;A]G, T[C&gt;T]C, C[A&gt;T]G, T[G&gt;A]G]</td>\n",
       "      <td>[chr11_119000000, chr7_129000000, chr6_1060000...</td>\n",
       "      <td>[CBL, SMO, PRDM1, BAP1, CTNNB1]</td>\n",
       "      <td>Liver and intrahepatic bile ducts</td>\n",
       "      <td>11</td>\n",
       "      <td>[ABL1, ACVR1B, AKT1, ALK, AMER1, APC, AR, ARID...</td>\n",
       "      <td>[2.8677170673313586, 3.2608350924482234, 2.589...</td>\n",
       "    </tr>\n",
       "    <tr>\n",
       "      <th>7725</th>\n",
       "      <td>TCGA-ZU-A8S4</td>\n",
       "      <td>[C[C&gt;A]A, A[del5]C, C[A&gt;T]C]</td>\n",
       "      <td>[chr7_152000000, chr1_26000000, chr7_140000000]</td>\n",
       "      <td>[KMT2C, ARID1A, BRAF]</td>\n",
       "      <td>Liver and intrahepatic bile ducts</td>\n",
       "      <td>11</td>\n",
       "      <td>[ABL1, ACVR1B, AKT1, ALK, AMER1, APC, AR, ARID...</td>\n",
       "      <td>[2.9667274697173696, 2.7056751675720454, 3.104...</td>\n",
       "    </tr>\n",
       "    <tr>\n",
       "      <th>7726</th>\n",
       "      <td>TCGA-ZX-AA5X</td>\n",
       "      <td>[T[T&gt;A]G]</td>\n",
       "      <td>[chr22_41000000]</td>\n",
       "      <td>[EP300]</td>\n",
       "      <td>Cervix uteri</td>\n",
       "      <td>4</td>\n",
       "      <td>[ABL1, ACVR1B, AKT1, ALK, AMER1, APC, AR, ARID...</td>\n",
       "      <td>[3.7788435508661578, 3.4422113577527695, 3.436...</td>\n",
       "    </tr>\n",
       "  </tbody>\n",
       "</table>\n",
       "<p>7727 rows × 8 columns</p>\n",
       "</div>"
      ],
      "text/plain": [
       "      case_barcode                                Mutational_Motif  \\\n",
       "0     TCGA-02-0003            [G[G>T]T, C[G>A]G, G[G>A]G, T[G>A]C]   \n",
       "1     TCGA-02-0033            [T[G>T]G, T[G>A]A, C[C>T]A, C[C>T]G]   \n",
       "2     TCGA-02-0047                                       [A[T>A]G]   \n",
       "3     TCGA-02-0055          [C[del38]A, A[C>T]A, G[C>T]G, A[A>G]C]   \n",
       "4     TCGA-02-2466            [T[G>A]A, C[T>G]C, C[G>A]A, G[C>T]C]   \n",
       "...            ...                                             ...   \n",
       "7722  TCGA-ZS-A9CE           [T[C>A]C, A[del1]G, G[C>T]C, G[A>C]G]   \n",
       "7723  TCGA-ZS-A9CF            [C[C>T]C, C[C>T]C, T[T>C]T, T[T>C]T]   \n",
       "7724  TCGA-ZS-A9CG  [G[ins7]A, A[T>A]G, T[C>T]C, C[A>T]G, T[G>A]G]   \n",
       "7725  TCGA-ZU-A8S4                    [C[C>A]A, A[del5]C, C[A>T]C]   \n",
       "7726  TCGA-ZX-AA5X                                       [T[T>A]G]   \n",
       "\n",
       "                                            Genomic_Bin  \\\n",
       "0     [chr17_7000000, chr17_7000000, chr5_68000000, ...   \n",
       "1     [chr10_121000000, chr3_179000000, chr13_480000...   \n",
       "2                                      [chr3_179000000]   \n",
       "3     [chr13_48000000, chr17_7000000, chr20_32000000...   \n",
       "4     [chr6_33000000, chr16_3000000, chr19_11000000,...   \n",
       "...                                                 ...   \n",
       "7722  [chr1_77000000, chr1_77000000, chr4_152000000,...   \n",
       "7723  [chr5_150000000, chr5_150000000, chr20_3200000...   \n",
       "7724  [chr11_119000000, chr7_129000000, chr6_1060000...   \n",
       "7725    [chr7_152000000, chr1_26000000, chr7_140000000]   \n",
       "7726                                   [chr22_41000000]   \n",
       "\n",
       "                          Hugo_Symbol                       primary_site  \\\n",
       "0          [TP53, TP53, PIK3R1, EGFR]                              Brain   \n",
       "1          [FGFR2, PIK3CA, RB1, TP53]                              Brain   \n",
       "2                            [PIK3CA]                              Brain   \n",
       "3            [RB1, TP53, ASXL1, PTEN]                              Brain   \n",
       "4       [DAXX, CREBBP, SMARCA4, EGFR]                              Brain   \n",
       "...                               ...                                ...   \n",
       "7722    [FUBP1, FUBP1, FBXW7, PIK3CA]  Liver and intrahepatic bile ducts   \n",
       "7723     [CSF1R, CSF1R, ASXL1, ASXL1]  Liver and intrahepatic bile ducts   \n",
       "7724  [CBL, SMO, PRDM1, BAP1, CTNNB1]  Liver and intrahepatic bile ducts   \n",
       "7725            [KMT2C, ARID1A, BRAF]  Liver and intrahepatic bile ducts   \n",
       "7726                          [EP300]                       Cervix uteri   \n",
       "\n",
       "      primary_site_cat                                          gene_name  \\\n",
       "0                    1  [ABL1, ACVR1B, AKT1, ALK, AMER1, APC, AR, ARID...   \n",
       "1                    1  [ABL1, ACVR1B, AKT1, ALK, AMER1, APC, AR, ARID...   \n",
       "2                    1  [ABL1, ACVR1B, AKT1, ALK, AMER1, APC, AR, ARID...   \n",
       "3                    1  [ABL1, ACVR1B, AKT1, ALK, AMER1, APC, AR, ARID...   \n",
       "4                    1  [ABL1, ACVR1B, AKT1, ALK, AMER1, APC, AR, ARID...   \n",
       "...                ...                                                ...   \n",
       "7722                11  [ABL1, ACVR1B, AKT1, ALK, AMER1, APC, AR, ARID...   \n",
       "7723                11  [ABL1, ACVR1B, AKT1, ALK, AMER1, APC, AR, ARID...   \n",
       "7724                11  [ABL1, ACVR1B, AKT1, ALK, AMER1, APC, AR, ARID...   \n",
       "7725                11  [ABL1, ACVR1B, AKT1, ALK, AMER1, APC, AR, ARID...   \n",
       "7726                 4  [ABL1, ACVR1B, AKT1, ALK, AMER1, APC, AR, ARID...   \n",
       "\n",
       "                                                 median  \n",
       "0     [3.611361057684199, 3.0608596837623514, 3.2048...  \n",
       "1     [3.345050221039154, 3.040112729234723, 3.23313...  \n",
       "2     [3.995714579070823, 3.4241460494155675, 3.4238...  \n",
       "3     [3.613908816960211, 2.5802467492090617, 3.0212...  \n",
       "4     [3.41197575243391, 2.6808708324286687, 2.68120...  \n",
       "...                                                 ...  \n",
       "7722  [2.548640159490796, 3.4134519863291546, 3.0836...  \n",
       "7723  [3.088381368353286, 3.8010003458022124, 2.7798...  \n",
       "7724  [2.8677170673313586, 3.2608350924482234, 2.589...  \n",
       "7725  [2.9667274697173696, 2.7056751675720454, 3.104...  \n",
       "7726  [3.7788435508661578, 3.4422113577527695, 3.436...  \n",
       "\n",
       "[7727 rows x 8 columns]"
      ]
     },
     "execution_count": 38,
     "metadata": {},
     "output_type": "execute_result"
    }
   ],
   "source": [
    "grouped_df"
   ]
  },
  {
   "cell_type": "code",
   "execution_count": 39,
   "id": "28444da4",
   "metadata": {
    "execution": {
     "iopub.execute_input": "2025-06-29T14:10:13.309056Z",
     "iopub.status.busy": "2025-06-29T14:10:13.308824Z",
     "iopub.status.idle": "2025-06-29T14:10:13.566265Z",
     "shell.execute_reply": "2025-06-29T14:10:13.565468Z"
    },
    "papermill": {
     "duration": 0.27441,
     "end_time": "2025-06-29T14:10:13.567547",
     "exception": false,
     "start_time": "2025-06-29T14:10:13.293137",
     "status": "completed"
    },
    "tags": []
   },
   "outputs": [],
   "source": [
    "tokenizer_bin = Tokenizer(filters='', lower=False, split=' ', oov_token=\"<OOV>\")\n",
    "tokenizer_bin.fit_on_texts(df['Genomic_Bin'].astype(str).to_list())\n",
    "\n",
    "tokenizer_gene = Tokenizer(filters='', lower=False, split=' ', oov_token=\"<OOV>\")\n",
    "tokenizer_gene.fit_on_texts(df['Hugo_Symbol'].astype(str).to_list())\n",
    "\n",
    "tokenizer_motif = Tokenizer(filters='', lower=False, split=' ', oov_token=\"<OOV>\")\n",
    "tokenizer_motif.fit_on_texts(df['Mutational_Motif'].astype(str).to_list())"
   ]
  },
  {
   "cell_type": "markdown",
   "id": "64df8e02",
   "metadata": {
    "papermill": {
     "duration": 0.014911,
     "end_time": "2025-06-29T14:10:13.598171",
     "exception": false,
     "start_time": "2025-06-29T14:10:13.583260",
     "status": "completed"
    },
    "tags": []
   },
   "source": [
    "### Tokenizacja genów, motywów i binów:"
   ]
  },
  {
   "cell_type": "code",
   "execution_count": 40,
   "id": "c36de9cb",
   "metadata": {
    "execution": {
     "iopub.execute_input": "2025-06-29T14:10:13.629266Z",
     "iopub.status.busy": "2025-06-29T14:10:13.629049Z",
     "iopub.status.idle": "2025-06-29T14:10:13.633314Z",
     "shell.execute_reply": "2025-06-29T14:10:13.632623Z"
    },
    "papermill": {
     "duration": 0.021002,
     "end_time": "2025-06-29T14:10:13.634371",
     "exception": false,
     "start_time": "2025-06-29T14:10:13.613369",
     "status": "completed"
    },
    "tags": []
   },
   "outputs": [],
   "source": [
    "import tensorflow as tf\n",
    "\n",
    "def to_matrix(tokenizer, texts):\n",
    "    sequences = tokenizer.texts_to_sequences(texts)\n",
    "    count_vectors = np.zeros((len(texts), len(tokenizer.word_index) + 1))\n",
    "\n",
    "    for i, seq in enumerate(sequences):\n",
    "        for token in seq:\n",
    "            count_vectors[i, token] += 1\n",
    "\n",
    "    return count_vectors"
   ]
  },
  {
   "cell_type": "code",
   "execution_count": 41,
   "id": "a8392b93",
   "metadata": {
    "execution": {
     "iopub.execute_input": "2025-06-29T14:10:13.665533Z",
     "iopub.status.busy": "2025-06-29T14:10:13.665326Z",
     "iopub.status.idle": "2025-06-29T14:10:13.669120Z",
     "shell.execute_reply": "2025-06-29T14:10:13.668459Z"
    },
    "papermill": {
     "duration": 0.020647,
     "end_time": "2025-06-29T14:10:13.670241",
     "exception": false,
     "start_time": "2025-06-29T14:10:13.649594",
     "status": "completed"
    },
    "tags": []
   },
   "outputs": [],
   "source": [
    "def prepare_data_for(df, tokenizer_bin, tokenizer_gene):\n",
    "    X_bin = to_matrix(tokenizer_bin, df['Genomic_Bin'])\n",
    "    X_gene = to_matrix(tokenizer_gene, df['Hugo_Symbol'])\n",
    "    X_motif = to_matrix(tokenizer_motif, df['Mutational_Motif'])\n",
    "    X_rna = np.array(df['median'].to_list())\n",
    "\n",
    "    return X_bin, X_gene, X_motif, X_rna"
   ]
  },
  {
   "cell_type": "markdown",
   "id": "e272f329",
   "metadata": {
    "papermill": {
     "duration": 0.014812,
     "end_time": "2025-06-29T14:10:13.700056",
     "exception": false,
     "start_time": "2025-06-29T14:10:13.685244",
     "status": "completed"
    },
    "tags": []
   },
   "source": [
    "Końcowe zbiory cech\n",
    "\n",
    "\n",
    "X_bin, X_gene, X_motif, X_rna  "
   ]
  },
  {
   "cell_type": "code",
   "execution_count": 42,
   "id": "af45e774",
   "metadata": {
    "execution": {
     "iopub.execute_input": "2025-06-29T14:10:13.730977Z",
     "iopub.status.busy": "2025-06-29T14:10:13.730515Z",
     "iopub.status.idle": "2025-06-29T14:10:13.916961Z",
     "shell.execute_reply": "2025-06-29T14:10:13.916345Z"
    },
    "papermill": {
     "duration": 0.203221,
     "end_time": "2025-06-29T14:10:13.918272",
     "exception": false,
     "start_time": "2025-06-29T14:10:13.715051",
     "status": "completed"
    },
    "tags": []
   },
   "outputs": [],
   "source": [
    "X_bin, X_gene, X_motif, X_rna = prepare_data_for(grouped_df, tokenizer_bin, tokenizer_gene)\n"
   ]
  },
  {
   "cell_type": "markdown",
   "id": "41442d97",
   "metadata": {
    "papermill": {
     "duration": 0.014949,
     "end_time": "2025-06-29T14:10:13.949172",
     "exception": false,
     "start_time": "2025-06-29T14:10:13.934223",
     "status": "completed"
    },
    "tags": []
   },
   "source": [
    "### Konkatenacja wektorów:  \n",
    "Potrzebny jeszcze wektor motywów"
   ]
  },
  {
   "cell_type": "code",
   "execution_count": 43,
   "id": "06928612",
   "metadata": {
    "execution": {
     "iopub.execute_input": "2025-06-29T14:10:13.980219Z",
     "iopub.status.busy": "2025-06-29T14:10:13.979988Z",
     "iopub.status.idle": "2025-06-29T14:10:14.013967Z",
     "shell.execute_reply": "2025-06-29T14:10:14.013134Z"
    },
    "papermill": {
     "duration": 0.050937,
     "end_time": "2025-06-29T14:10:14.015137",
     "exception": false,
     "start_time": "2025-06-29T14:10:13.964200",
     "status": "completed"
    },
    "tags": []
   },
   "outputs": [
    {
     "name": "stdout",
     "output_type": "stream",
     "text": [
      "(7727, 135)\n",
      "(7727, 127)\n",
      "(7727, 794)\n",
      "(7727, 125)\n",
      "1181\n"
     ]
    }
   ],
   "source": [
    "print(X_bin.shape)\n",
    "print(X_gene.shape)\n",
    "print(X_motif.shape)\n",
    "print(X_rna.shape)\n",
    "print(X_bin.shape[1] + X_gene.shape[1] + X_motif.shape[1] + X_rna.shape[1])\n",
    "X = np.concatenate([X_bin, X_gene, X_motif, X_rna], axis=1)\n"
   ]
  },
  {
   "cell_type": "code",
   "execution_count": 44,
   "id": "9727952b",
   "metadata": {
    "execution": {
     "iopub.execute_input": "2025-06-29T14:10:14.046946Z",
     "iopub.status.busy": "2025-06-29T14:10:14.046678Z",
     "iopub.status.idle": "2025-06-29T14:10:14.050909Z",
     "shell.execute_reply": "2025-06-29T14:10:14.050351Z"
    },
    "papermill": {
     "duration": 0.021189,
     "end_time": "2025-06-29T14:10:14.052002",
     "exception": false,
     "start_time": "2025-06-29T14:10:14.030813",
     "status": "completed"
    },
    "tags": []
   },
   "outputs": [
    {
     "data": {
      "text/plain": [
       "(7727, 1181)"
      ]
     },
     "execution_count": 44,
     "metadata": {},
     "output_type": "execute_result"
    }
   ],
   "source": [
    "X.shape"
   ]
  },
  {
   "cell_type": "code",
   "execution_count": 45,
   "id": "5df60c42",
   "metadata": {
    "execution": {
     "iopub.execute_input": "2025-06-29T14:10:14.083460Z",
     "iopub.status.busy": "2025-06-29T14:10:14.083284Z",
     "iopub.status.idle": "2025-06-29T14:10:14.260796Z",
     "shell.execute_reply": "2025-06-29T14:10:14.259987Z"
    },
    "papermill": {
     "duration": 0.195059,
     "end_time": "2025-06-29T14:10:14.262257",
     "exception": false,
     "start_time": "2025-06-29T14:10:14.067198",
     "status": "completed"
    },
    "tags": []
   },
   "outputs": [],
   "source": [
    "from sklearn.preprocessing import StandardScaler\n",
    "\n",
    "scaler = StandardScaler()\n",
    "X_scaled = scaler.fit_transform(X)"
   ]
  },
  {
   "cell_type": "markdown",
   "id": "32144a55",
   "metadata": {
    "papermill": {
     "duration": 0.017682,
     "end_time": "2025-06-29T14:10:14.297388",
     "exception": false,
     "start_time": "2025-06-29T14:10:14.279706",
     "status": "completed"
    },
    "tags": []
   },
   "source": [
    "### Etykiety: y_primary_site"
   ]
  },
  {
   "cell_type": "code",
   "execution_count": 46,
   "id": "b1938232",
   "metadata": {
    "execution": {
     "iopub.execute_input": "2025-06-29T14:10:14.328383Z",
     "iopub.status.busy": "2025-06-29T14:10:14.328137Z",
     "iopub.status.idle": "2025-06-29T14:10:14.332609Z",
     "shell.execute_reply": "2025-06-29T14:10:14.332068Z"
    },
    "papermill": {
     "duration": 0.021213,
     "end_time": "2025-06-29T14:10:14.333664",
     "exception": false,
     "start_time": "2025-06-29T14:10:14.312451",
     "status": "completed"
    },
    "tags": []
   },
   "outputs": [
    {
     "data": {
      "text/plain": [
       "(7727,)"
      ]
     },
     "execution_count": 46,
     "metadata": {},
     "output_type": "execute_result"
    }
   ],
   "source": [
    "y_primary_site = grouped_df['primary_site_cat'].values\n",
    "y_primary_site.shape"
   ]
  },
  {
   "cell_type": "code",
   "execution_count": null,
   "id": "451a7256",
   "metadata": {
    "papermill": {
     "duration": 0.014883,
     "end_time": "2025-06-29T14:10:14.363910",
     "exception": false,
     "start_time": "2025-06-29T14:10:14.349027",
     "status": "completed"
    },
    "tags": []
   },
   "outputs": [],
   "source": []
  },
  {
   "cell_type": "markdown",
   "id": "b8e2b99b",
   "metadata": {
    "papermill": {
     "duration": 0.014945,
     "end_time": "2025-06-29T14:10:14.393946",
     "exception": false,
     "start_time": "2025-06-29T14:10:14.379001",
     "status": "completed"
    },
    "tags": []
   },
   "source": [
    "## 3. Budowa i trening modelu  \n"
   ]
  },
  {
   "cell_type": "markdown",
   "id": "56995388",
   "metadata": {
    "papermill": {
     "duration": 0.015244,
     "end_time": "2025-06-29T14:10:14.424650",
     "exception": false,
     "start_time": "2025-06-29T14:10:14.409406",
     "status": "completed"
    },
    "tags": []
   },
   "source": [
    "### 1. Architektura  \n",
    "• Wejścia dla każdej grupy cech (warstwy Dense).  \n",
    "• Laczenie (Concatenate) oraz warstwy ukryte.  \n",
    "• Wyjście: softmax nad klasami lokalizacji pierwotnej.  "
   ]
  },
  {
   "cell_type": "code",
   "execution_count": 47,
   "id": "fcf96da7",
   "metadata": {
    "execution": {
     "iopub.execute_input": "2025-06-29T14:10:14.455461Z",
     "iopub.status.busy": "2025-06-29T14:10:14.455267Z",
     "iopub.status.idle": "2025-06-29T14:10:18.312741Z",
     "shell.execute_reply": "2025-06-29T14:10:18.312168Z"
    },
    "papermill": {
     "duration": 3.874589,
     "end_time": "2025-06-29T14:10:18.314189",
     "exception": false,
     "start_time": "2025-06-29T14:10:14.439600",
     "status": "completed"
    },
    "tags": []
   },
   "outputs": [],
   "source": [
    "import torch\n",
    "import torch.nn as nn\n",
    "\n",
    "class MultiInputModel(nn.Module):\n",
    "    def __init__(self, dim_bin, dim_gene, dim_motif, dim_rna, hidden=128, output_dim=24):\n",
    "        super(MultiInputModel, self).__init__()\n",
    "\n",
    "        # Separate pathways for each feature group\n",
    "        self.fc_bin = nn.Sequential(\n",
    "            nn.Linear(dim_bin, hidden),\n",
    "            nn.ReLU()\n",
    "        )\n",
    "        self.fc_gene = nn.Sequential(\n",
    "            nn.Linear(dim_gene, hidden),\n",
    "            nn.ReLU()\n",
    "        )\n",
    "        self.fc_motif = nn.Sequential(\n",
    "            nn.Linear(dim_motif, hidden),\n",
    "            nn.ReLU()\n",
    "        )\n",
    "        self.fc_rna = nn.Sequential(\n",
    "            nn.Linear(dim_rna, hidden),\n",
    "            nn.ReLU()\n",
    "        )\n",
    "\n",
    "        # Combined pathway\n",
    "        self.fc_combined = nn.Sequential(\n",
    "            nn.Linear(hidden * 4, 128),\n",
    "            nn.ReLU(),\n",
    "            nn.Linear(128, output_dim),\n",
    "            nn.Softmax(dim=1)\n",
    "        )\n",
    "\n",
    "    def forward(self, X_bin, X_gene, X_motif, X_rna):\n",
    "        out_bin = self.fc_bin(X_bin)\n",
    "        out_gene = self.fc_gene(X_gene)\n",
    "        out_motif = self.fc_motif(X_motif)\n",
    "        out_rna = self.fc_rna(X_rna)\n",
    "\n",
    "        # Concatenate all processed features\n",
    "        out = torch.cat([out_bin, out_gene, out_motif, out_rna], dim=1)\n",
    "        out = self.fc_combined(out)\n",
    "        return out"
   ]
  },
  {
   "cell_type": "code",
   "execution_count": 48,
   "id": "7694f2ec",
   "metadata": {
    "execution": {
     "iopub.execute_input": "2025-06-29T14:10:18.346371Z",
     "iopub.status.busy": "2025-06-29T14:10:18.346137Z",
     "iopub.status.idle": "2025-06-29T14:10:18.399295Z",
     "shell.execute_reply": "2025-06-29T14:10:18.398584Z"
    },
    "papermill": {
     "duration": 0.070112,
     "end_time": "2025-06-29T14:10:18.400453",
     "exception": false,
     "start_time": "2025-06-29T14:10:18.330341",
     "status": "completed"
    },
    "tags": []
   },
   "outputs": [
    {
     "name": "stdout",
     "output_type": "stream",
     "text": [
      "Używane urządzenie: cuda\n"
     ]
    }
   ],
   "source": [
    "device = torch.device(\"cuda\" if torch.cuda.is_available() else \"cpu\")\n",
    "print(\"Używane urządzenie:\", device)"
   ]
  },
  {
   "cell_type": "markdown",
   "id": "5b53c6b1",
   "metadata": {
    "papermill": {
     "duration": 0.015252,
     "end_time": "2025-06-29T14:10:18.431340",
     "exception": false,
     "start_time": "2025-06-29T14:10:18.416088",
     "status": "completed"
    },
    "tags": []
   },
   "source": [
    "## Model building and training  \n",
    "### 2. Trening  \n",
    "• Podzial na zbiór treningowy/testowy 80/20.  \n",
    "• Optymalizator: Adam, strata: categorical crossentropy.  \n",
    "• Monitorowanie loss i accuracy.  \n",
    "• Uwzglednienie niezbalansowanych etykiet.  "
   ]
  },
  {
   "cell_type": "markdown",
   "id": "1b43b67b",
   "metadata": {
    "papermill": {
     "duration": 0.015256,
     "end_time": "2025-06-29T14:10:18.462997",
     "exception": false,
     "start_time": "2025-06-29T14:10:18.447741",
     "status": "completed"
    },
    "tags": []
   },
   "source": [
    "### Training and testing (and validation) sets"
   ]
  },
  {
   "cell_type": "code",
   "execution_count": 49,
   "id": "8b207bbe",
   "metadata": {
    "execution": {
     "iopub.execute_input": "2025-06-29T14:10:18.494322Z",
     "iopub.status.busy": "2025-06-29T14:10:18.494089Z",
     "iopub.status.idle": "2025-06-29T14:10:18.633538Z",
     "shell.execute_reply": "2025-06-29T14:10:18.632632Z"
    },
    "papermill": {
     "duration": 0.156651,
     "end_time": "2025-06-29T14:10:18.634810",
     "exception": false,
     "start_time": "2025-06-29T14:10:18.478159",
     "status": "completed"
    },
    "tags": []
   },
   "outputs": [
    {
     "name": "stdout",
     "output_type": "stream",
     "text": [
      "(4944, 1181) (4944,) (1546, 1181) (1546,) (1237, 1181) (1237,)\n"
     ]
    }
   ],
   "source": [
    "# Train, test and validation sets\n",
    "from sklearn.model_selection import train_test_split\n",
    "\n",
    "# create test and train sets with respect to imbalanced labels\n",
    "X_train, X_test, y_train, y_test = train_test_split(\n",
    "    X_scaled, y_primary_site, test_size=0.2, stratify=y_primary_site, random_state=42) \n",
    "\n",
    "# create train and validation sets with respect to imbalanced labels\n",
    "X_train, X_val, y_train, y_val = train_test_split(\n",
    "    X_train, y_train, test_size=0.2, stratify=y_train, random_state=42) \n",
    "\n",
    "print(X_train.shape,y_train.shape, X_test.shape, y_test.shape, X_val.shape, y_val.shape)"
   ]
  },
  {
   "cell_type": "markdown",
   "id": "a5e427c1",
   "metadata": {
    "papermill": {
     "duration": 0.015208,
     "end_time": "2025-06-29T14:10:18.666108",
     "exception": false,
     "start_time": "2025-06-29T14:10:18.650900",
     "status": "completed"
    },
    "tags": []
   },
   "source": [
    "### Loss and optimizer"
   ]
  },
  {
   "cell_type": "code",
   "execution_count": 50,
   "id": "b688e34c",
   "metadata": {
    "execution": {
     "iopub.execute_input": "2025-06-29T14:10:18.697601Z",
     "iopub.status.busy": "2025-06-29T14:10:18.697000Z",
     "iopub.status.idle": "2025-06-29T14:10:22.966473Z",
     "shell.execute_reply": "2025-06-29T14:10:22.965906Z"
    },
    "papermill": {
     "duration": 4.286567,
     "end_time": "2025-06-29T14:10:22.967773",
     "exception": false,
     "start_time": "2025-06-29T14:10:18.681206",
     "status": "completed"
    },
    "tags": []
   },
   "outputs": [],
   "source": [
    "model = MultiInputModel(X_bin.shape[1], X_gene.shape[1], X_motif.shape[1], X_rna.shape[1]).to(device)\n",
    "\n",
    "# Funkcja straty i optymalizator\n",
    "criterion = nn.MSELoss()\n",
    "optimizer = torch.optim.Adam(model.parameters(), lr=0.001)"
   ]
  },
  {
   "cell_type": "markdown",
   "id": "4ef3e0df",
   "metadata": {
    "papermill": {
     "duration": 0.015097,
     "end_time": "2025-06-29T14:10:22.999318",
     "exception": false,
     "start_time": "2025-06-29T14:10:22.984221",
     "status": "completed"
    },
    "tags": []
   },
   "source": [
    "### Loss and accuracy monitoring"
   ]
  },
  {
   "cell_type": "code",
   "execution_count": 51,
   "id": "540ddfcd",
   "metadata": {
    "execution": {
     "iopub.execute_input": "2025-06-29T14:10:23.031116Z",
     "iopub.status.busy": "2025-06-29T14:10:23.030313Z",
     "iopub.status.idle": "2025-06-29T14:10:23.036795Z",
     "shell.execute_reply": "2025-06-29T14:10:23.036257Z"
    },
    "papermill": {
     "duration": 0.023322,
     "end_time": "2025-06-29T14:10:23.037836",
     "exception": false,
     "start_time": "2025-06-29T14:10:23.014514",
     "status": "completed"
    },
    "tags": []
   },
   "outputs": [],
   "source": [
    "def train_model(model):\n",
    "    # Initialize history\n",
    "    history = {\n",
    "        'loss': [],\n",
    "        'val_loss': [],\n",
    "        'accuracy': [],\n",
    "        'val_accuracy': []\n",
    "    }\n",
    "    \n",
    "    for epoch in range(500):\n",
    "        optimizer.zero_grad()\n",
    "        model.train()\n",
    "        \n",
    "        X_train_tensor = X_train_tensor.to(device)\n",
    "        y_train_tensor = y_train_tensor.to(device)\n",
    "\n",
    "        # Forward pass\n",
    "        y_pred_train = model(*X_train_tensor)\n",
    "        loss = criterion(y_pred, y_train_tensor)\n",
    "    \n",
    "        loss.backward()\n",
    "        optimizer.step()\n",
    "        \n",
    "        # Compute training accuracy\n",
    "        train_acc = (y_pred_train.argmax(dim=1) == y_train_tensor.argmax(dim=1)).float().mean().item()\n",
    "\n",
    "        # Validation\n",
    "        model.eval()\n",
    "        if epoch % 50 == 0:\n",
    "            print(f\"Epoch {epoch}, Loss: {loss.item():.4f}\")\n",
    "    \n",
    "        with torch.no_grad():\n",
    "            y_pred_val = model(X_val_tensor)\n",
    "            val_loss = criterion(y_pred_val, y_val_tensor)\n",
    "            val_acc = (y_pred_val.argmax(dim=1) == y_val_tensor.argmax(dim=1)).float().mean().item()\n",
    "        \n",
    "        # Store in history\n",
    "        history['loss'].append(loss.item())\n",
    "        history['val_loss'].append(val_loss.item())\n",
    "        history['accuracy'].append(train_acc)\n",
    "        history['val_accuracy'].append(val_acc)\n",
    "    \n",
    "        print(f\"\\nMSE na zbiorze testowym: {val_loss.item():.4f}\")\n",
    "    \n",
    "    return history\n"
   ]
  },
  {
   "cell_type": "code",
   "execution_count": 52,
   "id": "fb814c9e",
   "metadata": {
    "execution": {
     "iopub.execute_input": "2025-06-29T14:10:23.069387Z",
     "iopub.status.busy": "2025-06-29T14:10:23.069188Z",
     "iopub.status.idle": "2025-06-29T14:10:23.084057Z",
     "shell.execute_reply": "2025-06-29T14:10:23.083277Z"
    },
    "papermill": {
     "duration": 0.03189,
     "end_time": "2025-06-29T14:10:23.085227",
     "exception": false,
     "start_time": "2025-06-29T14:10:23.053337",
     "status": "completed"
    },
    "tags": []
   },
   "outputs": [
    {
     "name": "stdout",
     "output_type": "stream",
     "text": [
      " Class Index  Train (scaled)  Test (scaled)  Validation (scaled)  Total\n",
      "           3          956.25          960.0               956.25    957\n",
      "           2          878.12          880.0               881.25    879\n",
      "           1          715.62          715.0               718.75    716\n",
      "           9          550.00          550.0               550.00    550\n",
      "           7          509.37          510.0               512.50    510\n",
      "          20          446.87          450.0               450.00    448\n",
      "           5          415.62          415.0               418.75    416\n",
      "           0          385.94          385.0               387.50    386\n",
      "          21          384.37          385.0               387.50    385\n",
      "          22          376.56          375.0               375.00    376\n",
      "          11          356.25          355.0               356.25    356\n",
      "          15          275.00          275.0               275.00    275\n",
      "          17          265.62          265.0               268.75    266\n",
      "           4          256.25          255.0               256.25    256\n",
      "           8          175.00          175.0               175.00    175\n",
      "          16          140.62          140.0               137.50    140\n",
      "          14          120.31          120.0               118.75    120\n",
      "          10          110.94          110.0               112.50    111\n",
      "           6           82.81           85.0                81.25     83\n",
      "          19           79.69           80.0                75.00     79\n",
      "          23           76.56           75.0                75.00     76\n",
      "          12           67.19           70.0                68.75     68\n",
      "          18           60.94           60.0                56.25     60\n",
      "          13           39.06           40.0                37.50     39\n"
     ]
    }
   ],
   "source": [
    "from tensorflow.keras.utils import to_categorical\n",
    "\n",
    "# Calculate sample counts per class\n",
    "train_counts = np.count_nonzero(to_categorical(y_train), axis=0) / (0.8*0.8)\n",
    "test_counts = np.count_nonzero(to_categorical(y_test), axis=0) / 0.2\n",
    "val_counts = np.count_nonzero(to_categorical(y_val), axis=0) / (0.8*0.2)\n",
    "total_counts = np.count_nonzero(to_categorical(grouped_df['primary_site_cat'].values), axis=0)\n",
    "\n",
    "# Combine into a DataFrame\n",
    "df_counts = pd.DataFrame({\n",
    "    'Class Index': range(len(total_counts)),\n",
    "    'Train (scaled)': train_counts,\n",
    "    'Test (scaled)': test_counts,\n",
    "    'Validation (scaled)': val_counts,\n",
    "    'Total': total_counts\n",
    "})\n",
    "\n",
    "# Round for easier reading\n",
    "df_counts = df_counts.round(2)\n",
    "\n",
    "# Display sorted by Total count or any other logic\n",
    "print(df_counts.sort_values(by='Total', ascending=False).to_string(index=False))\n"
   ]
  },
  {
   "cell_type": "markdown",
   "id": "7ee67825",
   "metadata": {
    "papermill": {
     "duration": 0.015281,
     "end_time": "2025-06-29T14:10:23.115779",
     "exception": false,
     "start_time": "2025-06-29T14:10:23.100498",
     "status": "completed"
    },
    "tags": []
   },
   "source": [
    "The unbalanced classes were taken into acocunt"
   ]
  },
  {
   "cell_type": "code",
   "execution_count": null,
   "id": "7471f794",
   "metadata": {
    "papermill": {
     "duration": 0.016061,
     "end_time": "2025-06-29T14:10:23.148844",
     "exception": false,
     "start_time": "2025-06-29T14:10:23.132783",
     "status": "completed"
    },
    "tags": []
   },
   "outputs": [],
   "source": []
  },
  {
   "cell_type": "markdown",
   "id": "6e8f3f6c",
   "metadata": {
    "papermill": {
     "duration": 0.015122,
     "end_time": "2025-06-29T14:10:23.180188",
     "exception": false,
     "start_time": "2025-06-29T14:10:23.165066",
     "status": "completed"
    },
    "tags": []
   },
   "source": [
    "### Learning curve vs overfitting"
   ]
  },
  {
   "cell_type": "code",
   "execution_count": 53,
   "id": "94e6ccc0",
   "metadata": {
    "execution": {
     "iopub.execute_input": "2025-06-29T14:10:23.211623Z",
     "iopub.status.busy": "2025-06-29T14:10:23.211396Z",
     "iopub.status.idle": "2025-06-29T14:10:23.214564Z",
     "shell.execute_reply": "2025-06-29T14:10:23.213890Z"
    },
    "papermill": {
     "duration": 0.020312,
     "end_time": "2025-06-29T14:10:23.215693",
     "exception": false,
     "start_time": "2025-06-29T14:10:23.195381",
     "status": "completed"
    },
    "tags": []
   },
   "outputs": [],
   "source": [
    "# Kompilacja modelu\n",
    "#model.compile(optimizer='adam',\n",
    "#              loss='categorical_crossentropy',\n",
    "#              metrics=['accuracy', 'loss'])"
   ]
  },
  {
   "cell_type": "code",
   "execution_count": 54,
   "id": "f8d8b5d9",
   "metadata": {
    "execution": {
     "iopub.execute_input": "2025-06-29T14:10:23.247787Z",
     "iopub.status.busy": "2025-06-29T14:10:23.247186Z",
     "iopub.status.idle": "2025-06-29T14:10:23.250190Z",
     "shell.execute_reply": "2025-06-29T14:10:23.249670Z"
    },
    "papermill": {
     "duration": 0.019911,
     "end_time": "2025-06-29T14:10:23.251166",
     "exception": false,
     "start_time": "2025-06-29T14:10:23.231255",
     "status": "completed"
    },
    "tags": []
   },
   "outputs": [],
   "source": [
    "#history = train_model(model)"
   ]
  },
  {
   "cell_type": "code",
   "execution_count": 55,
   "id": "3191be25",
   "metadata": {
    "execution": {
     "iopub.execute_input": "2025-06-29T14:10:23.283148Z",
     "iopub.status.busy": "2025-06-29T14:10:23.282952Z",
     "iopub.status.idle": "2025-06-29T14:10:24.152195Z",
     "shell.execute_reply": "2025-06-29T14:10:24.151448Z"
    },
    "papermill": {
     "duration": 0.886756,
     "end_time": "2025-06-29T14:10:24.153359",
     "exception": false,
     "start_time": "2025-06-29T14:10:23.266603",
     "status": "completed"
    },
    "tags": []
   },
   "outputs": [
    {
     "name": "stdout",
     "output_type": "stream",
     "text": [
      "Epoch   0 | Loss: 3.1821 | Val Loss: 3.1016 | Train Acc: 0.0625 | Val Acc: 0.1892\n",
      "Epoch  10 | Loss: 2.2979 | Val Loss: 2.3013 | Train Acc: 0.4365 | Val Acc: 0.4414\n",
      "Epoch  20 | Loss: 1.4952 | Val Loss: 1.5828 | Train Acc: 0.6865 | Val Acc: 0.6637\n",
      "Epoch  30 | Loss: 0.8761 | Val Loss: 1.0432 | Train Acc: 0.8169 | Val Acc: 0.7567\n",
      "Epoch  40 | Loss: 0.5135 | Val Loss: 0.7419 | Train Acc: 0.8766 | Val Acc: 0.8165\n",
      "Epoch  50 | Loss: 0.3142 | Val Loss: 0.5948 | Train Acc: 0.9221 | Val Acc: 0.8399\n",
      "Epoch  60 | Loss: 0.2038 | Val Loss: 0.5256 | Train Acc: 0.9472 | Val Acc: 0.8561\n",
      "Epoch  70 | Loss: 0.1401 | Val Loss: 0.4964 | Train Acc: 0.9676 | Val Acc: 0.8601\n",
      "Epoch  80 | Loss: 0.0997 | Val Loss: 0.4884 | Train Acc: 0.9794 | Val Acc: 0.8666\n",
      "Epoch  90 | Loss: 0.0731 | Val Loss: 0.4939 | Train Acc: 0.9873 | Val Acc: 0.8593\n"
     ]
    }
   ],
   "source": [
    "import torch\n",
    "import torch.nn as nn\n",
    "import torch.optim as optim\n",
    "from sklearn.model_selection import train_test_split\n",
    "import numpy as np\n",
    "\n",
    "device = torch.device(\"cuda\" if torch.cuda.is_available() else \"cpu\")\n",
    "\n",
    "# ---------------------- Split the dataset ------------------------\n",
    "y_labels = y_primary_site \n",
    "\n",
    "# Split with stratification\n",
    "X_train, X_test, y_train, y_test = train_test_split(X_scaled, y_labels, test_size=0.2, stratify=y_labels, random_state=42)\n",
    "X_train, X_val, y_train, y_val = train_test_split(X_train, y_train, test_size=0.2, stratify=y_train, random_state=42)\n",
    "\n",
    "# Function to split feature groups\n",
    "def split_inputs(X):\n",
    "    return (\n",
    "        torch.tensor(X[:, :135], dtype=torch.float32),\n",
    "        torch.tensor(X[:, 135:262], dtype=torch.float32),\n",
    "        torch.tensor(X[:, 262:1056], dtype=torch.float32),\n",
    "        torch.tensor(X[:, 1056:], dtype=torch.float32)\n",
    "    )\n",
    "\n",
    "# Convert and split (so that each trait group has its own input)\n",
    "X_train_parts = [part.to(device) for part in split_inputs(X_train)]\n",
    "X_val_parts = [part.to(device) for part in split_inputs(X_val)]\n",
    "X_test_parts = [part.to(device) for part in split_inputs(X_test)]\n",
    "\n",
    "y_train_tensor = torch.tensor(y_train, dtype=torch.long).to(device)\n",
    "y_val_tensor = torch.tensor(y_val, dtype=torch.long).to(device)\n",
    "y_test_tensor = torch.tensor(y_test, dtype=torch.long).to(device)\n",
    "\n",
    "# ---------------------- Model Definition ------------------------\n",
    "class MultiInputModel(nn.Module):\n",
    "    def __init__(self, dim_bin, dim_gene, dim_motif, dim_rna, hidden=128, output_dim=24):\n",
    "        super(MultiInputModel, self).__init__()\n",
    "\n",
    "        # Multiple inputs for traits\n",
    "        self.fc_bin = nn.Sequential(nn.Linear(dim_bin, hidden), nn.ReLU())\n",
    "        self.fc_gene = nn.Sequential(nn.Linear(dim_gene, hidden), nn.ReLU())\n",
    "        self.fc_motif = nn.Sequential(nn.Linear(dim_motif, hidden), nn.ReLU())\n",
    "        self.fc_rna = nn.Sequential(nn.Linear(dim_rna, hidden), nn.ReLU())\n",
    "\n",
    "        self.fc_combined = nn.Sequential(\n",
    "            nn.Linear(hidden * 4, 128),\n",
    "            nn.ReLU(),\n",
    "            nn.Linear(128, output_dim)\n",
    "        )\n",
    "\n",
    "    def forward(self, X_bin, X_gene, X_motif, X_rna):\n",
    "        out_bin = self.fc_bin(X_bin)\n",
    "        out_gene = self.fc_gene(X_gene)\n",
    "        out_motif = self.fc_motif(X_motif)\n",
    "        out_rna = self.fc_rna(X_rna)\n",
    "        out = torch.cat([out_bin, out_gene, out_motif, out_rna], dim=1)\n",
    "        return self.fc_combined(out)\n",
    "\n",
    "# ---------------------- Initialize ------------------------\n",
    "model = MultiInputModel(\n",
    "    dim_bin=X_bin.shape[1],\n",
    "    dim_gene=X_gene.shape[1],\n",
    "    dim_motif=X_motif.shape[1],\n",
    "    dim_rna=X_rna.shape[1]\n",
    ").to(device)\n",
    "\n",
    "criterion = nn.CrossEntropyLoss()\n",
    "optimizer = optim.Adam(model.parameters(), lr=0.001)\n",
    "\n",
    "# ---------------------- Training Loop ------------------------\n",
    "def train_model(model, epochs=100):\n",
    "    history = {'loss': [], 'val_loss': [], 'accuracy': [], 'val_accuracy': []}\n",
    "\n",
    "    for epoch in range(epochs):\n",
    "        model.train()\n",
    "        optimizer.zero_grad()\n",
    "\n",
    "        y_pred_train = model(*X_train_parts)\n",
    "        loss = criterion(y_pred_train, y_train_tensor)\n",
    "        loss.backward()\n",
    "        optimizer.step()\n",
    "\n",
    "        train_acc = (y_pred_train.argmax(dim=1) == y_train_tensor).float().mean().item()\n",
    "\n",
    "        # Validation\n",
    "        model.eval()\n",
    "        with torch.no_grad():\n",
    "            y_pred_val = model(*X_val_parts)\n",
    "            val_loss = criterion(y_pred_val, y_val_tensor)\n",
    "            val_acc = (y_pred_val.argmax(dim=1) == y_val_tensor).float().mean().item()\n",
    "\n",
    "        history['loss'].append(loss.item())\n",
    "        history['val_loss'].append(val_loss.item())\n",
    "        history['accuracy'].append(train_acc)\n",
    "        history['val_accuracy'].append(val_acc)\n",
    "\n",
    "        if epoch % 10 == 0:\n",
    "            print(f\"Epoch {epoch:3d} | Loss: {loss.item():.4f} | Val Loss: {val_loss.item():.4f} | Train Acc: {train_acc:.4f} | Val Acc: {val_acc:.4f}\")\n",
    "\n",
    "    return history\n",
    "\n",
    "# ---------------------- Train the model ------------------------\n",
    "history = train_model(model, epochs=100)\n"
   ]
  },
  {
   "cell_type": "markdown",
   "id": "ef7a145a",
   "metadata": {
    "papermill": {
     "duration": 0.015718,
     "end_time": "2025-06-29T14:10:24.185551",
     "exception": false,
     "start_time": "2025-06-29T14:10:24.169833",
     "status": "completed"
    },
    "tags": []
   },
   "source": [
    "## 4. Ocena overfittingu  \n",
    "### 1. Wizualizacja uczenia  \n",
    "• Krzywe loss/accuracy dla zbioru treningowego i walidacyjnego.  "
   ]
  },
  {
   "cell_type": "code",
   "execution_count": 56,
   "id": "57a2dd3f",
   "metadata": {
    "execution": {
     "iopub.execute_input": "2025-06-29T14:10:24.217754Z",
     "iopub.status.busy": "2025-06-29T14:10:24.217362Z",
     "iopub.status.idle": "2025-06-29T14:10:24.595026Z",
     "shell.execute_reply": "2025-06-29T14:10:24.594348Z"
    },
    "papermill": {
     "duration": 0.395379,
     "end_time": "2025-06-29T14:10:24.596592",
     "exception": false,
     "start_time": "2025-06-29T14:10:24.201213",
     "status": "completed"
    },
    "tags": []
   },
   "outputs": [
    {
     "data": {
      "image/png": "[encoded data removed]",
      "text/plain": [
       "<Figure size 1200x600 with 2 Axes>"
      ]
     },
     "metadata": {},
     "output_type": "display_data"
    }
   ],
   "source": [
    "import matplotlib.pyplot as plt\n",
    "\n",
    "acc = history['accuracy']\n",
    "val_acc = history['val_accuracy']\n",
    "loss = history['loss']\n",
    "val_loss = history['val_loss']\n",
    "\n",
    "epochs = range(1, len(acc) + 1)\n",
    "\n",
    "plt.figure(figsize=(12, 6))\n",
    "plt.subplot(1, 2, 1)\n",
    "plt.plot(epochs, acc, 'bo', label='Dokładność treningowa')\n",
    "plt.plot(epochs, val_acc, 'b', label='Dokładność walidacyjna')\n",
    "plt.title('Dokładność treningowa i walidacyjna')\n",
    "plt.xlabel('Epoki')\n",
    "plt.ylabel('Dokładność')\n",
    "\n",
    "plt.legend()\n",
    "\n",
    "plt.subplot(1, 2, 2)\n",
    "plt.plot(epochs, loss, 'bo', label='Strata treningowa')\n",
    "plt.plot(epochs, val_loss, 'b', label='Strata walidacyjna')\n",
    "plt.title('Strata treningowa i walidacyjna')\n",
    "plt.xlabel('Epoki')\n",
    "plt.ylabel('Strata')\n",
    "plt.legend()\n",
    "\n",
    "plt.tight_layout()\n",
    "plt.show()"
   ]
  },
  {
   "cell_type": "markdown",
   "id": "e224b800",
   "metadata": {
    "papermill": {
     "duration": 0.017167,
     "end_time": "2025-06-29T14:10:24.631662",
     "exception": false,
     "start_time": "2025-06-29T14:10:24.614495",
     "status": "completed"
    },
    "tags": []
   },
   "source": [
    "### 2. Metryki  \n",
    "• Accuracy, precision, recall, F1 na zbiorze walidacyjnym.  "
   ]
  },
  {
   "cell_type": "code",
   "execution_count": null,
   "id": "800f310f",
   "metadata": {
    "papermill": {
     "duration": 0.01624,
     "end_time": "2025-06-29T14:10:24.664476",
     "exception": false,
     "start_time": "2025-06-29T14:10:24.648236",
     "status": "completed"
    },
    "tags": []
   },
   "outputs": [],
   "source": []
  },
  {
   "cell_type": "markdown",
   "id": "aa1274b3",
   "metadata": {
    "papermill": {
     "duration": 0.016357,
     "end_time": "2025-06-29T14:10:24.697141",
     "exception": false,
     "start_time": "2025-06-29T14:10:24.680784",
     "status": "completed"
    },
    "tags": []
   },
   "source": [
    "### 3. Identyfikacja overfittingu  \n",
    "• Nierozbieżność miedzy strata/train a strata/val.  \n",
    "• Spadek lub stagnacja accuracy/val przy rosnacym accuracy/train."
   ]
  },
  {
   "cell_type": "code",
   "execution_count": null,
   "id": "17a3a5fd",
   "metadata": {
    "papermill": {
     "duration": 0.016236,
     "end_time": "2025-06-29T14:10:24.729738",
     "exception": false,
     "start_time": "2025-06-29T14:10:24.713502",
     "status": "completed"
    },
    "tags": []
   },
   "outputs": [],
   "source": []
  }
 ],
 "metadata": {
  "kaggle": {
   "accelerator": "gpu",
   "dataSources": [
    {
     "datasetId": 7030230,
     "sourceId": 11458791,
     "sourceType": "datasetVersion"
    }
   ],
   "dockerImageVersionId": 31040,
   "isGpuEnabled": true,
   "isInternetEnabled": true,
   "language": "python",
   "sourceType": "notebook"
  },
  "kernelspec": {
   "display_name": "Python 3",
   "language": "python",
   "name": "python3"
  },
  "language_info": {
   "codemirror_mode": {
    "name": "ipython",
    "version": 3
   },
   "file_extension": ".py",
   "mimetype": "text/x-python",
   "name": "python",
   "nbconvert_exporter": "python",
   "pygments_lexer": "ipython3",
   "version": "3.11.11"
  },
  "papermill": {
   "default_parameters": {},
   "duration": 261.311984,
   "end_time": "2025-06-29T14:10:27.563510",
   "environment_variables": {},
   "exception": null,
   "input_path": "__notebook__.ipynb",
   "output_path": "__notebook__.ipynb",
   "parameters": {},
   "start_time": "2025-06-29T14:06:06.251526",
   "version": "2.6.0"
  }
 },
 "nbformat": 4,
 "nbformat_minor": 5
}
